{
  "nbformat": 4,
  "nbformat_minor": 0,
  "metadata": {
    "kernelspec": {
      "display_name": "Python 3",
      "language": "python",
      "name": "python3"
    },
    "language_info": {
      "codemirror_mode": {
        "name": "ipython",
        "version": 3
      },
      "file_extension": ".py",
      "mimetype": "text/x-python",
      "name": "python",
      "nbconvert_exporter": "python",
      "pygments_lexer": "ipython3",
      "version": "3.7.1"
    },
    "colab": {
      "name": "Social_media_Segmentation1_preprocessing.ipynb",
      "provenance": [],
      "collapsed_sections": []
    }
  },
  "cells": [
    {
      "cell_type": "markdown",
      "metadata": {
        "id": "gScX28A6PjLO"
      },
      "source": [
        "***A. Data Cleaning and Pre-processing***"
      ]
    },
    {
      "cell_type": "code",
      "metadata": {
        "id": "VLl6hy5aIACr",
        "outputId": "87a6fbef-48b3-4185-ca8b-06b95fe16c57",
        "colab": {
          "base_uri": "https://localhost:8080/",
          "height": 119
        }
      },
      "source": [
        "!pip install vaderSentiment"
      ],
      "execution_count": null,
      "outputs": [
        {
          "output_type": "stream",
          "text": [
            "Requirement already satisfied: vaderSentiment in /usr/local/lib/python3.6/dist-packages (3.3.2)\n",
            "Requirement already satisfied: requests in /usr/local/lib/python3.6/dist-packages (from vaderSentiment) (2.23.0)\n",
            "Requirement already satisfied: certifi>=2017.4.17 in /usr/local/lib/python3.6/dist-packages (from requests->vaderSentiment) (2020.4.5.2)\n",
            "Requirement already satisfied: idna<3,>=2.5 in /usr/local/lib/python3.6/dist-packages (from requests->vaderSentiment) (2.9)\n",
            "Requirement already satisfied: urllib3!=1.25.0,!=1.25.1,<1.26,>=1.21.1 in /usr/local/lib/python3.6/dist-packages (from requests->vaderSentiment) (1.24.3)\n",
            "Requirement already satisfied: chardet<4,>=3.0.2 in /usr/local/lib/python3.6/dist-packages (from requests->vaderSentiment) (3.0.4)\n"
          ],
          "name": "stdout"
        }
      ]
    },
    {
      "cell_type": "code",
      "metadata": {
        "id": "MWFrYwWOINn_",
        "outputId": "2e53ec9c-bf07-4fd3-c287-c3f0a13167ce",
        "colab": {
          "base_uri": "https://localhost:8080/",
          "height": 34
        }
      },
      "source": [
        "!pip install gender_guesser"
      ],
      "execution_count": null,
      "outputs": [
        {
          "output_type": "stream",
          "text": [
            "Requirement already satisfied: gender_guesser in /usr/local/lib/python3.6/dist-packages (0.4.0)\n"
          ],
          "name": "stdout"
        }
      ]
    },
    {
      "cell_type": "code",
      "metadata": {
        "id": "DRVaAbHuHtey",
        "outputId": "b658372e-cc67-48d2-dea6-81a082f5f2e6",
        "colab": {
          "base_uri": "https://localhost:8080/",
          "height": 102
        }
      },
      "source": [
        "!pip install kmodes"
      ],
      "execution_count": null,
      "outputs": [
        {
          "output_type": "stream",
          "text": [
            "Requirement already satisfied: kmodes in /usr/local/lib/python3.6/dist-packages (0.10.2)\n",
            "Requirement already satisfied: joblib>=0.11 in /usr/local/lib/python3.6/dist-packages (from kmodes) (0.15.1)\n",
            "Requirement already satisfied: scipy>=0.13.3 in /usr/local/lib/python3.6/dist-packages (from kmodes) (1.4.1)\n",
            "Requirement already satisfied: scikit-learn>=0.19.0 in /usr/local/lib/python3.6/dist-packages (from kmodes) (0.22.2.post1)\n",
            "Requirement already satisfied: numpy>=1.10.4 in /usr/local/lib/python3.6/dist-packages (from kmodes) (1.18.5)\n"
          ],
          "name": "stdout"
        }
      ]
    },
    {
      "cell_type": "code",
      "metadata": {
        "id": "HNegwgGWUmOR",
        "outputId": "e5d69a61-0205-4ef3-98e7-a682d4f1f499",
        "colab": {
          "base_uri": "https://localhost:8080/",
          "height": 71
        }
      },
      "source": [
        "import pandas as pd\n",
        "import os\n",
        "import glob\n",
        "import numpy as np\n",
        "\n",
        "import random\n",
        "from kmodes.kprototypes import KPrototypes\n",
        "import matplotlib.pyplot as plt\n",
        "from matplotlib import style\n",
        "import seaborn as sns\n",
        "import warnings\n",
        "warnings.filterwarnings(\"ignore\")"
      ],
      "execution_count": null,
      "outputs": [
        {
          "output_type": "stream",
          "text": [
            "/usr/local/lib/python3.6/dist-packages/statsmodels/tools/_testing.py:19: FutureWarning: pandas.util.testing is deprecated. Use the functions in the public API at pandas.testing instead.\n",
            "  import pandas.util.testing as tm\n"
          ],
          "name": "stderr"
        }
      ]
    },
    {
      "cell_type": "code",
      "metadata": {
        "id": "J1KWlZANUmOX"
      },
      "source": [
        "pd.options.display.max_rows=4000\n",
        "pd.options.display.max_columns= None"
      ],
      "execution_count": null,
      "outputs": []
    },
    {
      "cell_type": "code",
      "metadata": {
        "id": "PUMBh6OfU630",
        "outputId": "a5631ae6-7198-4334-ac42-5d4ea928c193",
        "colab": {
          "base_uri": "https://localhost:8080/",
          "height": 34
        }
      },
      "source": [
        "from google.colab import drive\n",
        "drive.mount(\"/content/drive\", force_remount=True)"
      ],
      "execution_count": null,
      "outputs": [
        {
          "output_type": "stream",
          "text": [
            "Mounted at /content/drive\n"
          ],
          "name": "stdout"
        }
      ]
    },
    {
      "cell_type": "code",
      "metadata": {
        "id": "-4V6HNeIXNFr",
        "outputId": "7512ca39-05b8-4f9f-bec1-1d43cd882e90",
        "colab": {
          "base_uri": "https://localhost:8080/",
          "height": 54
        }
      },
      "source": [
        "\"\"\"\n",
        "path = \"/content/drive/My Drive/data\"\n",
        "all_files = glob.glob(os.path.join(path, \"*.xlsx\"))\n",
        "\n",
        "li = []\n",
        "\n",
        "for filename in all_files:\n",
        "    df = pd.read_excel(filename, index_col=None, header=0)\n",
        "    li.append(df)\n",
        "    \n",
        "frame=pd.concat(li, axis=0, ignore_index=True)\n",
        "\n",
        "print(frame.head())\n",
        "\n",
        "\"\"\""
      ],
      "execution_count": null,
      "outputs": [
        {
          "output_type": "execute_result",
          "data": {
            "text/plain": [
              "'\\npath = \"/content/drive/My Drive/data\"\\nall_files = glob.glob(os.path.join(path, \"*.xlsx\"))\\n\\nli = []\\n\\nfor filename in all_files:\\n    df = pd.read_excel(filename, index_col=None, header=0)\\n    li.append(df)\\n    \\nframe=pd.concat(li, axis=0, ignore_index=True)\\n\\nprint(frame.head())\\n\\n'"
            ]
          },
          "metadata": {
            "tags": []
          },
          "execution_count": 7
        }
      ]
    },
    {
      "cell_type": "code",
      "metadata": {
        "id": "UlN-hZCsfqnI",
        "outputId": "a5ac2b90-b84a-44fa-e734-520c682fe86f",
        "colab": {
          "base_uri": "https://localhost:8080/",
          "height": 34
        }
      },
      "source": [
        "\"\"\"\n",
        "frame.to_pickle(\"/content/drive/My Drive/data/frame.pkl\")\n",
        "\"\"\""
      ],
      "execution_count": null,
      "outputs": [
        {
          "output_type": "execute_result",
          "data": {
            "text/plain": [
              "'\\nframe.to_pickle(\"/content/drive/My Drive/data/frame.pkl\")\\n'"
            ]
          },
          "metadata": {
            "tags": []
          },
          "execution_count": 8
        }
      ]
    },
    {
      "cell_type": "code",
      "metadata": {
        "id": "rv1jVxBaeM2_"
      },
      "source": [
        "frame = pd.read_pickle('/content/drive/My Drive/data/frame.pkl')"
      ],
      "execution_count": null,
      "outputs": []
    },
    {
      "cell_type": "code",
      "metadata": {
        "id": "S-S2OUDwUmOh",
        "outputId": "7b3dc864-5623-4096-cdd2-de62c5e73299",
        "colab": {
          "base_uri": "https://localhost:8080/",
          "height": 351
        }
      },
      "source": [
        "#Dataframe statistics\n",
        "frame.describe()"
      ],
      "execution_count": null,
      "outputs": [
        {
          "output_type": "execute_result",
          "data": {
            "text/html": [
              "<div>\n",
              "<style scoped>\n",
              "    .dataframe tbody tr th:only-of-type {\n",
              "        vertical-align: middle;\n",
              "    }\n",
              "\n",
              "    .dataframe tbody tr th {\n",
              "        vertical-align: top;\n",
              "    }\n",
              "\n",
              "    .dataframe thead th {\n",
              "        text-align: right;\n",
              "    }\n",
              "</style>\n",
              "<table border=\"1\" class=\"dataframe\">\n",
              "  <thead>\n",
              "    <tr style=\"text-align: right;\">\n",
              "      <th></th>\n",
              "      <th>Query Id</th>\n",
              "      <th>Average Visits per Visitor</th>\n",
              "      <th>Backlinks</th>\n",
              "      <th>Blog Comments</th>\n",
              "      <th>Facebook Comments</th>\n",
              "      <th>Facebook Likes</th>\n",
              "      <th>Facebook Role</th>\n",
              "      <th>Facebook Shares</th>\n",
              "      <th>Forum Views</th>\n",
              "      <th>Impressions</th>\n",
              "      <th>Instagram Comments</th>\n",
              "      <th>Instagram Followers</th>\n",
              "      <th>Instagram Following</th>\n",
              "      <th>Instagram Likes</th>\n",
              "      <th>Instagram Posts</th>\n",
              "      <th>Kred Outreach</th>\n",
              "      <th>Last Assignment Date</th>\n",
              "      <th>Latitude</th>\n",
              "      <th>Percentage Female</th>\n",
              "      <th>Percentage Male</th>\n",
              "      <th>Priority</th>\n",
              "      <th>Resource Id</th>\n",
              "      <th>Total Monthly Visitors</th>\n",
              "      <th>Tracked Link Clicks</th>\n",
              "      <th>Tracked Links</th>\n",
              "      <th>Twitter Author ID</th>\n",
              "      <th>Twitter Channel Role</th>\n",
              "      <th>Twitter Followers</th>\n",
              "      <th>Twitter Following</th>\n",
              "      <th>Twitter Reply Count</th>\n",
              "      <th>Twitter Retweets</th>\n",
              "      <th>Twitter Tweets</th>\n",
              "      <th>mozRank Score</th>\n",
              "      <th>Unnamed: 103</th>\n",
              "    </tr>\n",
              "  </thead>\n",
              "  <tbody>\n",
              "    <tr>\n",
              "      <th>count</th>\n",
              "      <td>1.985200e+05</td>\n",
              "      <td>198520.000000</td>\n",
              "      <td>1.985200e+05</td>\n",
              "      <td>1.985200e+05</td>\n",
              "      <td>184515.0</td>\n",
              "      <td>198520.0</td>\n",
              "      <td>14005.0</td>\n",
              "      <td>184515.0</td>\n",
              "      <td>1.985200e+05</td>\n",
              "      <td>1.985200e+05</td>\n",
              "      <td>1.985200e+05</td>\n",
              "      <td>198520.000000</td>\n",
              "      <td>198520.000000</td>\n",
              "      <td>198520.000000</td>\n",
              "      <td>198520.000000</td>\n",
              "      <td>198520.000000</td>\n",
              "      <td>14005.000000</td>\n",
              "      <td>184515.000000</td>\n",
              "      <td>198520.000000</td>\n",
              "      <td>198520.000000</td>\n",
              "      <td>14005.000000</td>\n",
              "      <td>1.985200e+05</td>\n",
              "      <td>1.845150e+05</td>\n",
              "      <td>1.985200e+05</td>\n",
              "      <td>14005.0</td>\n",
              "      <td>1.682180e+05</td>\n",
              "      <td>1.278200e+04</td>\n",
              "      <td>1.845150e+05</td>\n",
              "      <td>1.985200e+05</td>\n",
              "      <td>198520.000000</td>\n",
              "      <td>184515.000000</td>\n",
              "      <td>1.985200e+05</td>\n",
              "      <td>184515.000000</td>\n",
              "      <td>14005.000000</td>\n",
              "    </tr>\n",
              "    <tr>\n",
              "      <th>mean</th>\n",
              "      <td>1.999102e+09</td>\n",
              "      <td>6.530491</td>\n",
              "      <td>4.246879e+07</td>\n",
              "      <td>3.223680e+06</td>\n",
              "      <td>0.0</td>\n",
              "      <td>0.0</td>\n",
              "      <td>0.0</td>\n",
              "      <td>0.0</td>\n",
              "      <td>3.885568e+02</td>\n",
              "      <td>7.142756e+03</td>\n",
              "      <td>3.687381e+02</td>\n",
              "      <td>29.913812</td>\n",
              "      <td>6.385901</td>\n",
              "      <td>1.831951</td>\n",
              "      <td>0.557022</td>\n",
              "      <td>41.871207</td>\n",
              "      <td>3.306176</td>\n",
              "      <td>7.225590</td>\n",
              "      <td>40.732828</td>\n",
              "      <td>49.317338</td>\n",
              "      <td>50.116030</td>\n",
              "      <td>1.169560e+11</td>\n",
              "      <td>5.790648e+09</td>\n",
              "      <td>3.929224e+08</td>\n",
              "      <td>0.0</td>\n",
              "      <td>6.918148e+16</td>\n",
              "      <td>2.488215e+16</td>\n",
              "      <td>5.655597e+03</td>\n",
              "      <td>1.564515e+03</td>\n",
              "      <td>72.972139</td>\n",
              "      <td>0.599149</td>\n",
              "      <td>2.199132e+04</td>\n",
              "      <td>9.389212</td>\n",
              "      <td>9.405717</td>\n",
              "    </tr>\n",
              "    <tr>\n",
              "      <th>std</th>\n",
              "      <td>1.054681e+01</td>\n",
              "      <td>4.376743</td>\n",
              "      <td>1.743013e+07</td>\n",
              "      <td>1.223465e+07</td>\n",
              "      <td>0.0</td>\n",
              "      <td>0.0</td>\n",
              "      <td>0.0</td>\n",
              "      <td>0.0</td>\n",
              "      <td>2.698299e+04</td>\n",
              "      <td>1.652276e+05</td>\n",
              "      <td>1.405137e+04</td>\n",
              "      <td>3267.732508</td>\n",
              "      <td>1265.836326</td>\n",
              "      <td>72.892636</td>\n",
              "      <td>38.775486</td>\n",
              "      <td>153.186080</td>\n",
              "      <td>3.322595</td>\n",
              "      <td>18.070599</td>\n",
              "      <td>13.482551</td>\n",
              "      <td>14.442224</td>\n",
              "      <td>14.094386</td>\n",
              "      <td>3.691259e+10</td>\n",
              "      <td>5.596327e+09</td>\n",
              "      <td>1.678807e+09</td>\n",
              "      <td>0.0</td>\n",
              "      <td>2.220257e+17</td>\n",
              "      <td>1.324519e+17</td>\n",
              "      <td>8.981149e+04</td>\n",
              "      <td>1.369412e+04</td>\n",
              "      <td>709.315789</td>\n",
              "      <td>28.418792</td>\n",
              "      <td>9.421524e+04</td>\n",
              "      <td>1.134759</td>\n",
              "      <td>0.988157</td>\n",
              "    </tr>\n",
              "    <tr>\n",
              "      <th>min</th>\n",
              "      <td>1.999102e+09</td>\n",
              "      <td>0.000000</td>\n",
              "      <td>0.000000e+00</td>\n",
              "      <td>0.000000e+00</td>\n",
              "      <td>0.0</td>\n",
              "      <td>0.0</td>\n",
              "      <td>0.0</td>\n",
              "      <td>0.0</td>\n",
              "      <td>0.000000e+00</td>\n",
              "      <td>0.000000e+00</td>\n",
              "      <td>0.000000e+00</td>\n",
              "      <td>0.000000</td>\n",
              "      <td>0.000000</td>\n",
              "      <td>0.000000</td>\n",
              "      <td>0.000000</td>\n",
              "      <td>0.000000</td>\n",
              "      <td>0.000000</td>\n",
              "      <td>0.000000</td>\n",
              "      <td>0.000000</td>\n",
              "      <td>0.000000</td>\n",
              "      <td>0.000000</td>\n",
              "      <td>0.000000e+00</td>\n",
              "      <td>0.000000e+00</td>\n",
              "      <td>0.000000e+00</td>\n",
              "      <td>0.0</td>\n",
              "      <td>1.166100e+04</td>\n",
              "      <td>2.337300e+04</td>\n",
              "      <td>0.000000e+00</td>\n",
              "      <td>0.000000e+00</td>\n",
              "      <td>0.000000</td>\n",
              "      <td>0.000000</td>\n",
              "      <td>0.000000e+00</td>\n",
              "      <td>0.000000</td>\n",
              "      <td>0.000000</td>\n",
              "    </tr>\n",
              "    <tr>\n",
              "      <th>25%</th>\n",
              "      <td>1.999102e+09</td>\n",
              "      <td>6.000000</td>\n",
              "      <td>4.985073e+07</td>\n",
              "      <td>0.000000e+00</td>\n",
              "      <td>0.0</td>\n",
              "      <td>0.0</td>\n",
              "      <td>0.0</td>\n",
              "      <td>0.0</td>\n",
              "      <td>0.000000e+00</td>\n",
              "      <td>9.900000e+01</td>\n",
              "      <td>0.000000e+00</td>\n",
              "      <td>0.000000</td>\n",
              "      <td>0.000000</td>\n",
              "      <td>0.000000</td>\n",
              "      <td>0.000000</td>\n",
              "      <td>0.000000</td>\n",
              "      <td>0.000000</td>\n",
              "      <td>0.000000</td>\n",
              "      <td>46.000000</td>\n",
              "      <td>54.000000</td>\n",
              "      <td>54.000000</td>\n",
              "      <td>1.051755e+11</td>\n",
              "      <td>6.000000e+09</td>\n",
              "      <td>0.000000e+00</td>\n",
              "      <td>0.0</td>\n",
              "      <td>1.309619e+08</td>\n",
              "      <td>7.799556e+07</td>\n",
              "      <td>1.500000e+02</td>\n",
              "      <td>1.710000e+02</td>\n",
              "      <td>0.000000</td>\n",
              "      <td>0.000000</td>\n",
              "      <td>5.470000e+02</td>\n",
              "      <td>9.600000</td>\n",
              "      <td>9.600000</td>\n",
              "    </tr>\n",
              "    <tr>\n",
              "      <th>50%</th>\n",
              "      <td>1.999102e+09</td>\n",
              "      <td>6.000000</td>\n",
              "      <td>4.985073e+07</td>\n",
              "      <td>0.000000e+00</td>\n",
              "      <td>0.0</td>\n",
              "      <td>0.0</td>\n",
              "      <td>0.0</td>\n",
              "      <td>0.0</td>\n",
              "      <td>0.000000e+00</td>\n",
              "      <td>4.110000e+02</td>\n",
              "      <td>0.000000e+00</td>\n",
              "      <td>0.000000</td>\n",
              "      <td>0.000000</td>\n",
              "      <td>0.000000</td>\n",
              "      <td>0.000000</td>\n",
              "      <td>0.000000</td>\n",
              "      <td>3.000000</td>\n",
              "      <td>0.000000</td>\n",
              "      <td>46.000000</td>\n",
              "      <td>54.000000</td>\n",
              "      <td>54.000000</td>\n",
              "      <td>1.237551e+11</td>\n",
              "      <td>6.000000e+09</td>\n",
              "      <td>0.000000e+00</td>\n",
              "      <td>0.0</td>\n",
              "      <td>4.260333e+08</td>\n",
              "      <td>3.092623e+08</td>\n",
              "      <td>4.450000e+02</td>\n",
              "      <td>4.230000e+02</td>\n",
              "      <td>0.000000</td>\n",
              "      <td>0.000000</td>\n",
              "      <td>4.958000e+03</td>\n",
              "      <td>9.600000</td>\n",
              "      <td>9.600000</td>\n",
              "    </tr>\n",
              "    <tr>\n",
              "      <th>75%</th>\n",
              "      <td>1.999102e+09</td>\n",
              "      <td>6.000000</td>\n",
              "      <td>4.985073e+07</td>\n",
              "      <td>0.000000e+00</td>\n",
              "      <td>0.0</td>\n",
              "      <td>0.0</td>\n",
              "      <td>0.0</td>\n",
              "      <td>0.0</td>\n",
              "      <td>0.000000e+00</td>\n",
              "      <td>1.201000e+03</td>\n",
              "      <td>0.000000e+00</td>\n",
              "      <td>0.000000</td>\n",
              "      <td>0.000000</td>\n",
              "      <td>0.000000</td>\n",
              "      <td>0.000000</td>\n",
              "      <td>6.000000</td>\n",
              "      <td>6.000000</td>\n",
              "      <td>0.000000</td>\n",
              "      <td>46.000000</td>\n",
              "      <td>54.000000</td>\n",
              "      <td>54.000000</td>\n",
              "      <td>1.425853e+11</td>\n",
              "      <td>6.000000e+09</td>\n",
              "      <td>0.000000e+00</td>\n",
              "      <td>0.0</td>\n",
              "      <td>2.282636e+09</td>\n",
              "      <td>1.175378e+09</td>\n",
              "      <td>1.188000e+03</td>\n",
              "      <td>9.470000e+02</td>\n",
              "      <td>0.000000</td>\n",
              "      <td>0.000000</td>\n",
              "      <td>1.709400e+04</td>\n",
              "      <td>9.600000</td>\n",
              "      <td>9.600000</td>\n",
              "    </tr>\n",
              "    <tr>\n",
              "      <th>max</th>\n",
              "      <td>1.999102e+09</td>\n",
              "      <td>22.000000</td>\n",
              "      <td>4.985073e+07</td>\n",
              "      <td>4.985073e+07</td>\n",
              "      <td>0.0</td>\n",
              "      <td>0.0</td>\n",
              "      <td>0.0</td>\n",
              "      <td>0.0</td>\n",
              "      <td>7.131975e+06</td>\n",
              "      <td>3.795821e+07</td>\n",
              "      <td>3.144971e+06</td>\n",
              "      <td>441460.000000</td>\n",
              "      <td>324249.000000</td>\n",
              "      <td>12110.000000</td>\n",
              "      <td>8972.000000</td>\n",
              "      <td>998.000000</td>\n",
              "      <td>12.000000</td>\n",
              "      <td>74.867889</td>\n",
              "      <td>78.000000</td>\n",
              "      <td>100.000000</td>\n",
              "      <td>100.000000</td>\n",
              "      <td>1.567051e+11</td>\n",
              "      <td>1.000000e+11</td>\n",
              "      <td>1.000000e+11</td>\n",
              "      <td>0.0</td>\n",
              "      <td>9.136667e+17</td>\n",
              "      <td>7.811178e+17</td>\n",
              "      <td>8.593700e+06</td>\n",
              "      <td>3.140319e+06</td>\n",
              "      <td>129495.000000</td>\n",
              "      <td>6428.000000</td>\n",
              "      <td>2.090129e+06</td>\n",
              "      <td>9.600000</td>\n",
              "      <td>9.600000</td>\n",
              "    </tr>\n",
              "  </tbody>\n",
              "</table>\n",
              "</div>"
            ],
            "text/plain": [
              "           Query Id  Average Visits per Visitor     Backlinks  Blog Comments  \\\n",
              "count  1.985200e+05               198520.000000  1.985200e+05   1.985200e+05   \n",
              "mean   1.999102e+09                    6.530491  4.246879e+07   3.223680e+06   \n",
              "std    1.054681e+01                    4.376743  1.743013e+07   1.223465e+07   \n",
              "min    1.999102e+09                    0.000000  0.000000e+00   0.000000e+00   \n",
              "25%    1.999102e+09                    6.000000  4.985073e+07   0.000000e+00   \n",
              "50%    1.999102e+09                    6.000000  4.985073e+07   0.000000e+00   \n",
              "75%    1.999102e+09                    6.000000  4.985073e+07   0.000000e+00   \n",
              "max    1.999102e+09                   22.000000  4.985073e+07   4.985073e+07   \n",
              "\n",
              "       Facebook Comments  Facebook Likes  Facebook Role  Facebook Shares  \\\n",
              "count           184515.0        198520.0        14005.0         184515.0   \n",
              "mean                 0.0             0.0            0.0              0.0   \n",
              "std                  0.0             0.0            0.0              0.0   \n",
              "min                  0.0             0.0            0.0              0.0   \n",
              "25%                  0.0             0.0            0.0              0.0   \n",
              "50%                  0.0             0.0            0.0              0.0   \n",
              "75%                  0.0             0.0            0.0              0.0   \n",
              "max                  0.0             0.0            0.0              0.0   \n",
              "\n",
              "        Forum Views   Impressions  Instagram Comments  Instagram Followers  \\\n",
              "count  1.985200e+05  1.985200e+05        1.985200e+05        198520.000000   \n",
              "mean   3.885568e+02  7.142756e+03        3.687381e+02            29.913812   \n",
              "std    2.698299e+04  1.652276e+05        1.405137e+04          3267.732508   \n",
              "min    0.000000e+00  0.000000e+00        0.000000e+00             0.000000   \n",
              "25%    0.000000e+00  9.900000e+01        0.000000e+00             0.000000   \n",
              "50%    0.000000e+00  4.110000e+02        0.000000e+00             0.000000   \n",
              "75%    0.000000e+00  1.201000e+03        0.000000e+00             0.000000   \n",
              "max    7.131975e+06  3.795821e+07        3.144971e+06        441460.000000   \n",
              "\n",
              "       Instagram Following  Instagram Likes  Instagram Posts  Kred Outreach  \\\n",
              "count        198520.000000    198520.000000    198520.000000  198520.000000   \n",
              "mean              6.385901         1.831951         0.557022      41.871207   \n",
              "std            1265.836326        72.892636        38.775486     153.186080   \n",
              "min               0.000000         0.000000         0.000000       0.000000   \n",
              "25%               0.000000         0.000000         0.000000       0.000000   \n",
              "50%               0.000000         0.000000         0.000000       0.000000   \n",
              "75%               0.000000         0.000000         0.000000       6.000000   \n",
              "max          324249.000000     12110.000000      8972.000000     998.000000   \n",
              "\n",
              "       Last Assignment Date       Latitude  Percentage Female  \\\n",
              "count          14005.000000  184515.000000      198520.000000   \n",
              "mean               3.306176       7.225590          40.732828   \n",
              "std                3.322595      18.070599          13.482551   \n",
              "min                0.000000       0.000000           0.000000   \n",
              "25%                0.000000       0.000000          46.000000   \n",
              "50%                3.000000       0.000000          46.000000   \n",
              "75%                6.000000       0.000000          46.000000   \n",
              "max               12.000000      74.867889          78.000000   \n",
              "\n",
              "       Percentage Male      Priority   Resource Id  Total Monthly Visitors  \\\n",
              "count    198520.000000  14005.000000  1.985200e+05            1.845150e+05   \n",
              "mean         49.317338     50.116030  1.169560e+11            5.790648e+09   \n",
              "std          14.442224     14.094386  3.691259e+10            5.596327e+09   \n",
              "min           0.000000      0.000000  0.000000e+00            0.000000e+00   \n",
              "25%          54.000000     54.000000  1.051755e+11            6.000000e+09   \n",
              "50%          54.000000     54.000000  1.237551e+11            6.000000e+09   \n",
              "75%          54.000000     54.000000  1.425853e+11            6.000000e+09   \n",
              "max         100.000000    100.000000  1.567051e+11            1.000000e+11   \n",
              "\n",
              "       Tracked Link Clicks  Tracked Links  Twitter Author ID  \\\n",
              "count         1.985200e+05        14005.0       1.682180e+05   \n",
              "mean          3.929224e+08            0.0       6.918148e+16   \n",
              "std           1.678807e+09            0.0       2.220257e+17   \n",
              "min           0.000000e+00            0.0       1.166100e+04   \n",
              "25%           0.000000e+00            0.0       1.309619e+08   \n",
              "50%           0.000000e+00            0.0       4.260333e+08   \n",
              "75%           0.000000e+00            0.0       2.282636e+09   \n",
              "max           1.000000e+11            0.0       9.136667e+17   \n",
              "\n",
              "       Twitter Channel Role  Twitter Followers  Twitter Following  \\\n",
              "count          1.278200e+04       1.845150e+05       1.985200e+05   \n",
              "mean           2.488215e+16       5.655597e+03       1.564515e+03   \n",
              "std            1.324519e+17       8.981149e+04       1.369412e+04   \n",
              "min            2.337300e+04       0.000000e+00       0.000000e+00   \n",
              "25%            7.799556e+07       1.500000e+02       1.710000e+02   \n",
              "50%            3.092623e+08       4.450000e+02       4.230000e+02   \n",
              "75%            1.175378e+09       1.188000e+03       9.470000e+02   \n",
              "max            7.811178e+17       8.593700e+06       3.140319e+06   \n",
              "\n",
              "       Twitter Reply Count  Twitter Retweets  Twitter Tweets  mozRank Score  \\\n",
              "count        198520.000000     184515.000000    1.985200e+05  184515.000000   \n",
              "mean             72.972139          0.599149    2.199132e+04       9.389212   \n",
              "std             709.315789         28.418792    9.421524e+04       1.134759   \n",
              "min               0.000000          0.000000    0.000000e+00       0.000000   \n",
              "25%               0.000000          0.000000    5.470000e+02       9.600000   \n",
              "50%               0.000000          0.000000    4.958000e+03       9.600000   \n",
              "75%               0.000000          0.000000    1.709400e+04       9.600000   \n",
              "max          129495.000000       6428.000000    2.090129e+06       9.600000   \n",
              "\n",
              "       Unnamed: 103  \n",
              "count  14005.000000  \n",
              "mean       9.405717  \n",
              "std        0.988157  \n",
              "min        0.000000  \n",
              "25%        9.600000  \n",
              "50%        9.600000  \n",
              "75%        9.600000  \n",
              "max        9.600000  "
            ]
          },
          "metadata": {
            "tags": []
          },
          "execution_count": 11
        }
      ]
    },
    {
      "cell_type": "markdown",
      "metadata": {
        "id": "7GbpO8fkQVqw"
      },
      "source": [
        "Column names of the dataset\n",
        "\n",
        "//add output"
      ]
    },
    {
      "cell_type": "code",
      "metadata": {
        "id": "Np_fmHQyUmOl",
        "outputId": "cec64f47-4f1e-41c6-c674-76f1144b2907",
        "colab": {
          "base_uri": "https://localhost:8080/",
          "height": 1000
        }
      },
      "source": [
        "#Dataframe column names\n",
        "frame.columns.values.tolist()"
      ],
      "execution_count": null,
      "outputs": [
        {
          "output_type": "execute_result",
          "data": {
            "text/plain": [
              "['Query Id',\n",
              " 'Query Name',\n",
              " 'Date',\n",
              " 'Title',\n",
              " 'Snippet',\n",
              " 'Url',\n",
              " 'Domain',\n",
              " 'Sentiment',\n",
              " 'Page Type',\n",
              " 'Language',\n",
              " 'Country Code',\n",
              " 'Continent Code',\n",
              " 'Continent',\n",
              " 'Country',\n",
              " 'State Code',\n",
              " 'County Code',\n",
              " 'City Code',\n",
              " 'Account Type',\n",
              " 'Assignment',\n",
              " 'Author',\n",
              " 'Author City',\n",
              " 'Author City Code',\n",
              " 'Author Continent',\n",
              " 'Author Continent Code',\n",
              " 'Author Country',\n",
              " 'Author Country Code',\n",
              " 'Author County',\n",
              " 'Author County Code',\n",
              " 'Author Location',\n",
              " 'Author State',\n",
              " 'Author State Code',\n",
              " 'Avatar',\n",
              " 'Average Pages per Visitor',\n",
              " 'Average Visits per Visitor',\n",
              " 'Backlinks',\n",
              " 'Blog Comments',\n",
              " 'Category Details',\n",
              " 'Checked',\n",
              " 'City',\n",
              " 'County',\n",
              " 'Display URLs',\n",
              " 'Engagement Score',\n",
              " 'Expanded URLs',\n",
              " 'Facebook Author ID',\n",
              " 'Facebook Comments',\n",
              " 'Facebook Likes',\n",
              " 'Facebook Role',\n",
              " 'Facebook Shares',\n",
              " 'Facebook Subtype',\n",
              " 'Forum Posts',\n",
              " 'Forum Views',\n",
              " 'Full Name',\n",
              " 'Gender',\n",
              " 'Hashtags',\n",
              " 'Impact',\n",
              " 'Impressions',\n",
              " 'Instagram Comments',\n",
              " 'Instagram Followers',\n",
              " 'Instagram Following',\n",
              " 'Instagram Likes',\n",
              " 'Instagram Posts',\n",
              " 'Interest',\n",
              " 'Kred Influence',\n",
              " 'Kred Outreach',\n",
              " 'Last Assignment Date',\n",
              " 'Latitude',\n",
              " 'Location Name',\n",
              " 'Longitude',\n",
              " 'Media Filter',\n",
              " 'Media URLs',\n",
              " 'Mentioned Authors',\n",
              " 'Minutes per Visitor',\n",
              " 'Percentage Female',\n",
              " 'Percentage Male',\n",
              " 'Priority',\n",
              " 'Professions',\n",
              " 'Reach',\n",
              " 'Resource Id',\n",
              " 'Short URLs',\n",
              " 'Starred',\n",
              " 'State',\n",
              " 'Status',\n",
              " 'Subtype',\n",
              " 'Thread Author',\n",
              " 'Thread Created Date',\n",
              " 'Thread Entry Type',\n",
              " 'Thread Id',\n",
              " 'Thread URL',\n",
              " 'Total Monthly Visitors',\n",
              " 'Tracked Link Clicks',\n",
              " 'Tracked Links',\n",
              " 'Twitter Author ID',\n",
              " 'Twitter Channel Role',\n",
              " 'Twitter Followers',\n",
              " 'Twitter Following',\n",
              " 'Twitter Reply Count',\n",
              " 'Twitter Reply to',\n",
              " 'Twitter Retweet of',\n",
              " 'Twitter Retweets',\n",
              " 'Twitter Tweets',\n",
              " 'Twitter Verified',\n",
              " 'Word Count',\n",
              " 'mozRank Score',\n",
              " 'Unnamed: 103',\n",
              " 'Unnamed: 3']"
            ]
          },
          "metadata": {
            "tags": []
          },
          "execution_count": 12
        }
      ]
    },
    {
      "cell_type": "code",
      "metadata": {
        "id": "odUDuE1QUmOp",
        "outputId": "9ac2fe70-7bf1-45f3-f1ee-10877f19bc7c",
        "colab": {
          "base_uri": "https://localhost:8080/",
          "height": 442
        }
      },
      "source": [
        "#Drop Facebook, Instagram and Forum column names\n",
        "dfraw=frame.copy()\n",
        "frame = frame[frame.columns.drop(list(frame.filter(regex=\"Facebook\")))]\n",
        "frame = frame[frame.columns.drop(list(frame.filter(regex=\"Instagram\")))]\n",
        "frame = frame[frame.columns.drop(list(frame.filter(regex=\"Forum\")))]\n",
        "frame.columns"
      ],
      "execution_count": null,
      "outputs": [
        {
          "output_type": "execute_result",
          "data": {
            "text/plain": [
              "Index(['Query Id', 'Query Name', 'Date', 'Title', 'Snippet', 'Url', 'Domain',\n",
              "       'Sentiment', 'Page Type', 'Language', 'Country Code', 'Continent Code',\n",
              "       'Continent', 'Country', 'State Code', 'County Code', 'City Code',\n",
              "       'Account Type', 'Assignment', 'Author', 'Author City',\n",
              "       'Author City Code', 'Author Continent', 'Author Continent Code',\n",
              "       'Author Country', 'Author Country Code', 'Author County',\n",
              "       'Author County Code', 'Author Location', 'Author State',\n",
              "       'Author State Code', 'Avatar', 'Average Pages per Visitor',\n",
              "       'Average Visits per Visitor', 'Backlinks', 'Blog Comments',\n",
              "       'Category Details', 'Checked', 'City', 'County', 'Display URLs',\n",
              "       'Engagement Score', 'Expanded URLs', 'Full Name', 'Gender', 'Hashtags',\n",
              "       'Impact', 'Impressions', 'Interest', 'Kred Influence', 'Kred Outreach',\n",
              "       'Last Assignment Date', 'Latitude', 'Location Name', 'Longitude',\n",
              "       'Media Filter', 'Media URLs', 'Mentioned Authors',\n",
              "       'Minutes per Visitor', 'Percentage Female', 'Percentage Male',\n",
              "       'Priority', 'Professions', 'Reach', 'Resource Id', 'Short URLs',\n",
              "       'Starred', 'State', 'Status', 'Subtype', 'Thread Author',\n",
              "       'Thread Created Date', 'Thread Entry Type', 'Thread Id', 'Thread URL',\n",
              "       'Total Monthly Visitors', 'Tracked Link Clicks', 'Tracked Links',\n",
              "       'Twitter Author ID', 'Twitter Channel Role', 'Twitter Followers',\n",
              "       'Twitter Following', 'Twitter Reply Count', 'Twitter Reply to',\n",
              "       'Twitter Retweet of', 'Twitter Retweets', 'Twitter Tweets',\n",
              "       'Twitter Verified', 'Word Count', 'mozRank Score', 'Unnamed: 103',\n",
              "       'Unnamed: 3'],\n",
              "      dtype='object')"
            ]
          },
          "metadata": {
            "tags": []
          },
          "execution_count": 13
        }
      ]
    },
    {
      "cell_type": "code",
      "metadata": {
        "id": "l5zUnFp1UmOt",
        "outputId": "f4bda25d-7ba4-4ba2-e0d7-42f90887cb89",
        "colab": {
          "base_uri": "https://localhost:8080/",
          "height": 51
        }
      },
      "source": [
        "print(\"Number of columns before: \", len(dfraw.columns))\n",
        "print(\"Number of columns after removing Facebook, Instagram and Forum columns: \", len(frame.columns))"
      ],
      "execution_count": null,
      "outputs": [
        {
          "output_type": "stream",
          "text": [
            "Number of columns before:  105\n",
            "Number of columns after removing Facebook, Instagram and Forum columns:  92\n"
          ],
          "name": "stdout"
        }
      ]
    },
    {
      "cell_type": "code",
      "metadata": {
        "id": "gLtQG-chUmOy",
        "outputId": "251adfcd-6166-4a59-b170-a61b0d27a936",
        "colab": {
          "base_uri": "https://localhost:8080/",
          "height": 68
        }
      },
      "source": [
        "print(\"Total rows: \", len(frame))\n",
        "print(\"Total unique rows in Title column: \", frame['Title'].nunique())\n",
        "print(\"Total unique rows in Snippet column: \", frame['Title'].nunique())"
      ],
      "execution_count": null,
      "outputs": [
        {
          "output_type": "stream",
          "text": [
            "Total rows:  198520\n",
            "Total unique rows in Title column:  94069\n",
            "Total unique rows in Snippet column:  94069\n"
          ],
          "name": "stdout"
        }
      ]
    },
    {
      "cell_type": "code",
      "metadata": {
        "id": "vFXaGA9QUmO3",
        "outputId": "857a332e-4cd7-41c6-ae5f-07fde0d0326c",
        "colab": {
          "base_uri": "https://localhost:8080/",
          "height": 51
        }
      },
      "source": [
        "#Drop duplicate rows from Snippet column\n",
        "dfTwitterCols = frame.copy()\n",
        "frame.drop_duplicates(subset=\"Snippet\", keep='first', inplace=True)\n",
        "print(\"Shape before dropping suplicates: \", frame.shape)\n",
        "print(\"After dropping duplicates: \", frame.shape)"
      ],
      "execution_count": null,
      "outputs": [
        {
          "output_type": "stream",
          "text": [
            "Shape before dropping suplicates:  (110588, 92)\n",
            "After dropping duplicates:  (110588, 92)\n"
          ],
          "name": "stdout"
        }
      ]
    },
    {
      "cell_type": "code",
      "metadata": {
        "id": "iLrExA9pUmO7",
        "outputId": "64aa8bb2-a37d-48c1-d5b0-ae999918e793",
        "colab": {
          "base_uri": "https://localhost:8080/",
          "height": 1000
        }
      },
      "source": [
        "#Columns with number of null values\n",
        "frame.isnull().sum(axis=0)"
      ],
      "execution_count": null,
      "outputs": [
        {
          "output_type": "execute_result",
          "data": {
            "text/plain": [
              "Query Id                           0\n",
              "Query Name                         0\n",
              "Date                               0\n",
              "Title                              1\n",
              "Snippet                            1\n",
              "Url                                0\n",
              "Domain                             0\n",
              "Sentiment                          0\n",
              "Page Type                          0\n",
              "Language                           0\n",
              "Country Code                       0\n",
              "Continent Code                     0\n",
              "Continent                          0\n",
              "Country                            0\n",
              "State Code                     28774\n",
              "County Code                    42686\n",
              "City Code                      62327\n",
              "Account Type                   17148\n",
              "Assignment                     98214\n",
              "Author                         14479\n",
              "Author City                    66631\n",
              "Author City Code               76223\n",
              "Author Continent               10620\n",
              "Author Continent Code            884\n",
              "Author Country                   884\n",
              "Author Country Code              884\n",
              "Author County                  48176\n",
              "Author County Code             54455\n",
              "Author Location                 7163\n",
              "Author State                   37776\n",
              "Author State Code              42962\n",
              "Avatar                          7879\n",
              "Average Pages per Visitor        433\n",
              "Average Visits per Visitor         0\n",
              "Backlinks                          0\n",
              "Blog Comments                      0\n",
              "Category Details                   0\n",
              "Checked                            0\n",
              "City                           57248\n",
              "County                         47012\n",
              "Display URLs                   80784\n",
              "Engagement Score               10207\n",
              "Expanded URLs                  75705\n",
              "Full Name                       3311\n",
              "Gender                          8650\n",
              "Hashtags                       75767\n",
              "Impact                          9532\n",
              "Impressions                        0\n",
              "Interest                       36144\n",
              "Kred Influence                  4556\n",
              "Kred Outreach                      0\n",
              "Last Assignment Date           97029\n",
              "Latitude                       13559\n",
              "Location Name                  91598\n",
              "Longitude                      12881\n",
              "Media Filter                   92340\n",
              "Media URLs                     93398\n",
              "Mentioned Authors              67923\n",
              "Minutes per Visitor             6755\n",
              "Percentage Female                  0\n",
              "Percentage Male                    0\n",
              "Priority                       97029\n",
              "Professions                    83126\n",
              "Reach                           9424\n",
              "Resource Id                        0\n",
              "Short URLs                     75705\n",
              "Starred                        10207\n",
              "State                          28774\n",
              "Status                        101086\n",
              "Subtype                       105157\n",
              "Thread Author                  85858\n",
              "Thread Created Date           106270\n",
              "Thread Entry Type              15123\n",
              "Thread Id                        374\n",
              "Thread URL                     97012\n",
              "Total Monthly Visitors         13559\n",
              "Tracked Link Clicks                0\n",
              "Tracked Links                  97029\n",
              "Twitter Author ID              21693\n",
              "Twitter Channel Role           98166\n",
              "Twitter Followers              13559\n",
              "Twitter Following                  0\n",
              "Twitter Reply Count                0\n",
              "Twitter Reply to               72977\n",
              "Twitter Retweet of            106270\n",
              "Twitter Retweets               13559\n",
              "Twitter Tweets                     0\n",
              "Twitter Verified                   0\n",
              "Word Count                     97029\n",
              "mozRank Score                  13559\n",
              "Unnamed: 103                   97029\n",
              "Unnamed: 3                     96968\n",
              "dtype: int64"
            ]
          },
          "metadata": {
            "tags": []
          },
          "execution_count": 17
        }
      ]
    },
    {
      "cell_type": "code",
      "metadata": {
        "id": "iiay-dCsUmO-",
        "outputId": "92f479f5-a24f-474d-d516-fc9ade8d157e",
        "colab": {
          "base_uri": "https://localhost:8080/",
          "height": 816
        }
      },
      "source": [
        "#Removing columns with more than 80% null values\n",
        "dfUnique = frame.copy()\n",
        "threshold = len(frame) * 0.2\n",
        "frame.dropna(thresh=threshold, axis=1, inplace=True)\n",
        "print(\"Shape of dataframe before dropping null columns: \", dfUnique.shape)\n",
        "print(\"Shape of dataframe after dropping null columns: \", frame.shape)\n",
        "print(\"Column list before dropping null columns: \", dfUnique.columns)\n",
        "print(\"Column list aftr dropping null columns: \", frame.columns)"
      ],
      "execution_count": null,
      "outputs": [
        {
          "output_type": "stream",
          "text": [
            "Shape of dataframe before dropping null columns:  (110588, 92)\n",
            "Shape of dataframe after dropping null columns:  (110588, 76)\n",
            "Column list before dropping null columns:  Index(['Query Id', 'Query Name', 'Date', 'Title', 'Snippet', 'Url', 'Domain',\n",
            "       'Sentiment', 'Page Type', 'Language', 'Country Code', 'Continent Code',\n",
            "       'Continent', 'Country', 'State Code', 'County Code', 'City Code',\n",
            "       'Account Type', 'Assignment', 'Author', 'Author City',\n",
            "       'Author City Code', 'Author Continent', 'Author Continent Code',\n",
            "       'Author Country', 'Author Country Code', 'Author County',\n",
            "       'Author County Code', 'Author Location', 'Author State',\n",
            "       'Author State Code', 'Avatar', 'Average Pages per Visitor',\n",
            "       'Average Visits per Visitor', 'Backlinks', 'Blog Comments',\n",
            "       'Category Details', 'Checked', 'City', 'County', 'Display URLs',\n",
            "       'Engagement Score', 'Expanded URLs', 'Full Name', 'Gender', 'Hashtags',\n",
            "       'Impact', 'Impressions', 'Interest', 'Kred Influence', 'Kred Outreach',\n",
            "       'Last Assignment Date', 'Latitude', 'Location Name', 'Longitude',\n",
            "       'Media Filter', 'Media URLs', 'Mentioned Authors',\n",
            "       'Minutes per Visitor', 'Percentage Female', 'Percentage Male',\n",
            "       'Priority', 'Professions', 'Reach', 'Resource Id', 'Short URLs',\n",
            "       'Starred', 'State', 'Status', 'Subtype', 'Thread Author',\n",
            "       'Thread Created Date', 'Thread Entry Type', 'Thread Id', 'Thread URL',\n",
            "       'Total Monthly Visitors', 'Tracked Link Clicks', 'Tracked Links',\n",
            "       'Twitter Author ID', 'Twitter Channel Role', 'Twitter Followers',\n",
            "       'Twitter Following', 'Twitter Reply Count', 'Twitter Reply to',\n",
            "       'Twitter Retweet of', 'Twitter Retweets', 'Twitter Tweets',\n",
            "       'Twitter Verified', 'Word Count', 'mozRank Score', 'Unnamed: 103',\n",
            "       'Unnamed: 3'],\n",
            "      dtype='object')\n",
            "Column list aftr dropping null columns:  Index(['Query Id', 'Query Name', 'Date', 'Title', 'Snippet', 'Url', 'Domain',\n",
            "       'Sentiment', 'Page Type', 'Language', 'Country Code', 'Continent Code',\n",
            "       'Continent', 'Country', 'State Code', 'County Code', 'City Code',\n",
            "       'Account Type', 'Author', 'Author City', 'Author City Code',\n",
            "       'Author Continent', 'Author Continent Code', 'Author Country',\n",
            "       'Author Country Code', 'Author County', 'Author County Code',\n",
            "       'Author Location', 'Author State', 'Author State Code', 'Avatar',\n",
            "       'Average Pages per Visitor', 'Average Visits per Visitor', 'Backlinks',\n",
            "       'Blog Comments', 'Category Details', 'Checked', 'City', 'County',\n",
            "       'Display URLs', 'Engagement Score', 'Expanded URLs', 'Full Name',\n",
            "       'Gender', 'Hashtags', 'Impact', 'Impressions', 'Interest',\n",
            "       'Kred Influence', 'Kred Outreach', 'Latitude', 'Longitude',\n",
            "       'Mentioned Authors', 'Minutes per Visitor', 'Percentage Female',\n",
            "       'Percentage Male', 'Professions', 'Reach', 'Resource Id', 'Short URLs',\n",
            "       'Starred', 'State', 'Thread Author', 'Thread Entry Type', 'Thread Id',\n",
            "       'Total Monthly Visitors', 'Tracked Link Clicks', 'Twitter Author ID',\n",
            "       'Twitter Followers', 'Twitter Following', 'Twitter Reply Count',\n",
            "       'Twitter Reply to', 'Twitter Retweets', 'Twitter Tweets',\n",
            "       'Twitter Verified', 'mozRank Score'],\n",
            "      dtype='object')\n"
          ],
          "name": "stdout"
        }
      ]
    },
    {
      "cell_type": "code",
      "metadata": {
        "id": "azKB4xzg3BpA"
      },
      "source": [
        "dfTempWordCount = dfUnique[['Word Count']].copy()\n",
        "frame = frame.merge(dfTempWordCount, how='inner', left_index=True, right_index=True)"
      ],
      "execution_count": null,
      "outputs": []
    },
    {
      "cell_type": "code",
      "metadata": {
        "id": "hj50Cpcjetxe"
      },
      "source": [
        "dfTempWordCount = dfUnique[['Last Assignment Date']].copy()\n",
        "frame = frame.merge(dfTempWordCount, how='inner', left_index=True, right_index=True)"
      ],
      "execution_count": null,
      "outputs": []
    },
    {
      "cell_type": "code",
      "metadata": {
        "id": "C3CSeN5KUmPC",
        "outputId": "8be3ab85-57d8-4887-ab3a-25d5781c184c",
        "colab": {
          "base_uri": "https://localhost:8080/",
          "height": 680
        }
      },
      "source": [
        "#Removing columns on manual inspection\n",
        "#Display URLs, Expanded URLs, Short URLs, Expanded URLs, Short URLs, Tracked Link Clicks, Avatar, Blog Comments,\n",
        "# Checked, Starred, and all the codes (County Code, COntinent coe etc.)\n",
        "dfNull80 = frame.copy()\n",
        "frame = frame.drop(['Display URLs', 'Expanded URLs', 'Short URLs', 'Expanded URLs', 'Short URLs', 'Tracked Link Clicks', \\\n",
        "            'Avatar', 'Blog Comments', 'Checked', 'Starred'], axis=1)\n",
        "\n",
        "frame = frame[frame.columns.drop(list(frame.filter(regex=\"Code\")))]\n",
        "\n",
        "\n",
        "\n",
        "print(\"Number of rows and columns before dropping columns: \", dfNull80.shape)\n",
        "print(\"Number of rows and columns after dropping columns: \", frame.shape)\n",
        "print(\"Columns before: \", dfNull80.columns)\n",
        "print(\"Columns after: \", frame.columns)\n"
      ],
      "execution_count": null,
      "outputs": [
        {
          "output_type": "stream",
          "text": [
            "Number of rows and columns before dropping columns:  (110588, 78)\n",
            "Number of rows and columns after dropping columns:  (110588, 60)\n",
            "Columns before:  Index(['Query Id', 'Query Name', 'Date', 'Title', 'Snippet', 'Url', 'Domain',\n",
            "       'Sentiment', 'Page Type', 'Language', 'Country Code', 'Continent Code',\n",
            "       'Continent', 'Country', 'State Code', 'County Code', 'City Code',\n",
            "       'Account Type', 'Author', 'Author City', 'Author City Code',\n",
            "       'Author Continent', 'Author Continent Code', 'Author Country',\n",
            "       'Author Country Code', 'Author County', 'Author County Code',\n",
            "       'Author Location', 'Author State', 'Author State Code', 'Avatar',\n",
            "       'Average Pages per Visitor', 'Average Visits per Visitor', 'Backlinks',\n",
            "       'Blog Comments', 'Category Details', 'Checked', 'City', 'County',\n",
            "       'Display URLs', 'Engagement Score', 'Expanded URLs', 'Full Name',\n",
            "       'Gender', 'Hashtags', 'Impact', 'Impressions', 'Interest',\n",
            "       'Kred Influence', 'Kred Outreach', 'Latitude', 'Longitude',\n",
            "       'Mentioned Authors', 'Minutes per Visitor', 'Percentage Female',\n",
            "       'Percentage Male', 'Professions', 'Reach', 'Resource Id', 'Short URLs',\n",
            "       'Starred', 'State', 'Thread Author', 'Thread Entry Type', 'Thread Id',\n",
            "       'Total Monthly Visitors', 'Tracked Link Clicks', 'Twitter Author ID',\n",
            "       'Twitter Followers', 'Twitter Following', 'Twitter Reply Count',\n",
            "       'Twitter Reply to', 'Twitter Retweets', 'Twitter Tweets',\n",
            "       'Twitter Verified', 'mozRank Score', 'Word Count',\n",
            "       'Last Assignment Date'],\n",
            "      dtype='object')\n",
            "Columns after:  Index(['Query Id', 'Query Name', 'Date', 'Title', 'Snippet', 'Url', 'Domain',\n",
            "       'Sentiment', 'Page Type', 'Language', 'Continent', 'Country',\n",
            "       'Account Type', 'Author', 'Author City', 'Author Continent',\n",
            "       'Author Country', 'Author County', 'Author Location', 'Author State',\n",
            "       'Average Pages per Visitor', 'Average Visits per Visitor', 'Backlinks',\n",
            "       'Category Details', 'City', 'County', 'Engagement Score', 'Full Name',\n",
            "       'Gender', 'Hashtags', 'Impact', 'Impressions', 'Interest',\n",
            "       'Kred Influence', 'Kred Outreach', 'Latitude', 'Longitude',\n",
            "       'Mentioned Authors', 'Minutes per Visitor', 'Percentage Female',\n",
            "       'Percentage Male', 'Professions', 'Reach', 'Resource Id', 'State',\n",
            "       'Thread Author', 'Thread Entry Type', 'Thread Id',\n",
            "       'Total Monthly Visitors', 'Twitter Author ID', 'Twitter Followers',\n",
            "       'Twitter Following', 'Twitter Reply Count', 'Twitter Reply to',\n",
            "       'Twitter Retweets', 'Twitter Tweets', 'Twitter Verified',\n",
            "       'mozRank Score', 'Word Count', 'Last Assignment Date'],\n",
            "      dtype='object')\n"
          ],
          "name": "stdout"
        }
      ]
    },
    {
      "cell_type": "code",
      "metadata": {
        "id": "bjj7KMxDUmPG"
      },
      "source": [
        "#Encode all string values\n",
        "#dfRemSpChar = frame.copy()\n",
        "\n",
        "#Remove non-feature columns\n",
        "frame = frame.drop(['Title', 'Snippet' ,'Url', 'Author', 'Full Name'], axis=1)\n"
      ],
      "execution_count": null,
      "outputs": []
    },
    {
      "cell_type": "code",
      "metadata": {
        "id": "_y-_y5Drvcp1",
        "outputId": "6818eacb-37a0-4062-bc59-c2d7b0724334",
        "colab": {
          "base_uri": "https://localhost:8080/",
          "height": 51
        }
      },
      "source": [
        "\"\"\"\n",
        "Fix columns from next column\n",
        "\"\"\"\n",
        "frame['Twitter Verified'] = np.where((frame['Twitter Verified'] == 'true') | (frame['Twitter Verified'] == 'True'), True, frame['Twitter Verified'])\n",
        "frame['Twitter Verified'] = np.where((frame['Twitter Verified'] == 'false') | (frame['Twitter Verified'] == 'False'), False, frame['Twitter Verified'])\n",
        "frame['Twitter Verified'] = np.where(((frame['Twitter Verified'] != True) & (frame['Twitter Verified'] != False) & (frame['Twitter Verified'] != 'false') & (frame['Twitter Verified'] != 'true') & (frame['Twitter Verified'] != 'False') & (frame['Twitter Verified'] != 'True')) & ((frame['Word Count'] == True) | (frame['Word Count'] == False) | (frame['Word Count'] == 'True') | (frame['Word Count'] == 'False') | (frame['Word Count'] == 'true') | (frame['Word Count'] == 'false')) , frame['Word Count'], frame['Twitter Verified'])\n",
        "frame['Twitter Verified'] = np.where((frame['Twitter Verified'] != True) & (frame['Twitter Verified'] != False) & (frame['Twitter Verified'] != 'false') & (frame['Twitter Verified'] != 'true') & (frame['Twitter Verified'] != 'False') & (frame['Twitter Verified'] != 'True'), False, frame['Twitter Verified'])\n",
        "\n",
        "#print(frame[(frame['Twitter Verified'] != True) & (frame['Twitter Verified'] != False) & (frame['Twitter Verified'] != 'false') & (frame['Twitter Verified'] != 'true') & (frame['Twitter Verified'] != 'False') & (frame['Twitter Verified'] != 'True')])\n",
        "#print(frame[frame['Twitter Verified']=='Executive'])\n",
        "\n",
        "frame['Reach'] = np.where(((~frame['Reach'].astype(str).str.contains('0|1|2|3|4|5|6|7|8|9')) | (frame['Reach'].isna())) & (frame['Resource Id'] < 5000000), frame['Resource Id'], frame['Reach'])\n",
        "\n",
        "frame['Kred Influence'] = np.where(((~frame['Kred Influence'].astype(str).str.contains('0|1|2|3|4|5|6|7|8|9')) | (frame['Kred Influence'].isna())) & (frame['Kred Outreach'] > 10), frame['Kred Outreach'], frame['Kred Influence'])\n",
        "\n",
        "frame['Impact'] = np.where(((~frame['Impact'].astype(str).str.contains('0|1|2|3|4|5|6|7|8|9')) | (frame['Impact'].isna())) & (frame['Impressions'] < 100), frame['Impressions'], frame['Impact'])\n",
        "\n",
        "frame['Impressions'] = np.where(frame['Impact'] == frame['Impressions'], 0, frame['Impressions'])\n",
        "\n",
        "print(len(frame[frame['Kred Outreach']>12]))\n",
        "frame['Kred Outreach'] = np.where(((~frame['Kred Outreach'].astype(str).str.contains('0|1|2|3|4|5|6|7|8|9')) | (frame['Kred Outreach'].isna()) | (frame['Kred Outreach'] > 12)) & (~frame['Last Assignment Date'].isna()), frame['Last Assignment Date'], frame['Kred Outreach'])\n",
        "print(len(frame[frame['Kred Outreach']>12]))"
      ],
      "execution_count": null,
      "outputs": [
        {
          "output_type": "stream",
          "text": [
            "12408\n",
            "0\n"
          ],
          "name": "stdout"
        }
      ]
    },
    {
      "cell_type": "code",
      "metadata": {
        "id": "DGdI9Ab6FL8l",
        "outputId": "83c5ade8-eefb-43c5-a990-c15704ce97ea",
        "colab": {
          "base_uri": "https://localhost:8080/",
          "height": 120
        }
      },
      "source": [
        "frame[frame['Twitter Verified']=='Executive']"
      ],
      "execution_count": null,
      "outputs": [
        {
          "output_type": "execute_result",
          "data": {
            "text/html": [
              "<div>\n",
              "<style scoped>\n",
              "    .dataframe tbody tr th:only-of-type {\n",
              "        vertical-align: middle;\n",
              "    }\n",
              "\n",
              "    .dataframe tbody tr th {\n",
              "        vertical-align: top;\n",
              "    }\n",
              "\n",
              "    .dataframe thead th {\n",
              "        text-align: right;\n",
              "    }\n",
              "</style>\n",
              "<table border=\"1\" class=\"dataframe\">\n",
              "  <thead>\n",
              "    <tr style=\"text-align: right;\">\n",
              "      <th></th>\n",
              "      <th>Query Id</th>\n",
              "      <th>Query Name</th>\n",
              "      <th>Date</th>\n",
              "      <th>Domain</th>\n",
              "      <th>Sentiment</th>\n",
              "      <th>Page Type</th>\n",
              "      <th>Language</th>\n",
              "      <th>Continent</th>\n",
              "      <th>Country</th>\n",
              "      <th>Account Type</th>\n",
              "      <th>Author City</th>\n",
              "      <th>Author Continent</th>\n",
              "      <th>Author Country</th>\n",
              "      <th>Author County</th>\n",
              "      <th>Author Location</th>\n",
              "      <th>Author State</th>\n",
              "      <th>Average Pages per Visitor</th>\n",
              "      <th>Average Visits per Visitor</th>\n",
              "      <th>Backlinks</th>\n",
              "      <th>Category Details</th>\n",
              "      <th>City</th>\n",
              "      <th>County</th>\n",
              "      <th>Engagement Score</th>\n",
              "      <th>Gender</th>\n",
              "      <th>Hashtags</th>\n",
              "      <th>Impact</th>\n",
              "      <th>Impressions</th>\n",
              "      <th>Interest</th>\n",
              "      <th>Kred Influence</th>\n",
              "      <th>Kred Outreach</th>\n",
              "      <th>Latitude</th>\n",
              "      <th>Longitude</th>\n",
              "      <th>Mentioned Authors</th>\n",
              "      <th>Minutes per Visitor</th>\n",
              "      <th>Percentage Female</th>\n",
              "      <th>Percentage Male</th>\n",
              "      <th>Professions</th>\n",
              "      <th>Reach</th>\n",
              "      <th>Resource Id</th>\n",
              "      <th>State</th>\n",
              "      <th>Thread Author</th>\n",
              "      <th>Thread Entry Type</th>\n",
              "      <th>Thread Id</th>\n",
              "      <th>Total Monthly Visitors</th>\n",
              "      <th>Twitter Author ID</th>\n",
              "      <th>Twitter Followers</th>\n",
              "      <th>Twitter Following</th>\n",
              "      <th>Twitter Reply Count</th>\n",
              "      <th>Twitter Reply to</th>\n",
              "      <th>Twitter Retweets</th>\n",
              "      <th>Twitter Tweets</th>\n",
              "      <th>Twitter Verified</th>\n",
              "      <th>mozRank Score</th>\n",
              "      <th>Word Count</th>\n",
              "      <th>Last Assignment Date</th>\n",
              "    </tr>\n",
              "  </thead>\n",
              "  <tbody>\n",
              "  </tbody>\n",
              "</table>\n",
              "</div>"
            ],
            "text/plain": [
              "Empty DataFrame\n",
              "Columns: [Query Id, Query Name, Date, Domain, Sentiment, Page Type, Language, Continent, Country, Account Type, Author City, Author Continent, Author Country, Author County, Author Location, Author State, Average Pages per Visitor, Average Visits per Visitor, Backlinks, Category Details, City, County, Engagement Score, Gender, Hashtags, Impact, Impressions, Interest, Kred Influence, Kred Outreach, Latitude, Longitude, Mentioned Authors, Minutes per Visitor, Percentage Female, Percentage Male, Professions, Reach, Resource Id, State, Thread Author, Thread Entry Type, Thread Id, Total Monthly Visitors, Twitter Author ID, Twitter Followers, Twitter Following, Twitter Reply Count, Twitter Reply to, Twitter Retweets, Twitter Tweets, Twitter Verified, mozRank Score, Word Count, Last Assignment Date]\n",
              "Index: []"
            ]
          },
          "metadata": {
            "tags": []
          },
          "execution_count": 24
        }
      ]
    },
    {
      "cell_type": "code",
      "metadata": {
        "id": "ybA-VRQxUmPJ"
      },
      "source": [
        "#Impute missing values\n",
        "#NUmeric missing values are imputed with mean of the column\n",
        "#Non-numeric missing values are imputed with most frequent values\n",
        "\n",
        "dfRemNonFeatCols = frame.copy()\n",
        "\n",
        "from sklearn.base import TransformerMixin\n",
        "\n",
        "\n",
        "class DataFrameImputer(TransformerMixin):\n",
        "\n",
        "    def __init__(self):\n",
        "        \"\"\"Impute missing values.\n",
        "\n",
        "        Columns of dtype object are imputed with the most frequent value \n",
        "        in column.\n",
        "\n",
        "        Columns of other types are imputed with mean of column.\n",
        "\n",
        "        \"\"\"\n",
        "    def fit(self, X, y=None):\n",
        "\n",
        "        self.fill = pd.Series([X[c].value_counts().index[0]\n",
        "            if X[c].dtype == np.dtype('O') else X[c].mean() for c in X],\n",
        "            index=X.columns)\n",
        "\n",
        "        return self\n",
        "\n",
        "    def transform(self, X, y=None):\n",
        "        return X.fillna(self.fill)\n",
        "    \n",
        "frame = DataFrameImputer().fit_transform(frame)"
      ],
      "execution_count": null,
      "outputs": []
    },
    {
      "cell_type": "code",
      "metadata": {
        "id": "A0LEG-D6AXyc",
        "outputId": "e9ed5f0b-01fe-4316-b32f-566683b94fc5",
        "colab": {
          "base_uri": "https://localhost:8080/",
          "height": 969
        }
      },
      "source": [
        "dfRemNonFeatCols.isnull().sum(axis=0)"
      ],
      "execution_count": null,
      "outputs": [
        {
          "output_type": "execute_result",
          "data": {
            "text/plain": [
              "Query Id                          0\n",
              "Query Name                        0\n",
              "Date                              0\n",
              "Domain                            0\n",
              "Sentiment                         0\n",
              "Page Type                         0\n",
              "Language                          0\n",
              "Continent                         0\n",
              "Country                           0\n",
              "Account Type                  17148\n",
              "Author City                   66631\n",
              "Author Continent              10620\n",
              "Author Country                  884\n",
              "Author County                 48176\n",
              "Author Location                7163\n",
              "Author State                  37776\n",
              "Average Pages per Visitor       433\n",
              "Average Visits per Visitor        0\n",
              "Backlinks                         0\n",
              "Category Details                  0\n",
              "City                          57248\n",
              "County                        47012\n",
              "Engagement Score              10207\n",
              "Gender                         8650\n",
              "Hashtags                      75767\n",
              "Impact                            0\n",
              "Impressions                       0\n",
              "Interest                      36144\n",
              "Kred Influence                 1145\n",
              "Kred Outreach                     0\n",
              "Latitude                      13559\n",
              "Longitude                     12881\n",
              "Mentioned Authors             67923\n",
              "Minutes per Visitor            6755\n",
              "Percentage Female                 0\n",
              "Percentage Male                   0\n",
              "Professions                   83126\n",
              "Reach                             0\n",
              "Resource Id                       0\n",
              "State                         28774\n",
              "Thread Author                 85858\n",
              "Thread Entry Type             15123\n",
              "Thread Id                       374\n",
              "Total Monthly Visitors        13559\n",
              "Twitter Author ID             21693\n",
              "Twitter Followers             13559\n",
              "Twitter Following                 0\n",
              "Twitter Reply Count               0\n",
              "Twitter Reply to              72977\n",
              "Twitter Retweets              13559\n",
              "Twitter Tweets                    0\n",
              "Twitter Verified                  0\n",
              "mozRank Score                 13559\n",
              "Word Count                    97029\n",
              "Last Assignment Date          97029\n",
              "dtype: int64"
            ]
          },
          "metadata": {
            "tags": []
          },
          "execution_count": 26
        }
      ]
    },
    {
      "cell_type": "code",
      "metadata": {
        "id": "h-pV_MHxUmPO",
        "outputId": "41e58864-716d-490b-eae4-7beb3aab4307",
        "colab": {
          "base_uri": "https://localhost:8080/",
          "height": 969
        }
      },
      "source": [
        "#Check columns with number of missing values\n",
        "frame.isnull().sum(axis=0)"
      ],
      "execution_count": null,
      "outputs": [
        {
          "output_type": "execute_result",
          "data": {
            "text/plain": [
              "Query Id                      0\n",
              "Query Name                    0\n",
              "Date                          0\n",
              "Domain                        0\n",
              "Sentiment                     0\n",
              "Page Type                     0\n",
              "Language                      0\n",
              "Continent                     0\n",
              "Country                       0\n",
              "Account Type                  0\n",
              "Author City                   0\n",
              "Author Continent              0\n",
              "Author Country                0\n",
              "Author County                 0\n",
              "Author Location               0\n",
              "Author State                  0\n",
              "Average Pages per Visitor     0\n",
              "Average Visits per Visitor    0\n",
              "Backlinks                     0\n",
              "Category Details              0\n",
              "City                          0\n",
              "County                        0\n",
              "Engagement Score              0\n",
              "Gender                        0\n",
              "Hashtags                      0\n",
              "Impact                        0\n",
              "Impressions                   0\n",
              "Interest                      0\n",
              "Kred Influence                0\n",
              "Kred Outreach                 0\n",
              "Latitude                      0\n",
              "Longitude                     0\n",
              "Mentioned Authors             0\n",
              "Minutes per Visitor           0\n",
              "Percentage Female             0\n",
              "Percentage Male               0\n",
              "Professions                   0\n",
              "Reach                         0\n",
              "Resource Id                   0\n",
              "State                         0\n",
              "Thread Author                 0\n",
              "Thread Entry Type             0\n",
              "Thread Id                     0\n",
              "Total Monthly Visitors        0\n",
              "Twitter Author ID             0\n",
              "Twitter Followers             0\n",
              "Twitter Following             0\n",
              "Twitter Reply Count           0\n",
              "Twitter Reply to              0\n",
              "Twitter Retweets              0\n",
              "Twitter Tweets                0\n",
              "Twitter Verified              0\n",
              "mozRank Score                 0\n",
              "Word Count                    0\n",
              "Last Assignment Date          0\n",
              "dtype: int64"
            ]
          },
          "metadata": {
            "tags": []
          },
          "execution_count": 27
        }
      ]
    },
    {
      "cell_type": "code",
      "metadata": {
        "id": "op1QBmFCUmPS"
      },
      "source": [
        "#Encode all string values to numeric\n",
        "\n",
        "dfImpute = frame.copy()\n",
        "\n",
        "from sklearn.preprocessing import LabelEncoder\n",
        "\n",
        "def encode_df(dataframe):\n",
        "    le = LabelEncoder()\n",
        "    for column in dataframe.columns:\n",
        "        dataframe[column] = le.fit_transform(dataframe[column].astype(str))\n",
        "    return dataframe\n",
        "\n",
        "frame = encode_df(frame)"
      ],
      "execution_count": null,
      "outputs": []
    },
    {
      "cell_type": "code",
      "metadata": {
        "id": "LX6nOdVmUmPV",
        "outputId": "474ef45f-abdd-4202-82c7-7effa66db9b0",
        "colab": {
          "base_uri": "https://localhost:8080/",
          "height": 1000
        }
      },
      "source": [
        "\n",
        "#Selecting and dropping features with variance threshold of 0.2 : 80% of values are similar\n",
        "dfLabelEncode = frame.copy()\n",
        "frame['addLabel']=0\n",
        "\n",
        "from sklearn.model_selection import train_test_split\n",
        "train_features, test_features, train_labels, test_labels=train_test_split(\n",
        "    frame.drop(labels=['addLabel'], axis=1),\n",
        "    frame['addLabel'],\n",
        "    test_size=0.0001,\n",
        "    random_state=1)\n",
        "\n",
        "from sklearn.feature_selection import VarianceThreshold\n",
        "zero_filter = VarianceThreshold(threshold=0.2)\n",
        "zero_filter.fit(train_features)\n",
        "\n",
        "non_constant_features = len(train_features.columns[zero_filter.get_support()])\n",
        "\n",
        "print(\"Number of non-constant features (to keep): \", non_constant_features)\n",
        "\n",
        "constant_columns = [column for column in train_features.columns\n",
        "                    if column not in train_features.columns[zero_filter.get_support()]]\n",
        "\n",
        "cols_to_keep = [column for column in train_features.columns\n",
        "                    if column in train_features.columns[zero_filter.get_support()]]\n",
        "\n",
        "print(\"Number of constant features with low variance: \", len(constant_columns))\n",
        "\n",
        "print(\"All constant columns with low variance: \\n\")\n",
        "for column in constant_columns:\n",
        "    print(column)\n",
        "\n",
        "#Drop low variance columns\n",
        "train_features = zero_filter.transform(train_features)\n",
        "\n",
        "print(\"Shape new: \", train_features.shape)\n",
        "\n",
        "print(\"Remaining columns: \\n\")\n",
        "for column in cols_to_keep:\n",
        "    print(column)\n"
      ],
      "execution_count": null,
      "outputs": [
        {
          "output_type": "stream",
          "text": [
            "Number of non-constant features (to keep):  51\n",
            "Number of constant features with low variance:  4\n",
            "All constant columns with low variance: \n",
            "\n",
            "Continent\n",
            "Country\n",
            "Twitter Verified\n",
            "Word Count\n",
            "Shape new:  (110576, 51)\n",
            "Remaining columns: \n",
            "\n",
            "Query Id\n",
            "Query Name\n",
            "Date\n",
            "Domain\n",
            "Sentiment\n",
            "Page Type\n",
            "Language\n",
            "Account Type\n",
            "Author City\n",
            "Author Continent\n",
            "Author Country\n",
            "Author County\n",
            "Author Location\n",
            "Author State\n",
            "Average Pages per Visitor\n",
            "Average Visits per Visitor\n",
            "Backlinks\n",
            "Category Details\n",
            "City\n",
            "County\n",
            "Engagement Score\n",
            "Gender\n",
            "Hashtags\n",
            "Impact\n",
            "Impressions\n",
            "Interest\n",
            "Kred Influence\n",
            "Kred Outreach\n",
            "Latitude\n",
            "Longitude\n",
            "Mentioned Authors\n",
            "Minutes per Visitor\n",
            "Percentage Female\n",
            "Percentage Male\n",
            "Professions\n",
            "Reach\n",
            "Resource Id\n",
            "State\n",
            "Thread Author\n",
            "Thread Entry Type\n",
            "Thread Id\n",
            "Total Monthly Visitors\n",
            "Twitter Author ID\n",
            "Twitter Followers\n",
            "Twitter Following\n",
            "Twitter Reply Count\n",
            "Twitter Reply to\n",
            "Twitter Retweets\n",
            "Twitter Tweets\n",
            "mozRank Score\n",
            "Last Assignment Date\n"
          ],
          "name": "stdout"
        }
      ]
    },
    {
      "cell_type": "code",
      "metadata": {
        "id": "Iun_tnaCUmPZ",
        "outputId": "5180108c-df29-42cd-b3e5-b7937c0bc19b",
        "colab": {
          "base_uri": "https://localhost:8080/",
          "height": 85
        }
      },
      "source": [
        "#Remove low variance columns found above\n",
        "frame = dfImpute.copy()\n",
        "frame = frame.drop(['Continent', 'Country', 'Query Id', 'Query Name', 'Thread Entry Type'], axis=1)\n",
        "\n",
        "#Remove non-numeric features from the dataset (for identifying correlated columns)\n",
        "dfRemLowVar = frame.copy()\n",
        "print(\"Shae before removing non-numeric columns: \", frame.shape)\n",
        "\n",
        "num_colums = ['int16', 'int32', 'int64', 'float16', 'float32', 'float64']\n",
        "numerical_columns = list(frame.select_dtypes(include=num_colums).columns)\n",
        "frame = frame[numerical_columns]\n",
        "\n",
        "print(\"Shape after removing non-numeric columns: \", frame.shape)\n",
        "\n",
        "frame['addLabel']=0\n",
        "\n",
        "train_features, test_features, train_labels, test_labels=train_test_split(\n",
        "    frame.drop(labels=['addLabel'], axis=1),\n",
        "    frame['addLabel'],\n",
        "    test_size=0.0001,\n",
        "    random_state=1)\n",
        "\n",
        "#create correlation matrix and an empty set that will contain all correlated features\n",
        "correlated_features = set()\n",
        "correlation_matrix = frame.corr()\n",
        "\n",
        "#Add columns to correlation matrix - columns having correlation greater than 0.8\n",
        "for i in range(len(correlation_matrix .columns)):\n",
        "    for j in range(i):\n",
        "        if abs(correlation_matrix.iloc[i, j]) > 0.8:\n",
        "            colname = correlation_matrix.columns[i]\n",
        "            correlated_features.add(colname)\n",
        "            \n",
        "print(\"number of correlated features with corr > 0.8: \", len(correlated_features))\n",
        "\n",
        "print(\"All correlated features with corr > 0.8: \", correlated_features)\n",
        "\n",
        "#Drop all correlated features\n",
        "train_features.drop(labels=correlated_features, axis=1, inplace=True)\n",
        "\n",
        "\n"
      ],
      "execution_count": null,
      "outputs": [
        {
          "output_type": "stream",
          "text": [
            "Shae before removing non-numeric columns:  (110588, 50)\n",
            "Shape after removing non-numeric columns:  (110588, 18)\n",
            "number of correlated features with corr > 0.8:  4\n",
            "All correlated features with corr > 0.8:  {'Twitter Retweets', 'Percentage Female', 'Resource Id', 'Percentage Male'}\n"
          ],
          "name": "stdout"
        }
      ]
    },
    {
      "cell_type": "code",
      "metadata": {
        "id": "7y5SdvTAUmPd"
      },
      "source": [
        "\"\"\"\n",
        "Remove correlated columns\n",
        "\"\"\"\n",
        "\n",
        "frame = dfRemLowVar.copy()\n",
        "frame = frame.drop(['Resource Id', 'Percentage Male', 'Percentage Female'], axis=1)"
      ],
      "execution_count": null,
      "outputs": []
    },
    {
      "cell_type": "code",
      "metadata": {
        "id": "tK78Yue7I2Ep",
        "outputId": "47285a79-93f6-4d47-b5df-ef426cd1b423",
        "colab": {
          "base_uri": "https://localhost:8080/",
          "height": 238
        }
      },
      "source": [
        "#Remove non-twitter rows\n",
        "dfRemCorr = frame.copy()\n",
        "\n",
        "frame = frame[frame['Domain'].str.contains('twitter.com')]\n",
        "print(frame.shape)\n",
        "print(frame['Domain'].value_counts())"
      ],
      "execution_count": null,
      "outputs": [
        {
          "output_type": "stream",
          "text": [
            "(101317, 47)\n",
            "twitter.com                                                       88895\n",
            "http://twitter.com/JodieStubbles/statuses/730784496757395457          1\n",
            "http://twitter.com/gemmacolling86/statuses/779321128615542784         1\n",
            "http://twitter.com/jvmesbudd/statuses/747207288319057921              1\n",
            "http://twitter.com/OakeyRichardson/statuses/765898719539625985        1\n",
            "                                                                  ...  \n",
            "http://twitter.com/rubbishidiot/statuses/730818216721821697           1\n",
            "http://twitter.com/_mustafakhan/statuses/738345308367794177           1\n",
            "http://twitter.com/Benjaminoo/statuses/768841201738973185             1\n",
            "http://twitter.com/MissLauraMarcus/statuses/762321383309316096        1\n",
            "http://twitter.com/GazRich88/statuses/760554413509505025              1\n",
            "Name: Domain, Length: 12423, dtype: int64\n"
          ],
          "name": "stdout"
        }
      ]
    },
    {
      "cell_type": "code",
      "metadata": {
        "id": "jPAyu5pXfTAm",
        "outputId": "35e9f71e-27af-46e4-ac2b-6429a46bb841",
        "colab": {
          "base_uri": "https://localhost:8080/",
          "height": 530
        }
      },
      "source": [
        "frame.head()"
      ],
      "execution_count": null,
      "outputs": [
        {
          "output_type": "execute_result",
          "data": {
            "text/html": [
              "<div>\n",
              "<style scoped>\n",
              "    .dataframe tbody tr th:only-of-type {\n",
              "        vertical-align: middle;\n",
              "    }\n",
              "\n",
              "    .dataframe tbody tr th {\n",
              "        vertical-align: top;\n",
              "    }\n",
              "\n",
              "    .dataframe thead th {\n",
              "        text-align: right;\n",
              "    }\n",
              "</style>\n",
              "<table border=\"1\" class=\"dataframe\">\n",
              "  <thead>\n",
              "    <tr style=\"text-align: right;\">\n",
              "      <th></th>\n",
              "      <th>Date</th>\n",
              "      <th>Domain</th>\n",
              "      <th>Sentiment</th>\n",
              "      <th>Page Type</th>\n",
              "      <th>Language</th>\n",
              "      <th>Account Type</th>\n",
              "      <th>Author City</th>\n",
              "      <th>Author Continent</th>\n",
              "      <th>Author Country</th>\n",
              "      <th>Author County</th>\n",
              "      <th>Author Location</th>\n",
              "      <th>Author State</th>\n",
              "      <th>Average Pages per Visitor</th>\n",
              "      <th>Average Visits per Visitor</th>\n",
              "      <th>Backlinks</th>\n",
              "      <th>Category Details</th>\n",
              "      <th>City</th>\n",
              "      <th>County</th>\n",
              "      <th>Engagement Score</th>\n",
              "      <th>Gender</th>\n",
              "      <th>Hashtags</th>\n",
              "      <th>Impact</th>\n",
              "      <th>Impressions</th>\n",
              "      <th>Interest</th>\n",
              "      <th>Kred Influence</th>\n",
              "      <th>Kred Outreach</th>\n",
              "      <th>Latitude</th>\n",
              "      <th>Longitude</th>\n",
              "      <th>Mentioned Authors</th>\n",
              "      <th>Minutes per Visitor</th>\n",
              "      <th>Professions</th>\n",
              "      <th>Reach</th>\n",
              "      <th>State</th>\n",
              "      <th>Thread Author</th>\n",
              "      <th>Thread Id</th>\n",
              "      <th>Total Monthly Visitors</th>\n",
              "      <th>Twitter Author ID</th>\n",
              "      <th>Twitter Followers</th>\n",
              "      <th>Twitter Following</th>\n",
              "      <th>Twitter Reply Count</th>\n",
              "      <th>Twitter Reply to</th>\n",
              "      <th>Twitter Retweets</th>\n",
              "      <th>Twitter Tweets</th>\n",
              "      <th>Twitter Verified</th>\n",
              "      <th>mozRank Score</th>\n",
              "      <th>Word Count</th>\n",
              "      <th>Last Assignment Date</th>\n",
              "    </tr>\n",
              "  </thead>\n",
              "  <tbody>\n",
              "    <tr>\n",
              "      <th>0</th>\n",
              "      <td>2017-09-30</td>\n",
              "      <td>twitter.com</td>\n",
              "      <td>neutral</td>\n",
              "      <td>twitter</td>\n",
              "      <td>en</td>\n",
              "      <td>individual</td>\n",
              "      <td>Manchester</td>\n",
              "      <td>Europe</td>\n",
              "      <td>United Kingdom</td>\n",
              "      <td>Greater London</td>\n",
              "      <td>eu,uk,,,</td>\n",
              "      <td>England</td>\n",
              "      <td>22</td>\n",
              "      <td>6</td>\n",
              "      <td>49850734</td>\n",
              "      <td>{id=2265059, name=Twitter, parentName=Site Cat...</td>\n",
              "      <td>false</td>\n",
              "      <td>Greater London</td>\n",
              "      <td>0</td>\n",
              "      <td>female</td>\n",
              "      <td>female</td>\n",
              "      <td>33</td>\n",
              "      <td>190</td>\n",
              "      <td>0</td>\n",
              "      <td>496</td>\n",
              "      <td>0.0</td>\n",
              "      <td>0.0</td>\n",
              "      <td>0</td>\n",
              "      <td>@benandjerrysuk</td>\n",
              "      <td>20</td>\n",
              "      <td>Student (Student)</td>\n",
              "      <td>496</td>\n",
              "      <td>England</td>\n",
              "      <td>MagnumUK</td>\n",
              "      <td>0</td>\n",
              "      <td>6.000000e+09</td>\n",
              "      <td>2.414606e+09</td>\n",
              "      <td>190.0</td>\n",
              "      <td>143</td>\n",
              "      <td>0</td>\n",
              "      <td>0</td>\n",
              "      <td>0.0</td>\n",
              "      <td>4963</td>\n",
              "      <td>False</td>\n",
              "      <td>9.6</td>\n",
              "      <td>False</td>\n",
              "      <td>3.327532</td>\n",
              "    </tr>\n",
              "    <tr>\n",
              "      <th>1</th>\n",
              "      <td>2017-09-30</td>\n",
              "      <td>twitter.com</td>\n",
              "      <td>negative</td>\n",
              "      <td>twitter</td>\n",
              "      <td>en</td>\n",
              "      <td>individual</td>\n",
              "      <td>Manchester</td>\n",
              "      <td>Europe</td>\n",
              "      <td>United Kingdom</td>\n",
              "      <td>Greater Manchester</td>\n",
              "      <td>eu,uk,engb,ci0g,m03x</td>\n",
              "      <td>England</td>\n",
              "      <td>22</td>\n",
              "      <td>6</td>\n",
              "      <td>49850734</td>\n",
              "      <td>{id=2265059, name=Twitter, parentName=Site Cat...</td>\n",
              "      <td>Manchester</td>\n",
              "      <td>Greater Manchester</td>\n",
              "      <td>0</td>\n",
              "      <td>female</td>\n",
              "      <td>#benandjerrys</td>\n",
              "      <td>43</td>\n",
              "      <td>2049</td>\n",
              "      <td>Movies, Animals &amp; Pets, TV</td>\n",
              "      <td>638</td>\n",
              "      <td>0.0</td>\n",
              "      <td>0.0</td>\n",
              "      <td>0</td>\n",
              "      <td>@benandjerrysuk</td>\n",
              "      <td>20</td>\n",
              "      <td>Student (Student)</td>\n",
              "      <td>638</td>\n",
              "      <td>England</td>\n",
              "      <td>MagnumUK</td>\n",
              "      <td>0</td>\n",
              "      <td>6.000000e+09</td>\n",
              "      <td>4.033850e+09</td>\n",
              "      <td>2049.0</td>\n",
              "      <td>1557</td>\n",
              "      <td>0</td>\n",
              "      <td>0</td>\n",
              "      <td>0.0</td>\n",
              "      <td>45642</td>\n",
              "      <td>False</td>\n",
              "      <td>9.6</td>\n",
              "      <td>False</td>\n",
              "      <td>3.327532</td>\n",
              "    </tr>\n",
              "    <tr>\n",
              "      <th>2</th>\n",
              "      <td>2017-09-30</td>\n",
              "      <td>twitter.com</td>\n",
              "      <td>neutral</td>\n",
              "      <td>twitter</td>\n",
              "      <td>en</td>\n",
              "      <td>individual</td>\n",
              "      <td>Manchester</td>\n",
              "      <td>Europe</td>\n",
              "      <td>United Kingdom</td>\n",
              "      <td>Greater London</td>\n",
              "      <td>eu,uk,,,</td>\n",
              "      <td>England</td>\n",
              "      <td>22</td>\n",
              "      <td>6</td>\n",
              "      <td>49850734</td>\n",
              "      <td>{id=2265059, name=Twitter, parentName=Site Cat...</td>\n",
              "      <td>false</td>\n",
              "      <td>Greater London</td>\n",
              "      <td>0</td>\n",
              "      <td>female</td>\n",
              "      <td>female</td>\n",
              "      <td>28</td>\n",
              "      <td>181</td>\n",
              "      <td>0</td>\n",
              "      <td>412</td>\n",
              "      <td>2.0</td>\n",
              "      <td>0.0</td>\n",
              "      <td>0</td>\n",
              "      <td>@benandjerrysuk</td>\n",
              "      <td>20</td>\n",
              "      <td>Student (Student)</td>\n",
              "      <td>412</td>\n",
              "      <td>England</td>\n",
              "      <td>MagnumUK</td>\n",
              "      <td>0</td>\n",
              "      <td>6.000000e+09</td>\n",
              "      <td>6.212032e+08</td>\n",
              "      <td>181.0</td>\n",
              "      <td>132</td>\n",
              "      <td>0</td>\n",
              "      <td>0</td>\n",
              "      <td>0.0</td>\n",
              "      <td>3586</td>\n",
              "      <td>False</td>\n",
              "      <td>9.6</td>\n",
              "      <td>False</td>\n",
              "      <td>3.327532</td>\n",
              "    </tr>\n",
              "    <tr>\n",
              "      <th>3</th>\n",
              "      <td>2017-09-30</td>\n",
              "      <td>twitter.com</td>\n",
              "      <td>neutral</td>\n",
              "      <td>twitter</td>\n",
              "      <td>en</td>\n",
              "      <td>organisational</td>\n",
              "      <td>Bristol</td>\n",
              "      <td>Europe</td>\n",
              "      <td>United Kingdom</td>\n",
              "      <td>City of Bristol</td>\n",
              "      <td>eu,uk,engb,ci0o,brg9</td>\n",
              "      <td>England</td>\n",
              "      <td>22</td>\n",
              "      <td>6</td>\n",
              "      <td>49850734</td>\n",
              "      <td>{id=2265059, name=Twitter, parentName=Site Cat...</td>\n",
              "      <td>Bristol</td>\n",
              "      <td>City of Bristol</td>\n",
              "      <td>0</td>\n",
              "      <td>female</td>\n",
              "      <td>female</td>\n",
              "      <td>36</td>\n",
              "      <td>755</td>\n",
              "      <td>0</td>\n",
              "      <td>533</td>\n",
              "      <td>4.0</td>\n",
              "      <td>0.0</td>\n",
              "      <td>0</td>\n",
              "      <td>@benandjerrysuk</td>\n",
              "      <td>20</td>\n",
              "      <td>Student (Student)</td>\n",
              "      <td>533</td>\n",
              "      <td>England</td>\n",
              "      <td>MagnumUK</td>\n",
              "      <td>0</td>\n",
              "      <td>6.000000e+09</td>\n",
              "      <td>8.568348e+08</td>\n",
              "      <td>755.0</td>\n",
              "      <td>292</td>\n",
              "      <td>0</td>\n",
              "      <td>0</td>\n",
              "      <td>0.0</td>\n",
              "      <td>4754</td>\n",
              "      <td>False</td>\n",
              "      <td>9.6</td>\n",
              "      <td>False</td>\n",
              "      <td>3.327532</td>\n",
              "    </tr>\n",
              "    <tr>\n",
              "      <th>4</th>\n",
              "      <td>2017-09-30</td>\n",
              "      <td>twitter.com</td>\n",
              "      <td>positive</td>\n",
              "      <td>twitter</td>\n",
              "      <td>en</td>\n",
              "      <td>individual</td>\n",
              "      <td>Manchester</td>\n",
              "      <td>Europe</td>\n",
              "      <td>United Kingdom</td>\n",
              "      <td>Greater London</td>\n",
              "      <td>eu,uk,,,</td>\n",
              "      <td>England</td>\n",
              "      <td>22</td>\n",
              "      <td>6</td>\n",
              "      <td>49850734</td>\n",
              "      <td>{id=2265059, name=Twitter, parentName=Site Cat...</td>\n",
              "      <td>false</td>\n",
              "      <td>Greater London</td>\n",
              "      <td>0</td>\n",
              "      <td>male</td>\n",
              "      <td>female</td>\n",
              "      <td>30</td>\n",
              "      <td>83</td>\n",
              "      <td>0</td>\n",
              "      <td>447</td>\n",
              "      <td>0.0</td>\n",
              "      <td>0.0</td>\n",
              "      <td>0</td>\n",
              "      <td>@benandjerrysuk</td>\n",
              "      <td>20</td>\n",
              "      <td>Student (Student)</td>\n",
              "      <td>447</td>\n",
              "      <td>England</td>\n",
              "      <td>MagnumUK</td>\n",
              "      <td>0</td>\n",
              "      <td>6.000000e+09</td>\n",
              "      <td>5.675377e+08</td>\n",
              "      <td>83.0</td>\n",
              "      <td>76</td>\n",
              "      <td>0</td>\n",
              "      <td>0</td>\n",
              "      <td>0.0</td>\n",
              "      <td>332</td>\n",
              "      <td>False</td>\n",
              "      <td>9.6</td>\n",
              "      <td>False</td>\n",
              "      <td>3.327532</td>\n",
              "    </tr>\n",
              "  </tbody>\n",
              "</table>\n",
              "</div>"
            ],
            "text/plain": [
              "        Date       Domain Sentiment Page Type Language    Account Type  \\\n",
              "0 2017-09-30  twitter.com   neutral   twitter       en      individual   \n",
              "1 2017-09-30  twitter.com  negative   twitter       en      individual   \n",
              "2 2017-09-30  twitter.com   neutral   twitter       en      individual   \n",
              "3 2017-09-30  twitter.com   neutral   twitter       en  organisational   \n",
              "4 2017-09-30  twitter.com  positive   twitter       en      individual   \n",
              "\n",
              "  Author City Author Continent  Author Country       Author County  \\\n",
              "0  Manchester           Europe  United Kingdom      Greater London   \n",
              "1  Manchester           Europe  United Kingdom  Greater Manchester   \n",
              "2  Manchester           Europe  United Kingdom      Greater London   \n",
              "3     Bristol           Europe  United Kingdom     City of Bristol   \n",
              "4  Manchester           Europe  United Kingdom      Greater London   \n",
              "\n",
              "        Author Location Author State Average Pages per Visitor  \\\n",
              "0              eu,uk,,,      England                        22   \n",
              "1  eu,uk,engb,ci0g,m03x      England                        22   \n",
              "2              eu,uk,,,      England                        22   \n",
              "3  eu,uk,engb,ci0o,brg9      England                        22   \n",
              "4              eu,uk,,,      England                        22   \n",
              "\n",
              "   Average Visits per Visitor  Backlinks  \\\n",
              "0                           6   49850734   \n",
              "1                           6   49850734   \n",
              "2                           6   49850734   \n",
              "3                           6   49850734   \n",
              "4                           6   49850734   \n",
              "\n",
              "                                    Category Details        City  \\\n",
              "0  {id=2265059, name=Twitter, parentName=Site Cat...       false   \n",
              "1  {id=2265059, name=Twitter, parentName=Site Cat...  Manchester   \n",
              "2  {id=2265059, name=Twitter, parentName=Site Cat...       false   \n",
              "3  {id=2265059, name=Twitter, parentName=Site Cat...     Bristol   \n",
              "4  {id=2265059, name=Twitter, parentName=Site Cat...       false   \n",
              "\n",
              "               County Engagement Score  Gender       Hashtags Impact  \\\n",
              "0      Greater London                0  female         female     33   \n",
              "1  Greater Manchester                0  female  #benandjerrys     43   \n",
              "2      Greater London                0  female         female     28   \n",
              "3     City of Bristol                0  female         female     36   \n",
              "4      Greater London                0    male         female     30   \n",
              "\n",
              "   Impressions                    Interest Kred Influence  Kred Outreach  \\\n",
              "0          190                           0            496            0.0   \n",
              "1         2049  Movies, Animals & Pets, TV            638            0.0   \n",
              "2          181                           0            412            2.0   \n",
              "3          755                           0            533            4.0   \n",
              "4           83                           0            447            0.0   \n",
              "\n",
              "   Latitude Longitude Mentioned Authors Minutes per Visitor  \\\n",
              "0       0.0         0   @benandjerrysuk                  20   \n",
              "1       0.0         0   @benandjerrysuk                  20   \n",
              "2       0.0         0   @benandjerrysuk                  20   \n",
              "3       0.0         0   @benandjerrysuk                  20   \n",
              "4       0.0         0   @benandjerrysuk                  20   \n",
              "\n",
              "         Professions  Reach    State Thread Author Thread Id  \\\n",
              "0  Student (Student)    496  England      MagnumUK         0   \n",
              "1  Student (Student)    638  England      MagnumUK         0   \n",
              "2  Student (Student)    412  England      MagnumUK         0   \n",
              "3  Student (Student)    533  England      MagnumUK         0   \n",
              "4  Student (Student)    447  England      MagnumUK         0   \n",
              "\n",
              "   Total Monthly Visitors  Twitter Author ID  Twitter Followers  \\\n",
              "0            6.000000e+09       2.414606e+09              190.0   \n",
              "1            6.000000e+09       4.033850e+09             2049.0   \n",
              "2            6.000000e+09       6.212032e+08              181.0   \n",
              "3            6.000000e+09       8.568348e+08              755.0   \n",
              "4            6.000000e+09       5.675377e+08               83.0   \n",
              "\n",
              "   Twitter Following  Twitter Reply Count Twitter Reply to  Twitter Retweets  \\\n",
              "0                143                    0                0               0.0   \n",
              "1               1557                    0                0               0.0   \n",
              "2                132                    0                0               0.0   \n",
              "3                292                    0                0               0.0   \n",
              "4                 76                    0                0               0.0   \n",
              "\n",
              "   Twitter Tweets Twitter Verified  mozRank Score  Word Count  \\\n",
              "0            4963            False            9.6       False   \n",
              "1           45642            False            9.6       False   \n",
              "2            3586            False            9.6       False   \n",
              "3            4754            False            9.6       False   \n",
              "4             332            False            9.6       False   \n",
              "\n",
              "   Last Assignment Date  \n",
              "0              3.327532  \n",
              "1              3.327532  \n",
              "2              3.327532  \n",
              "3              3.327532  \n",
              "4              3.327532  "
            ]
          },
          "metadata": {
            "tags": []
          },
          "execution_count": 33
        }
      ]
    },
    {
      "cell_type": "code",
      "metadata": {
        "id": "enJGYK7pRJJi",
        "outputId": "0baa81a4-56b9-4f3b-ee0f-a89d3cc2f7d2",
        "colab": {
          "base_uri": "https://localhost:8080/",
          "height": 54
        }
      },
      "source": [
        "\"\"\"\n",
        "print('Mentioned Authors')\n",
        "print(frame['Mentioned Authors'].value_counts())\n",
        "\n",
        "print('hashtags')\n",
        "print(frame['Hashtags'].value_counts())\n",
        "\n",
        "print('interest')\n",
        "print(frame['Interest'].value_counts())\n",
        "\n",
        "print('thread author')\n",
        "print(frame['Thread Author'].value_counts())\n",
        "\n",
        "print('thread ID')\n",
        "print(frame['Thread Id'].value_counts())\n",
        "\n",
        "print('reply count')\n",
        "print(frame['Twitter Reply Count'].value_counts())\n",
        "\n",
        "print('reply to')\n",
        "print(frame['Twitter Reply to'].value_counts())\n",
        "\n",
        "\"\"\""
      ],
      "execution_count": null,
      "outputs": [
        {
          "output_type": "execute_result",
          "data": {
            "text/plain": [
              "\"\\nprint('Mentioned Authors')\\nprint(frame['Mentioned Authors'].value_counts())\\n\\nprint('hashtags')\\nprint(frame['Hashtags'].value_counts())\\n\\nprint('interest')\\nprint(frame['Interest'].value_counts())\\n\\nprint('thread author')\\nprint(frame['Thread Author'].value_counts())\\n\\nprint('thread ID')\\nprint(frame['Thread Id'].value_counts())\\n\\nprint('reply count')\\nprint(frame['Twitter Reply Count'].value_counts())\\n\\nprint('reply to')\\nprint(frame['Twitter Reply to'].value_counts())\\n\\n\""
            ]
          },
          "metadata": {
            "tags": []
          },
          "execution_count": 34
        }
      ]
    },
    {
      "cell_type": "code",
      "metadata": {
        "id": "YDmevq_K40NZ"
      },
      "source": [
        "\n",
        "dfTwitterRows = frame.copy()\n",
        "\n",
        "frame = frame.drop(['Date', 'Domain', 'Language', 'Page Type', 'Author City', 'Author Continent', 'Author County', 'Author Location', \n",
        "                    'Author State', 'Average Pages per Visitor','Average Visits per Visitor', 'Backlinks', 'Category Details', 'City', 'County', 'Latitude',\n",
        "                    'Longitude', 'State', 'Total Monthly Visitors', 'Twitter Author ID', 'Twitter Reply to', 'Thread Author', 'Thread Id'], axis=1)\n",
        "\n"
      ],
      "execution_count": null,
      "outputs": []
    },
    {
      "cell_type": "code",
      "metadata": {
        "id": "vTUkD0_4UaYH",
        "outputId": "5c847297-7b91-4aac-fa91-e958429b5a0a",
        "colab": {
          "base_uri": "https://localhost:8080/",
          "height": 377
        }
      },
      "source": [
        "#print(frame.shape)\n",
        "frame.head()"
      ],
      "execution_count": null,
      "outputs": [
        {
          "output_type": "execute_result",
          "data": {
            "text/html": [
              "<div>\n",
              "<style scoped>\n",
              "    .dataframe tbody tr th:only-of-type {\n",
              "        vertical-align: middle;\n",
              "    }\n",
              "\n",
              "    .dataframe tbody tr th {\n",
              "        vertical-align: top;\n",
              "    }\n",
              "\n",
              "    .dataframe thead th {\n",
              "        text-align: right;\n",
              "    }\n",
              "</style>\n",
              "<table border=\"1\" class=\"dataframe\">\n",
              "  <thead>\n",
              "    <tr style=\"text-align: right;\">\n",
              "      <th></th>\n",
              "      <th>Sentiment</th>\n",
              "      <th>Account Type</th>\n",
              "      <th>Author Country</th>\n",
              "      <th>Engagement Score</th>\n",
              "      <th>Gender</th>\n",
              "      <th>Hashtags</th>\n",
              "      <th>Impact</th>\n",
              "      <th>Impressions</th>\n",
              "      <th>Interest</th>\n",
              "      <th>Kred Influence</th>\n",
              "      <th>Kred Outreach</th>\n",
              "      <th>Mentioned Authors</th>\n",
              "      <th>Minutes per Visitor</th>\n",
              "      <th>Professions</th>\n",
              "      <th>Reach</th>\n",
              "      <th>Twitter Followers</th>\n",
              "      <th>Twitter Following</th>\n",
              "      <th>Twitter Reply Count</th>\n",
              "      <th>Twitter Retweets</th>\n",
              "      <th>Twitter Tweets</th>\n",
              "      <th>Twitter Verified</th>\n",
              "      <th>mozRank Score</th>\n",
              "      <th>Word Count</th>\n",
              "      <th>Last Assignment Date</th>\n",
              "    </tr>\n",
              "  </thead>\n",
              "  <tbody>\n",
              "    <tr>\n",
              "      <th>0</th>\n",
              "      <td>neutral</td>\n",
              "      <td>individual</td>\n",
              "      <td>United Kingdom</td>\n",
              "      <td>0</td>\n",
              "      <td>female</td>\n",
              "      <td>female</td>\n",
              "      <td>33</td>\n",
              "      <td>190</td>\n",
              "      <td>0</td>\n",
              "      <td>496</td>\n",
              "      <td>0.0</td>\n",
              "      <td>@benandjerrysuk</td>\n",
              "      <td>20</td>\n",
              "      <td>Student (Student)</td>\n",
              "      <td>496</td>\n",
              "      <td>190.0</td>\n",
              "      <td>143</td>\n",
              "      <td>0</td>\n",
              "      <td>0.0</td>\n",
              "      <td>4963</td>\n",
              "      <td>False</td>\n",
              "      <td>9.6</td>\n",
              "      <td>False</td>\n",
              "      <td>3.327532</td>\n",
              "    </tr>\n",
              "    <tr>\n",
              "      <th>1</th>\n",
              "      <td>negative</td>\n",
              "      <td>individual</td>\n",
              "      <td>United Kingdom</td>\n",
              "      <td>0</td>\n",
              "      <td>female</td>\n",
              "      <td>#benandjerrys</td>\n",
              "      <td>43</td>\n",
              "      <td>2049</td>\n",
              "      <td>Movies, Animals &amp; Pets, TV</td>\n",
              "      <td>638</td>\n",
              "      <td>0.0</td>\n",
              "      <td>@benandjerrysuk</td>\n",
              "      <td>20</td>\n",
              "      <td>Student (Student)</td>\n",
              "      <td>638</td>\n",
              "      <td>2049.0</td>\n",
              "      <td>1557</td>\n",
              "      <td>0</td>\n",
              "      <td>0.0</td>\n",
              "      <td>45642</td>\n",
              "      <td>False</td>\n",
              "      <td>9.6</td>\n",
              "      <td>False</td>\n",
              "      <td>3.327532</td>\n",
              "    </tr>\n",
              "    <tr>\n",
              "      <th>2</th>\n",
              "      <td>neutral</td>\n",
              "      <td>individual</td>\n",
              "      <td>United Kingdom</td>\n",
              "      <td>0</td>\n",
              "      <td>female</td>\n",
              "      <td>female</td>\n",
              "      <td>28</td>\n",
              "      <td>181</td>\n",
              "      <td>0</td>\n",
              "      <td>412</td>\n",
              "      <td>2.0</td>\n",
              "      <td>@benandjerrysuk</td>\n",
              "      <td>20</td>\n",
              "      <td>Student (Student)</td>\n",
              "      <td>412</td>\n",
              "      <td>181.0</td>\n",
              "      <td>132</td>\n",
              "      <td>0</td>\n",
              "      <td>0.0</td>\n",
              "      <td>3586</td>\n",
              "      <td>False</td>\n",
              "      <td>9.6</td>\n",
              "      <td>False</td>\n",
              "      <td>3.327532</td>\n",
              "    </tr>\n",
              "    <tr>\n",
              "      <th>3</th>\n",
              "      <td>neutral</td>\n",
              "      <td>organisational</td>\n",
              "      <td>United Kingdom</td>\n",
              "      <td>0</td>\n",
              "      <td>female</td>\n",
              "      <td>female</td>\n",
              "      <td>36</td>\n",
              "      <td>755</td>\n",
              "      <td>0</td>\n",
              "      <td>533</td>\n",
              "      <td>4.0</td>\n",
              "      <td>@benandjerrysuk</td>\n",
              "      <td>20</td>\n",
              "      <td>Student (Student)</td>\n",
              "      <td>533</td>\n",
              "      <td>755.0</td>\n",
              "      <td>292</td>\n",
              "      <td>0</td>\n",
              "      <td>0.0</td>\n",
              "      <td>4754</td>\n",
              "      <td>False</td>\n",
              "      <td>9.6</td>\n",
              "      <td>False</td>\n",
              "      <td>3.327532</td>\n",
              "    </tr>\n",
              "    <tr>\n",
              "      <th>4</th>\n",
              "      <td>positive</td>\n",
              "      <td>individual</td>\n",
              "      <td>United Kingdom</td>\n",
              "      <td>0</td>\n",
              "      <td>male</td>\n",
              "      <td>female</td>\n",
              "      <td>30</td>\n",
              "      <td>83</td>\n",
              "      <td>0</td>\n",
              "      <td>447</td>\n",
              "      <td>0.0</td>\n",
              "      <td>@benandjerrysuk</td>\n",
              "      <td>20</td>\n",
              "      <td>Student (Student)</td>\n",
              "      <td>447</td>\n",
              "      <td>83.0</td>\n",
              "      <td>76</td>\n",
              "      <td>0</td>\n",
              "      <td>0.0</td>\n",
              "      <td>332</td>\n",
              "      <td>False</td>\n",
              "      <td>9.6</td>\n",
              "      <td>False</td>\n",
              "      <td>3.327532</td>\n",
              "    </tr>\n",
              "  </tbody>\n",
              "</table>\n",
              "</div>"
            ],
            "text/plain": [
              "  Sentiment    Account Type  Author Country Engagement Score  Gender  \\\n",
              "0   neutral      individual  United Kingdom                0  female   \n",
              "1  negative      individual  United Kingdom                0  female   \n",
              "2   neutral      individual  United Kingdom                0  female   \n",
              "3   neutral  organisational  United Kingdom                0  female   \n",
              "4  positive      individual  United Kingdom                0    male   \n",
              "\n",
              "        Hashtags Impact  Impressions                    Interest  \\\n",
              "0         female     33          190                           0   \n",
              "1  #benandjerrys     43         2049  Movies, Animals & Pets, TV   \n",
              "2         female     28          181                           0   \n",
              "3         female     36          755                           0   \n",
              "4         female     30           83                           0   \n",
              "\n",
              "  Kred Influence  Kred Outreach Mentioned Authors Minutes per Visitor  \\\n",
              "0            496            0.0   @benandjerrysuk                  20   \n",
              "1            638            0.0   @benandjerrysuk                  20   \n",
              "2            412            2.0   @benandjerrysuk                  20   \n",
              "3            533            4.0   @benandjerrysuk                  20   \n",
              "4            447            0.0   @benandjerrysuk                  20   \n",
              "\n",
              "         Professions  Reach  Twitter Followers  Twitter Following  \\\n",
              "0  Student (Student)    496              190.0                143   \n",
              "1  Student (Student)    638             2049.0               1557   \n",
              "2  Student (Student)    412              181.0                132   \n",
              "3  Student (Student)    533              755.0                292   \n",
              "4  Student (Student)    447               83.0                 76   \n",
              "\n",
              "   Twitter Reply Count  Twitter Retweets  Twitter Tweets Twitter Verified  \\\n",
              "0                    0               0.0            4963            False   \n",
              "1                    0               0.0           45642            False   \n",
              "2                    0               0.0            3586            False   \n",
              "3                    0               0.0            4754            False   \n",
              "4                    0               0.0             332            False   \n",
              "\n",
              "   mozRank Score  Word Count  Last Assignment Date  \n",
              "0            9.6       False              3.327532  \n",
              "1            9.6       False              3.327532  \n",
              "2            9.6       False              3.327532  \n",
              "3            9.6       False              3.327532  \n",
              "4            9.6       False              3.327532  "
            ]
          },
          "metadata": {
            "tags": []
          },
          "execution_count": 36
        }
      ]
    },
    {
      "cell_type": "code",
      "metadata": {
        "id": "YhkV_Quaerbk"
      },
      "source": [
        "dfDropFinal = frame.copy()"
      ],
      "execution_count": null,
      "outputs": []
    },
    {
      "cell_type": "code",
      "metadata": {
        "id": "biNO_zb3e3_f"
      },
      "source": [
        "\"\"\"\n",
        "Remove hastags and @\n",
        "\"\"\"\n",
        "\n",
        "frame['Hashtags'] = frame['Hashtags'].str.replace(\"#\", \"\")\n",
        "frame['Mentioned Authors'] = frame['Mentioned Authors'].str.replace(\"@\", \"\")"
      ],
      "execution_count": null,
      "outputs": []
    },
    {
      "cell_type": "code",
      "metadata": {
        "id": "r0GhPZYx2j8f"
      },
      "source": [
        "\"\"\"\n",
        "Remove words in paranthesis in Professions column - remove subcategories of professions - Just keep the main category\n",
        "\"\"\"\n",
        "frame['Professions'] = frame['Professions'].str.replace(r\"\\(.*\\)\", \"\")"
      ],
      "execution_count": null,
      "outputs": []
    },
    {
      "cell_type": "code",
      "metadata": {
        "id": "jidLYXpJ7lW3"
      },
      "source": [
        "frame['Professions'] = frame['Professions'].str.strip()"
      ],
      "execution_count": null,
      "outputs": []
    },
    {
      "cell_type": "code",
      "metadata": {
        "id": "uuxdRyvMqVaR",
        "outputId": "4cd5fe7e-cce4-43b6-eb0d-a10e96a6f3b4",
        "colab": {
          "base_uri": "https://localhost:8080/",
          "height": 54
        }
      },
      "source": [
        "\"\"\"\n",
        "Split Interest and Professions column into columns in temp datasets\n",
        "\n",
        "dfTempInterest = frame['Interest'].str.get_dummies(sep=',')\n",
        "dfTempProfessions = frame['Professions'].str.get_dummies(sep=',')\n",
        "\"\"\""
      ],
      "execution_count": null,
      "outputs": [
        {
          "output_type": "execute_result",
          "data": {
            "text/plain": [
              "\"\\nSplit Interest and Professions column into columns in temp datasets\\n\\ndfTempInterest = frame['Interest'].str.get_dummies(sep=',')\\ndfTempProfessions = frame['Professions'].str.get_dummies(sep=',')\\n\""
            ]
          },
          "metadata": {
            "tags": []
          },
          "execution_count": 41
        }
      ]
    },
    {
      "cell_type": "code",
      "metadata": {
        "id": "3EZ5xa89yDui",
        "outputId": "e41fd956-2a1b-4c72-83a1-1c64d6401f0c",
        "colab": {
          "base_uri": "https://localhost:8080/",
          "height": 323
        }
      },
      "source": [
        "frame['Professions'].value_counts()"
      ],
      "execution_count": null,
      "outputs": [
        {
          "output_type": "execute_result",
          "data": {
            "text/plain": [
              "Student                                                81522\n",
              "Artist                                                  7050\n",
              "Executive                                               2847\n",
              "Journalist                                              2476\n",
              "Sales/Marketing/PR                                      1979\n",
              "Health practitioner                                     1173\n",
              "Sportpersons & Trainer                                  1090\n",
              "Teacher & Lecturer                                       905\n",
              "Scientist & Researcher                                   811\n",
              "Software developer & IT                                  707\n",
              "Legal                                                    517\n",
              "Politician                                               235\n",
              "Artist, Executive                                          1\n",
              "Emergency worker                                           1\n",
              "Journalist, Health practitioner, Sales/Marketing/PR        1\n",
              "Journalist, Executive                                      1\n",
              "Politician, Artist                                         1\n",
              "Name: Professions, dtype: int64"
            ]
          },
          "metadata": {
            "tags": []
          },
          "execution_count": 42
        }
      ]
    },
    {
      "cell_type": "code",
      "metadata": {
        "id": "NZtuDAUh50an"
      },
      "source": [
        "\"\"\"\n",
        "Replace multiple professions with one profession\n",
        "\"\"\"\n",
        "frame.loc[frame.Professions=='Journalist, Health practitioner, Sales/Marketing/PR', 'Professions'] = 'Journalist'\n",
        "frame.loc[frame.Professions=='Politician, Artist', 'Professions'] = 'Politician'\n",
        "frame.loc[frame.Professions=='Artist, Executive', 'Professions'] = 'Artist'\n",
        "frame.loc[frame.Professions=='Journalist, Executive'] = 'Journalist'"
      ],
      "execution_count": null,
      "outputs": []
    },
    {
      "cell_type": "code",
      "metadata": {
        "id": "YzJqMUKGZ5fD",
        "outputId": "bfa74b69-359a-4f5c-b06c-7057bcbf2a16",
        "colab": {
          "base_uri": "https://localhost:8080/",
          "height": 255
        }
      },
      "source": [
        "frame['Professions'].value_counts()"
      ],
      "execution_count": null,
      "outputs": [
        {
          "output_type": "execute_result",
          "data": {
            "text/plain": [
              "Student                    81522\n",
              "Artist                      7051\n",
              "Executive                   2847\n",
              "Journalist                  2478\n",
              "Sales/Marketing/PR          1979\n",
              "Health practitioner         1173\n",
              "Sportpersons & Trainer      1090\n",
              "Teacher & Lecturer           905\n",
              "Scientist & Researcher       811\n",
              "Software developer & IT      707\n",
              "Legal                        517\n",
              "Politician                   236\n",
              "Emergency worker               1\n",
              "Name: Professions, dtype: int64"
            ]
          },
          "metadata": {
            "tags": []
          },
          "execution_count": 44
        }
      ]
    },
    {
      "cell_type": "code",
      "metadata": {
        "id": "1ipsn7_3775_"
      },
      "source": [
        "\"\"\"\n",
        "Add Kdoutreach, Percentage Male and Percentage Female columns\n",
        "Drop Interest column\n",
        "\"\"\"\n",
        "dfStrip = frame.copy()\n",
        "frame = frame.drop(['Interest', 'Engagement Score', 'Minutes per Visitor', 'Mentioned Authors', 'mozRank Score', 'Author Country', 'Hashtags'], axis=1)\n",
        "\n",
        "#dfTempRaw = dfraw[['Kred Outreach']].copy()\n",
        "#frame = frame.merge(dfTempRaw, how='inner', left_index = True, right_index = True)"
      ],
      "execution_count": null,
      "outputs": []
    },
    {
      "cell_type": "code",
      "metadata": {
        "id": "sga6uFo-ZPB6",
        "outputId": "7045a341-2870-4b3c-fd8c-f239ffe035b2",
        "colab": {
          "base_uri": "https://localhost:8080/",
          "height": 258
        }
      },
      "source": [
        "frame.head()"
      ],
      "execution_count": null,
      "outputs": [
        {
          "output_type": "execute_result",
          "data": {
            "text/html": [
              "<div>\n",
              "<style scoped>\n",
              "    .dataframe tbody tr th:only-of-type {\n",
              "        vertical-align: middle;\n",
              "    }\n",
              "\n",
              "    .dataframe tbody tr th {\n",
              "        vertical-align: top;\n",
              "    }\n",
              "\n",
              "    .dataframe thead th {\n",
              "        text-align: right;\n",
              "    }\n",
              "</style>\n",
              "<table border=\"1\" class=\"dataframe\">\n",
              "  <thead>\n",
              "    <tr style=\"text-align: right;\">\n",
              "      <th></th>\n",
              "      <th>Sentiment</th>\n",
              "      <th>Account Type</th>\n",
              "      <th>Gender</th>\n",
              "      <th>Impact</th>\n",
              "      <th>Impressions</th>\n",
              "      <th>Kred Influence</th>\n",
              "      <th>Kred Outreach</th>\n",
              "      <th>Professions</th>\n",
              "      <th>Reach</th>\n",
              "      <th>Twitter Followers</th>\n",
              "      <th>Twitter Following</th>\n",
              "      <th>Twitter Reply Count</th>\n",
              "      <th>Twitter Retweets</th>\n",
              "      <th>Twitter Tweets</th>\n",
              "      <th>Twitter Verified</th>\n",
              "      <th>Word Count</th>\n",
              "      <th>Last Assignment Date</th>\n",
              "    </tr>\n",
              "  </thead>\n",
              "  <tbody>\n",
              "    <tr>\n",
              "      <th>0</th>\n",
              "      <td>neutral</td>\n",
              "      <td>individual</td>\n",
              "      <td>female</td>\n",
              "      <td>33</td>\n",
              "      <td>190</td>\n",
              "      <td>496</td>\n",
              "      <td>0</td>\n",
              "      <td>Student</td>\n",
              "      <td>496</td>\n",
              "      <td>190</td>\n",
              "      <td>143</td>\n",
              "      <td>0</td>\n",
              "      <td>0</td>\n",
              "      <td>4963</td>\n",
              "      <td>False</td>\n",
              "      <td>False</td>\n",
              "      <td>3.32753</td>\n",
              "    </tr>\n",
              "    <tr>\n",
              "      <th>1</th>\n",
              "      <td>negative</td>\n",
              "      <td>individual</td>\n",
              "      <td>female</td>\n",
              "      <td>43</td>\n",
              "      <td>2049</td>\n",
              "      <td>638</td>\n",
              "      <td>0</td>\n",
              "      <td>Student</td>\n",
              "      <td>638</td>\n",
              "      <td>2049</td>\n",
              "      <td>1557</td>\n",
              "      <td>0</td>\n",
              "      <td>0</td>\n",
              "      <td>45642</td>\n",
              "      <td>False</td>\n",
              "      <td>False</td>\n",
              "      <td>3.32753</td>\n",
              "    </tr>\n",
              "    <tr>\n",
              "      <th>2</th>\n",
              "      <td>neutral</td>\n",
              "      <td>individual</td>\n",
              "      <td>female</td>\n",
              "      <td>28</td>\n",
              "      <td>181</td>\n",
              "      <td>412</td>\n",
              "      <td>2</td>\n",
              "      <td>Student</td>\n",
              "      <td>412</td>\n",
              "      <td>181</td>\n",
              "      <td>132</td>\n",
              "      <td>0</td>\n",
              "      <td>0</td>\n",
              "      <td>3586</td>\n",
              "      <td>False</td>\n",
              "      <td>False</td>\n",
              "      <td>3.32753</td>\n",
              "    </tr>\n",
              "    <tr>\n",
              "      <th>3</th>\n",
              "      <td>neutral</td>\n",
              "      <td>organisational</td>\n",
              "      <td>female</td>\n",
              "      <td>36</td>\n",
              "      <td>755</td>\n",
              "      <td>533</td>\n",
              "      <td>4</td>\n",
              "      <td>Student</td>\n",
              "      <td>533</td>\n",
              "      <td>755</td>\n",
              "      <td>292</td>\n",
              "      <td>0</td>\n",
              "      <td>0</td>\n",
              "      <td>4754</td>\n",
              "      <td>False</td>\n",
              "      <td>False</td>\n",
              "      <td>3.32753</td>\n",
              "    </tr>\n",
              "    <tr>\n",
              "      <th>4</th>\n",
              "      <td>positive</td>\n",
              "      <td>individual</td>\n",
              "      <td>male</td>\n",
              "      <td>30</td>\n",
              "      <td>83</td>\n",
              "      <td>447</td>\n",
              "      <td>0</td>\n",
              "      <td>Student</td>\n",
              "      <td>447</td>\n",
              "      <td>83</td>\n",
              "      <td>76</td>\n",
              "      <td>0</td>\n",
              "      <td>0</td>\n",
              "      <td>332</td>\n",
              "      <td>False</td>\n",
              "      <td>False</td>\n",
              "      <td>3.32753</td>\n",
              "    </tr>\n",
              "  </tbody>\n",
              "</table>\n",
              "</div>"
            ],
            "text/plain": [
              "  Sentiment    Account Type  Gender Impact Impressions Kred Influence  \\\n",
              "0   neutral      individual  female     33         190            496   \n",
              "1  negative      individual  female     43        2049            638   \n",
              "2   neutral      individual  female     28         181            412   \n",
              "3   neutral  organisational  female     36         755            533   \n",
              "4  positive      individual    male     30          83            447   \n",
              "\n",
              "  Kred Outreach Professions Reach Twitter Followers Twitter Following  \\\n",
              "0             0     Student   496               190               143   \n",
              "1             0     Student   638              2049              1557   \n",
              "2             2     Student   412               181               132   \n",
              "3             4     Student   533               755               292   \n",
              "4             0     Student   447                83                76   \n",
              "\n",
              "  Twitter Reply Count Twitter Retweets Twitter Tweets Twitter Verified  \\\n",
              "0                   0                0           4963            False   \n",
              "1                   0                0          45642            False   \n",
              "2                   0                0           3586            False   \n",
              "3                   0                0           4754            False   \n",
              "4                   0                0            332            False   \n",
              "\n",
              "  Word Count Last Assignment Date  \n",
              "0      False              3.32753  \n",
              "1      False              3.32753  \n",
              "2      False              3.32753  \n",
              "3      False              3.32753  \n",
              "4      False              3.32753  "
            ]
          },
          "metadata": {
            "tags": []
          },
          "execution_count": 46
        }
      ]
    },
    {
      "cell_type": "code",
      "metadata": {
        "id": "mxPi4zL7aJJ1",
        "outputId": "8cc882ff-95a4-40a6-fe7f-da209f6e81db",
        "colab": {
          "base_uri": "https://localhost:8080/",
          "height": 34
        }
      },
      "source": [
        "frame.shape"
      ],
      "execution_count": null,
      "outputs": [
        {
          "output_type": "execute_result",
          "data": {
            "text/plain": [
              "(101317, 17)"
            ]
          },
          "metadata": {
            "tags": []
          },
          "execution_count": 47
        }
      ]
    },
    {
      "cell_type": "code",
      "metadata": {
        "id": "uFtEtMjwbbKK"
      },
      "source": [
        "dfFinalCols = frame.copy()"
      ],
      "execution_count": null,
      "outputs": []
    },
    {
      "cell_type": "code",
      "metadata": {
        "id": "CX57twq54TG6",
        "outputId": "1465228f-14c2-4232-ff85-32e2353f4589",
        "colab": {
          "base_uri": "https://localhost:8080/",
          "height": 54
        }
      },
      "source": [
        "\"\"\"\n",
        "Add data from next column for suspected incorrect entry\n",
        "\n",
        "dfTempRaw = dfraw[['Word Count', 'Resource Id']].copy()\n",
        "frame = frame.merge(dfTempRaw, how='inner', left_index=True, right_index=True)\n",
        "\n",
        "frame['Twitter Verified'] = np.where(~frame['Twitter Verified'].astype(str).str.contains('0|1|2|3|4|5|6|7|8|9'), frame['Word Count'], frame['Twitter Verified'])\n",
        "frame = frame.drop(['Word Count'], axis=1)\n",
        "\n",
        "frame['Reach'] = np.where(~frame['Reach'].astype(str).str.contains('0|1|2|3|4|5|6|7|8|9'), frame['Resource Id'], frame['Reach'])\n",
        "frame = frame.drop(['Resource Id'], axis=1)\n",
        "\n",
        "frame['Kred Influence'] = np.where(~frame['Kred Influence'].astype(str).str.contains('0|1|2|3|4|5|6|7|8|9'), frame['Kred Outreach'], frame['Kred Influence'])\n",
        "frame['Kred Outreach'] = np.where(frame['Kred Influence'] == frame['Kred Outreach'], '0', frame['Kred Outreach'])\n",
        "\n",
        "frame['Impact'] = np.where(~frame['Impact'].astype(str).str.contains('0|1|2|3|4|5|6|7|8|9'), frame['Impressions'], frame['Impact'])\n",
        "frame['Impressions'] = np.where(frame['Impact'] == frame['Impressions'], '0', frame['Impressions'])\n",
        "\n",
        "\"\"\"\n"
      ],
      "execution_count": null,
      "outputs": [
        {
          "output_type": "execute_result",
          "data": {
            "text/plain": [
              "\"\\nAdd data from next column for suspected incorrect entry\\n\\ndfTempRaw = dfraw[['Word Count', 'Resource Id']].copy()\\nframe = frame.merge(dfTempRaw, how='inner', left_index=True, right_index=True)\\n\\nframe['Twitter Verified'] = np.where(~frame['Twitter Verified'].astype(str).str.contains('0|1|2|3|4|5|6|7|8|9'), frame['Word Count'], frame['Twitter Verified'])\\nframe = frame.drop(['Word Count'], axis=1)\\n\\nframe['Reach'] = np.where(~frame['Reach'].astype(str).str.contains('0|1|2|3|4|5|6|7|8|9'), frame['Resource Id'], frame['Reach'])\\nframe = frame.drop(['Resource Id'], axis=1)\\n\\nframe['Kred Influence'] = np.where(~frame['Kred Influence'].astype(str).str.contains('0|1|2|3|4|5|6|7|8|9'), frame['Kred Outreach'], frame['Kred Influence'])\\nframe['Kred Outreach'] = np.where(frame['Kred Influence'] == frame['Kred Outreach'], '0', frame['Kred Outreach'])\\n\\nframe['Impact'] = np.where(~frame['Impact'].astype(str).str.contains('0|1|2|3|4|5|6|7|8|9'), frame['Impressions'], frame['Impact'])\\nframe['Impressions'] = np.where(frame['Impact'] == frame['Impressions'], '0', frame['Impressions'])\\n\\n\""
            ]
          },
          "metadata": {
            "tags": []
          },
          "execution_count": 49
        }
      ]
    },
    {
      "cell_type": "code",
      "metadata": {
        "id": "zK_DK6yW9mX8"
      },
      "source": [
        "dfFixSuspected = frame.copy()"
      ],
      "execution_count": null,
      "outputs": []
    },
    {
      "cell_type": "code",
      "metadata": {
        "id": "JyLT6HmkXABQ",
        "outputId": "1b876e39-2813-4881-be3c-46ccb94efb67",
        "colab": {
          "base_uri": "https://localhost:8080/",
          "height": 1000
        }
      },
      "source": [
        "\"\"\"\n",
        "Fix Sentiment\n",
        "\"\"\"\n",
        "dfTempTweets = dfraw[['Sentiment','Snippet']].copy()\n",
        "\n",
        "dfTempTweets['Snippet'] = dfTempTweets.Snippet.apply(lambda x: np.where(str(x).isnumeric(), 'tweet', x))\n",
        "\n",
        "from vaderSentiment.vaderSentiment import SentimentIntensityAnalyzer\n",
        "analyzer = SentimentIntensityAnalyzer()\n",
        "\n",
        "#dfTempTweets['vaderScore'] = analyzer.polarity_scores(dfTempTweets['Snippet'])\n",
        "dfTempTweets['vaderScore'] = dfTempTweets['Snippet'].apply(lambda x: analyzer.polarity_scores(x))\n",
        "\n",
        "print(dfTempTweets[dfTempTweets['Sentiment']=='twitter.com'])\n",
        "\n",
        "#pd.concat([dfTempTweets.drop('vaderScore', axis=1), dfTempTweets['vaderScore'].apply(pd.Series)], axis=1)\n",
        "dfTempTweets = pd.concat([dfTempTweets, dfTempTweets['vaderScore'].apply(pd.Series)], axis=1).drop('vaderScore', axis=1)\n",
        "\n",
        "dfTempTweets['sentimentVader'] = 'neutral'\n",
        "dfTempTweets.loc[dfTempTweets.compound >= 0.05, 'sentimentVader'] = 'positive'\n",
        "dfTempTweets.loc[dfTempTweets.compound <= -0.05, 'sentimentVader'] = 'negative'\n",
        "\n",
        "print(dfTempTweets[dfTempTweets['Sentiment']=='twitter.com'])\n",
        "\n",
        "dfTempVaderSentiment = dfTempTweets[['sentimentVader']].copy()\n",
        "frame = frame.merge(dfTempVaderSentiment, how='inner', left_index=True, right_index=True)\n",
        "\n",
        "frame['Sentiment'] = np.where(frame.Sentiment == 'twitter.com', frame.sentimentVader, frame.Sentiment)\n",
        "frame['Sentiment'] = np.where(frame.Sentiment == 'Journalist', frame.sentimentVader, frame.Sentiment)\n",
        "\n",
        "dftestsnippet = dfraw[['Snippet', 'Sentiment']]\n",
        "print(dftestsnippet[dftestsnippet['Sentiment']=='twitter.com'])"
      ],
      "execution_count": null,
      "outputs": [
        {
          "output_type": "stream",
          "text": [
            "          Sentiment                                            Snippet  \\\n",
            "107918  twitter.com  Alice Castle (@alice__castle): Pretty gutted t...   \n",
            "107919  twitter.com  The Vogue Chronicles (@voguechronicles): I mad...   \n",
            "107920  twitter.com  The Vogue Chronicles (@voguechronicles): So sa...   \n",
            "107921  twitter.com  Call me Bill (@william_shutter): Just had a wh...   \n",
            "107922  twitter.com  Tasha Melvin (@_TashaMelvin): My Friday night ...   \n",
            "...             ...                                                ...   \n",
            "121918  twitter.com  Mercedes Mills (@MercysMusings): @MyBookJacket...   \n",
            "121919  twitter.com  Frederick G (@FredtcheLondon): A squirrel eati...   \n",
            "121920  twitter.com  CRAVE Guitars (@CRAVE_Guitars): @MoonmusicMoon...   \n",
            "121921  twitter.com  Cath Colleypriest (@CathFluffybob1): @EnduraPr...   \n",
            "121922  twitter.com  Lawrence Cronk (@EnduraPrep): @CathFluffybob1 ...   \n",
            "\n",
            "                                               vaderScore  \n",
            "107918  {'neg': 0.0, 'neu': 0.714, 'pos': 0.286, 'comp...  \n",
            "107919  {'neg': 0.0, 'neu': 1.0, 'pos': 0.0, 'compound...  \n",
            "107920  {'neg': 0.307, 'neu': 0.693, 'pos': 0.0, 'comp...  \n",
            "107921  {'neg': 0.0, 'neu': 1.0, 'pos': 0.0, 'compound...  \n",
            "107922  {'neg': 0.0, 'neu': 1.0, 'pos': 0.0, 'compound...  \n",
            "...                                                   ...  \n",
            "121918  {'neg': 0.0, 'neu': 1.0, 'pos': 0.0, 'compound...  \n",
            "121919  {'neg': 0.0, 'neu': 1.0, 'pos': 0.0, 'compound...  \n",
            "121920  {'neg': 0.0, 'neu': 0.761, 'pos': 0.239, 'comp...  \n",
            "121921  {'neg': 0.0, 'neu': 1.0, 'pos': 0.0, 'compound...  \n",
            "121922  {'neg': 0.0, 'neu': 1.0, 'pos': 0.0, 'compound...  \n",
            "\n",
            "[12782 rows x 3 columns]\n",
            "          Sentiment                                            Snippet    neg  \\\n",
            "107918  twitter.com  Alice Castle (@alice__castle): Pretty gutted t...  0.000   \n",
            "107919  twitter.com  The Vogue Chronicles (@voguechronicles): I mad...  0.000   \n",
            "107920  twitter.com  The Vogue Chronicles (@voguechronicles): So sa...  0.307   \n",
            "107921  twitter.com  Call me Bill (@william_shutter): Just had a wh...  0.000   \n",
            "107922  twitter.com  Tasha Melvin (@_TashaMelvin): My Friday night ...  0.000   \n",
            "...             ...                                                ...    ...   \n",
            "121918  twitter.com  Mercedes Mills (@MercysMusings): @MyBookJacket...  0.000   \n",
            "121919  twitter.com  Frederick G (@FredtcheLondon): A squirrel eati...  0.000   \n",
            "121920  twitter.com  CRAVE Guitars (@CRAVE_Guitars): @MoonmusicMoon...  0.000   \n",
            "121921  twitter.com  Cath Colleypriest (@CathFluffybob1): @EnduraPr...  0.000   \n",
            "121922  twitter.com  Lawrence Cronk (@EnduraPrep): @CathFluffybob1 ...  0.000   \n",
            "\n",
            "          neu    pos  compound sentimentVader  \n",
            "107918  0.714  0.286    0.4939       positive  \n",
            "107919  1.000  0.000    0.0000        neutral  \n",
            "107920  0.693  0.000   -0.6113       negative  \n",
            "107921  1.000  0.000    0.0000        neutral  \n",
            "107922  1.000  0.000    0.0000        neutral  \n",
            "...       ...    ...       ...            ...  \n",
            "121918  1.000  0.000    0.0000        neutral  \n",
            "121919  1.000  0.000    0.0000        neutral  \n",
            "121920  0.761  0.239    0.2960       positive  \n",
            "121921  1.000  0.000    0.0000        neutral  \n",
            "121922  1.000  0.000    0.0000        neutral  \n",
            "\n",
            "[12782 rows x 7 columns]\n",
            "                                                  Snippet    Sentiment\n",
            "107918  Alice Castle (@alice__castle): Pretty gutted t...  twitter.com\n",
            "107919  The Vogue Chronicles (@voguechronicles): I mad...  twitter.com\n",
            "107920  The Vogue Chronicles (@voguechronicles): So sa...  twitter.com\n",
            "107921  Call me Bill (@william_shutter): Just had a wh...  twitter.com\n",
            "107922  Tasha Melvin (@_TashaMelvin): My Friday night ...  twitter.com\n",
            "...                                                   ...          ...\n",
            "121918  Mercedes Mills (@MercysMusings): @MyBookJacket...  twitter.com\n",
            "121919  Frederick G (@FredtcheLondon): A squirrel eati...  twitter.com\n",
            "121920  CRAVE Guitars (@CRAVE_Guitars): @MoonmusicMoon...  twitter.com\n",
            "121921  Cath Colleypriest (@CathFluffybob1): @EnduraPr...  twitter.com\n",
            "121922  Lawrence Cronk (@EnduraPrep): @CathFluffybob1 ...  twitter.com\n",
            "\n",
            "[12782 rows x 2 columns]\n"
          ],
          "name": "stdout"
        }
      ]
    },
    {
      "cell_type": "code",
      "metadata": {
        "id": "1hidqHJBM-dT",
        "outputId": "69391da6-9be4-4344-c7ca-8ab401ada7bf",
        "colab": {
          "base_uri": "https://localhost:8080/",
          "height": 204
        }
      },
      "source": [
        "dfTempTweets.head()"
      ],
      "execution_count": null,
      "outputs": [
        {
          "output_type": "execute_result",
          "data": {
            "text/html": [
              "<div>\n",
              "<style scoped>\n",
              "    .dataframe tbody tr th:only-of-type {\n",
              "        vertical-align: middle;\n",
              "    }\n",
              "\n",
              "    .dataframe tbody tr th {\n",
              "        vertical-align: top;\n",
              "    }\n",
              "\n",
              "    .dataframe thead th {\n",
              "        text-align: right;\n",
              "    }\n",
              "</style>\n",
              "<table border=\"1\" class=\"dataframe\">\n",
              "  <thead>\n",
              "    <tr style=\"text-align: right;\">\n",
              "      <th></th>\n",
              "      <th>Sentiment</th>\n",
              "      <th>Snippet</th>\n",
              "      <th>neg</th>\n",
              "      <th>neu</th>\n",
              "      <th>pos</th>\n",
              "      <th>compound</th>\n",
              "      <th>sentimentVader</th>\n",
              "    </tr>\n",
              "  </thead>\n",
              "  <tbody>\n",
              "    <tr>\n",
              "      <th>0</th>\n",
              "      <td>neutral</td>\n",
              "      <td>Me: ok megan time to clean up your diet now hu...</td>\n",
              "      <td>0.000</td>\n",
              "      <td>0.778</td>\n",
              "      <td>0.222</td>\n",
              "      <td>0.7506</td>\n",
              "      <td>positive</td>\n",
              "    </tr>\n",
              "    <tr>\n",
              "      <th>1</th>\n",
              "      <td>negative</td>\n",
              "      <td>I wish they wouldn't advertise #BenandJerrys t...</td>\n",
              "      <td>0.222</td>\n",
              "      <td>0.677</td>\n",
              "      <td>0.102</td>\n",
              "      <td>-0.4939</td>\n",
              "      <td>negative</td>\n",
              "    </tr>\n",
              "    <tr>\n",
              "      <th>2</th>\n",
              "      <td>neutral</td>\n",
              "      <td>yaaaaas Teo cleaned my room and bought me Ben ...</td>\n",
              "      <td>0.000</td>\n",
              "      <td>1.000</td>\n",
              "      <td>0.000</td>\n",
              "      <td>0.0000</td>\n",
              "      <td>neutral</td>\n",
              "    </tr>\n",
              "    <tr>\n",
              "      <th>3</th>\n",
              "      <td>neutral</td>\n",
              "      <td>Just ate a whole tub of Ben and jerrys cocolat...</td>\n",
              "      <td>0.000</td>\n",
              "      <td>1.000</td>\n",
              "      <td>0.000</td>\n",
              "      <td>0.0000</td>\n",
              "      <td>neutral</td>\n",
              "    </tr>\n",
              "    <tr>\n",
              "      <th>4</th>\n",
              "      <td>positive</td>\n",
              "      <td>Cookie dough ice cream is just too good thank ...</td>\n",
              "      <td>0.000</td>\n",
              "      <td>0.625</td>\n",
              "      <td>0.375</td>\n",
              "      <td>0.6597</td>\n",
              "      <td>positive</td>\n",
              "    </tr>\n",
              "  </tbody>\n",
              "</table>\n",
              "</div>"
            ],
            "text/plain": [
              "  Sentiment                                            Snippet    neg    neu  \\\n",
              "0   neutral  Me: ok megan time to clean up your diet now hu...  0.000  0.778   \n",
              "1  negative  I wish they wouldn't advertise #BenandJerrys t...  0.222  0.677   \n",
              "2   neutral  yaaaaas Teo cleaned my room and bought me Ben ...  0.000  1.000   \n",
              "3   neutral  Just ate a whole tub of Ben and jerrys cocolat...  0.000  1.000   \n",
              "4  positive  Cookie dough ice cream is just too good thank ...  0.000  0.625   \n",
              "\n",
              "     pos  compound sentimentVader  \n",
              "0  0.222    0.7506       positive  \n",
              "1  0.102   -0.4939       negative  \n",
              "2  0.000    0.0000        neutral  \n",
              "3  0.000    0.0000        neutral  \n",
              "4  0.375    0.6597       positive  "
            ]
          },
          "metadata": {
            "tags": []
          },
          "execution_count": 52
        }
      ]
    },
    {
      "cell_type": "code",
      "metadata": {
        "id": "BH-4_1nlrbuu"
      },
      "source": [
        "\"\"\"\n",
        "Fix Account Type - If followers > following, business, else individual\n",
        "\"\"\"\n",
        "frame['tempType'] = np.where(frame['Twitter Followers'] > frame['Twitter Following'], 'organisational', 'individual')\n",
        "#frame['tempType'] = np.where(frame['Twitter Followers'] < frame['Twitter Following'], 'individual')\n",
        "\n",
        "frame['Account Type'] = np.where((frame['Account Type'] != 'organisational') & (frame['Account Type'] != 'individual'), frame.tempType, frame['Account Type'])"
      ],
      "execution_count": null,
      "outputs": []
    },
    {
      "cell_type": "code",
      "metadata": {
        "id": "FD4585cIxOar"
      },
      "source": [
        "frame['Gender'].value_counts()\n",
        "\"\"\"\n",
        "Fix Gender - Guess gender using guender guesser library\n",
        "\"\"\"\n",
        "import gender_guesser.detector as gender\n",
        "g = gender.Detector(case_sensitive=False)\n",
        "\n",
        "dfTempGender = frame.Gender.copy()\n",
        "\n",
        "#frame['Gender'] = np.where(frame.Gender != 'female' or frame.Gender != 'male' or 'frame.Gender' != 'unknown', g.get_gender(frame.Gender))\n",
        "frame['Gender'] = frame['Gender'].apply(lambda x: np.where((x != 'female') & (x != 'male') & (x != 'unknown'), g.get_gender(x), x))\n",
        "\n",
        "frame['Gender'] = np.where(frame['Gender']=='mostly_female', 'female', frame['Gender'])\n",
        "frame['Gender'] = np.where((frame['Gender']=='mostly_male') | (frame['Gender'] == 'andy'), 'male', frame['Gender'])"
      ],
      "execution_count": null,
      "outputs": []
    },
    {
      "cell_type": "code",
      "metadata": {
        "id": "QeDb19K6hb6f",
        "outputId": "d21872bb-d3ff-4c63-8c4b-db97786499bf",
        "colab": {
          "base_uri": "https://localhost:8080/",
          "height": 54
        }
      },
      "source": [
        "\"\"\"\n",
        "Fix Impact\n",
        "\n",
        "from statistics import mean\n",
        "\n",
        "dfTempImpact = frame.Impact.copy()\n",
        "\n",
        "#frame['Impact'] = frame.Impact.apply(lambda x: np.where(str(x).isnumeric(), x, '0'))\n",
        "#frame['Impact'] = np.where(~frame['Impact'].astype(str).str.contains('0|1|2|3|4|5|6|7|8|9'), '0', frame['Impact'])\n",
        "frame['Impact'] = np.where(frame['Impact'].astype(str).str.isdigit(), frame['Impact'], '0')\n",
        "\n",
        "lstImpact = frame['Impact'].tolist()\n",
        "lstImpact = list(map(int, lstImpact))\n",
        "impactMean = int(round(mean(lstImpact)))\n",
        "#impactMean = int(impactMean)\n",
        "#impactMean = frame.mean()['Impact']\n",
        "\n",
        "frame.loc[frame.Impact=='0', 'Impact'] = impactMean\n",
        "\"\"\""
      ],
      "execution_count": null,
      "outputs": [
        {
          "output_type": "execute_result",
          "data": {
            "text/plain": [
              "\"\\nFix Impact\\n\\nfrom statistics import mean\\n\\ndfTempImpact = frame.Impact.copy()\\n\\n#frame['Impact'] = frame.Impact.apply(lambda x: np.where(str(x).isnumeric(), x, '0'))\\n#frame['Impact'] = np.where(~frame['Impact'].astype(str).str.contains('0|1|2|3|4|5|6|7|8|9'), '0', frame['Impact'])\\nframe['Impact'] = np.where(frame['Impact'].astype(str).str.isdigit(), frame['Impact'], '0')\\n\\nlstImpact = frame['Impact'].tolist()\\nlstImpact = list(map(int, lstImpact))\\nimpactMean = int(round(mean(lstImpact)))\\n#impactMean = int(impactMean)\\n#impactMean = frame.mean()['Impact']\\n\\nframe.loc[frame.Impact=='0', 'Impact'] = impactMean\\n\""
            ]
          },
          "metadata": {
            "tags": []
          },
          "execution_count": 55
        }
      ]
    },
    {
      "cell_type": "code",
      "metadata": {
        "id": "HCEz0rIC7mQb",
        "outputId": "a91be649-a044-4444-f6da-e1a14fb09de0",
        "colab": {
          "base_uri": "https://localhost:8080/",
          "height": 54
        }
      },
      "source": [
        "\"\"\"\n",
        "Fix Kred Influence\n",
        "\n",
        "dfKredInfluence = frame['Kred Influence'].copy()\n",
        "\n",
        "#frame['Kred Influence'] = frame['Kred Influence'].apply(lambda x: np.where(str(x).isnumeric(), x, '0'))\n",
        "frame['Kred Influence'] = np.where(~frame['Kred Influence'].astype(str).str.contains('0|1|2|3|4|5|6|7|8|9'), '0', frame['Kred Influence'])\n",
        "\n",
        "lstKred = frame['Kred Influence'].tolist()\n",
        "lstKred = list(map(int, lstKred))\n",
        "KredMean = int(round(mean(lstKred)))\n",
        "#KredMean = int(KredMean)\n",
        "#KredMean = frame.mean()['Kred Influence']\n",
        "\n",
        "frame.loc[frame['Kred Influence']=='0', 'Kred Influence'] = KredMean\n",
        "\"\"\""
      ],
      "execution_count": null,
      "outputs": [
        {
          "output_type": "execute_result",
          "data": {
            "text/plain": [
              "\"\\nFix Kred Influence\\n\\ndfKredInfluence = frame['Kred Influence'].copy()\\n\\n#frame['Kred Influence'] = frame['Kred Influence'].apply(lambda x: np.where(str(x).isnumeric(), x, '0'))\\nframe['Kred Influence'] = np.where(~frame['Kred Influence'].astype(str).str.contains('0|1|2|3|4|5|6|7|8|9'), '0', frame['Kred Influence'])\\n\\nlstKred = frame['Kred Influence'].tolist()\\nlstKred = list(map(int, lstKred))\\nKredMean = int(round(mean(lstKred)))\\n#KredMean = int(KredMean)\\n#KredMean = frame.mean()['Kred Influence']\\n\\nframe.loc[frame['Kred Influence']=='0', 'Kred Influence'] = KredMean\\n\""
            ]
          },
          "metadata": {
            "tags": []
          },
          "execution_count": 56
        }
      ]
    },
    {
      "cell_type": "code",
      "metadata": {
        "id": "gKCQnSPXDvdi",
        "outputId": "f1ee4572-de60-4c88-ef97-3870c9501dec",
        "colab": {
          "base_uri": "https://localhost:8080/",
          "height": 54
        }
      },
      "source": [
        "\"\"\"\n",
        "Fix Reach\n",
        "\n",
        "dfTempReach = frame.Reach.copy()\n",
        "\n",
        "#frame['Reach'] = frame.Reach.apply(lambda x: np.where(str(x).isnumeric(), x, '0'))\n",
        "frame['Reach'] = np.where(~frame['Reach'].astype(str).str.contains('0|1|2|3|4|5|6|7|8|9'), '0', frame['Reach'])\n",
        "\n",
        "lstReach = frame['Reach'].tolist()\n",
        "lstReach = list(map(int, lstReach))\n",
        "ReachMean = int(round(mean(lstReach)))\n",
        "#ReachMean = int(ReachMean)\n",
        "#ReachMean = frame.mean()['Reach']\n",
        "\n",
        "frame.loc[frame.Reach=='0', 'Reach'] = ReachMean\n",
        "\"\"\""
      ],
      "execution_count": null,
      "outputs": [
        {
          "output_type": "execute_result",
          "data": {
            "text/plain": [
              "\"\\nFix Reach\\n\\ndfTempReach = frame.Reach.copy()\\n\\n#frame['Reach'] = frame.Reach.apply(lambda x: np.where(str(x).isnumeric(), x, '0'))\\nframe['Reach'] = np.where(~frame['Reach'].astype(str).str.contains('0|1|2|3|4|5|6|7|8|9'), '0', frame['Reach'])\\n\\nlstReach = frame['Reach'].tolist()\\nlstReach = list(map(int, lstReach))\\nReachMean = int(round(mean(lstReach)))\\n#ReachMean = int(ReachMean)\\n#ReachMean = frame.mean()['Reach']\\n\\nframe.loc[frame.Reach=='0', 'Reach'] = ReachMean\\n\""
            ]
          },
          "metadata": {
            "tags": []
          },
          "execution_count": 57
        }
      ]
    },
    {
      "cell_type": "code",
      "metadata": {
        "id": "NWmK1fV1EOjC",
        "outputId": "b0f18cfb-c9f7-4d14-cb32-4b036dc927f7",
        "colab": {
          "base_uri": "https://localhost:8080/",
          "height": 54
        }
      },
      "source": [
        "\"\"\"\n",
        "Fix Twitter Retweets\n",
        "\n",
        "dfRetweets = frame['Twitter Retweets'].copy()\n",
        "\n",
        "#frame['Twitter Retweets'] = frame['Twitter Retweets'].apply(lambda x: np.where(str(x).isnumeric(), x, '0'))\n",
        "frame['Twitter Retweets'] = np.where(~frame['Twitter Retweets'].astype(str).str.contains('0|1|2|3|4|5|6|7|8|9'), '0', frame['Twitter Retweets'])\n",
        "\n",
        "lstRetweets = frame['Twitter Retweets'].tolist()\n",
        "lstRetweets = list(map(int, lstRetweets))\n",
        "RetweetsMean = int(round(mean(lstRetweets)))\n",
        "#RetweetsMean = int(RetweetsMean)\n",
        "#RetweetsMean = frame.mean()['Twitter Retweets']\n",
        "\n",
        "frame.loc[frame['Twitter Retweets']=='0', 'Twitter Retweets'] = RetweetsMean\n",
        "\"\"\""
      ],
      "execution_count": null,
      "outputs": [
        {
          "output_type": "execute_result",
          "data": {
            "text/plain": [
              "\"\\nFix Twitter Retweets\\n\\ndfRetweets = frame['Twitter Retweets'].copy()\\n\\n#frame['Twitter Retweets'] = frame['Twitter Retweets'].apply(lambda x: np.where(str(x).isnumeric(), x, '0'))\\nframe['Twitter Retweets'] = np.where(~frame['Twitter Retweets'].astype(str).str.contains('0|1|2|3|4|5|6|7|8|9'), '0', frame['Twitter Retweets'])\\n\\nlstRetweets = frame['Twitter Retweets'].tolist()\\nlstRetweets = list(map(int, lstRetweets))\\nRetweetsMean = int(round(mean(lstRetweets)))\\n#RetweetsMean = int(RetweetsMean)\\n#RetweetsMean = frame.mean()['Twitter Retweets']\\n\\nframe.loc[frame['Twitter Retweets']=='0', 'Twitter Retweets'] = RetweetsMean\\n\""
            ]
          },
          "metadata": {
            "tags": []
          },
          "execution_count": 58
        }
      ]
    },
    {
      "cell_type": "code",
      "metadata": {
        "id": "K6ERUCtHErky",
        "outputId": "033663c1-e2d7-460b-a693-f67f8637f026",
        "colab": {
          "base_uri": "https://localhost:8080/",
          "height": 85
        }
      },
      "source": [
        "\"\"\"\n",
        "Fix Twitter Verified\n",
        "\n",
        "dfVerified = frame['Twitter Verified'].copy()\n",
        "\n",
        "frame['Twitter Verified'] = frame['Twitter Verified'].apply(lambda x: np.where(str(x).isdigit(), x, '0'))\n",
        "\n",
        "lstVerified = frame['Twitter Verified'].tolist()\n",
        "lstVerified = list(map(int, lstVerified))\n",
        "VerifiedMean = mean(lstVerified)\n",
        "#VerifiedMean = frame.mean()['Twitter Verified']\n",
        "print(\"Verified Mean: \", VerifiedMean)\n",
        "\n",
        "frame.loc[frame['Twitter Verified']=='0', 'Twitter Verified'] = VerifiedMean\n",
        "\n",
        "\"\"\"\n",
        "frame['Twitter Verified'].value_counts()\n"
      ],
      "execution_count": null,
      "outputs": [
        {
          "output_type": "execute_result",
          "data": {
            "text/plain": [
              "False         99516\n",
              "True           1800\n",
              "Journalist        1\n",
              "Name: Twitter Verified, dtype: int64"
            ]
          },
          "metadata": {
            "tags": []
          },
          "execution_count": 59
        }
      ]
    },
    {
      "cell_type": "code",
      "metadata": {
        "id": "Px78OutTFYa3",
        "outputId": "416a89f5-81ce-49b6-a288-8e4a7af5dd25",
        "colab": {
          "base_uri": "https://localhost:8080/",
          "height": 54
        }
      },
      "source": [
        "\"\"\"\n",
        "Fix Impressions\n",
        "\n",
        "dfTempImpressions = frame.Impressions.copy()\n",
        "\n",
        "#frame['Impressions'] = frame.Impressions.apply(lambda x: np.where(str(x).isnumeric(), x, '0'))\n",
        "frame['Impressions'] = np.where(~frame['Impressions'].astype(str).str.contains('0|1|2|3|4|5|6|7|8|9'), '0', frame['Impressions'])\n",
        "\n",
        "lstImpressions = frame['Impressions'].tolist()\n",
        "lstImpressions = list(map(int, lstImpressions))\n",
        "ImpressionsMean = int(round(mean(lstImpressions)))\n",
        "print(type(ImpressionsMean))\n",
        "#impressionsMean = int(impressionsMean)\n",
        "#impressionsMean = frame.mean()['Impressions']\n",
        "\n",
        "frame.loc[frame.Impressions=='0', 'Impressions'] = ImpressionsMean\n",
        "\n",
        "print(ImpressionsMean)\n",
        "\"\"\""
      ],
      "execution_count": null,
      "outputs": [
        {
          "output_type": "execute_result",
          "data": {
            "text/plain": [
              "\"\\nFix Impressions\\n\\ndfTempImpressions = frame.Impressions.copy()\\n\\n#frame['Impressions'] = frame.Impressions.apply(lambda x: np.where(str(x).isnumeric(), x, '0'))\\nframe['Impressions'] = np.where(~frame['Impressions'].astype(str).str.contains('0|1|2|3|4|5|6|7|8|9'), '0', frame['Impressions'])\\n\\nlstImpressions = frame['Impressions'].tolist()\\nlstImpressions = list(map(int, lstImpressions))\\nImpressionsMean = int(round(mean(lstImpressions)))\\nprint(type(ImpressionsMean))\\n#impressionsMean = int(impressionsMean)\\n#impressionsMean = frame.mean()['Impressions']\\n\\nframe.loc[frame.Impressions=='0', 'Impressions'] = ImpressionsMean\\n\\nprint(ImpressionsMean)\\n\""
            ]
          },
          "metadata": {
            "tags": []
          },
          "execution_count": 60
        }
      ]
    },
    {
      "cell_type": "code",
      "metadata": {
        "id": "UXvE2f5Nl1Tq",
        "outputId": "27c81b85-2e7c-44c0-ea7a-61b885e79fc2",
        "colab": {
          "base_uri": "https://localhost:8080/",
          "height": 34
        }
      },
      "source": [
        "\"\"\"\n",
        "tempvar = 6984.63532279874\n",
        "tempvar = int(6984.63532279874)\n",
        "print(tempvar)\n",
        "\"\"\""
      ],
      "execution_count": null,
      "outputs": [
        {
          "output_type": "execute_result",
          "data": {
            "text/plain": [
              "'\\ntempvar = 6984.63532279874\\ntempvar = int(6984.63532279874)\\nprint(tempvar)\\n'"
            ]
          },
          "metadata": {
            "tags": []
          },
          "execution_count": 61
        }
      ]
    },
    {
      "cell_type": "code",
      "metadata": {
        "id": "0_EgUzGJFkhj",
        "outputId": "a29b59e1-802a-4927-d542-a2b7e114fec2",
        "colab": {
          "base_uri": "https://localhost:8080/",
          "height": 54
        }
      },
      "source": [
        "\"\"\"\n",
        "Fix Twitter Tweets\n",
        "\n",
        "dfTweets = frame['Twitter Tweets'].copy()\n",
        "\n",
        "#frame['Twitter Tweets'] = frame['Twitter Tweets'].apply(lambda x: np.where(str(x).isnumeric(), x, '0'))\n",
        "frame['Twitter Tweets'] = np.where(~frame['Twitter Tweets'].astype(str).str.contains('0|1|2|3|4|5|6|7|8|9'), '0', frame['Twitter Tweets'])\n",
        "\n",
        "lstTweets = frame['Twitter Tweets'].tolist()\n",
        "lstTweets = list(map(int, lstTweets))\n",
        "TweetsMean = int(round(mean(lstTweets)))\n",
        "#TweetsMean = int(TweetsMean)\n",
        "#tweetsMean = frame.mean()['Twitter Tweets']\n",
        "print(\"Tweets Mean: \", TweetsMean)\n",
        "\n",
        "frame.loc[frame['Twitter Tweets']=='0', 'Twitter Tweets'] = TweetsMean\n",
        "\"\"\""
      ],
      "execution_count": null,
      "outputs": [
        {
          "output_type": "execute_result",
          "data": {
            "text/plain": [
              "'\\nFix Twitter Tweets\\n\\ndfTweets = frame[\\'Twitter Tweets\\'].copy()\\n\\n#frame[\\'Twitter Tweets\\'] = frame[\\'Twitter Tweets\\'].apply(lambda x: np.where(str(x).isnumeric(), x, \\'0\\'))\\nframe[\\'Twitter Tweets\\'] = np.where(~frame[\\'Twitter Tweets\\'].astype(str).str.contains(\\'0|1|2|3|4|5|6|7|8|9\\'), \\'0\\', frame[\\'Twitter Tweets\\'])\\n\\nlstTweets = frame[\\'Twitter Tweets\\'].tolist()\\nlstTweets = list(map(int, lstTweets))\\nTweetsMean = int(round(mean(lstTweets)))\\n#TweetsMean = int(TweetsMean)\\n#tweetsMean = frame.mean()[\\'Twitter Tweets\\']\\nprint(\"Tweets Mean: \", TweetsMean)\\n\\nframe.loc[frame[\\'Twitter Tweets\\']==\\'0\\', \\'Twitter Tweets\\'] = TweetsMean\\n'"
            ]
          },
          "metadata": {
            "tags": []
          },
          "execution_count": 62
        }
      ]
    },
    {
      "cell_type": "code",
      "metadata": {
        "id": "fx27WeztsYUx"
      },
      "source": [
        "#frame['Kred Outreach'].value_counts()"
      ],
      "execution_count": null,
      "outputs": []
    },
    {
      "cell_type": "code",
      "metadata": {
        "id": "CW8F6Nu4F2bK"
      },
      "source": [
        "\"\"\"\n",
        "Fix Kred Outreach\n",
        "\n",
        "dfKredOutreach = frame['Kred Outreach'].copy()\n",
        "\n",
        "\n",
        "#frame['Kred Outreach'] = frame['Kred Outreach'].apply(lambda x: np.where(str(x).isnumeric(), x, '0'))\n",
        "frame['Kred Outreach'] = np.where((~frame['Kred Outreach'].astype(str).str.contains('0|1|2|3|4|5|6|7|8|9')) | (frame['Kred Outreach'] > 12), '10000', frame['Kred Outreach'])\n",
        "\n",
        "lstOutreach = frame['Kred Outreach'].tolist()\n",
        "lstOutreach = list(map(int, lstOutreach))\n",
        "OutreachMean = int(round(mean(lstOutreach)))\n",
        "#OutreachMean = int(OutreachMean)\n",
        "#OutreachMean = frame.mean()['Kred Outreach']\n",
        "\n",
        "frame.loc[frame['Kred Outreach']=='10000', 'Kred Outreach'] = OutreachMean\n",
        "\"\"\"\n",
        "\n",
        "tempframe = frame[frame['Impact'].astype(str).str.isdigit()][['Impact']]\n",
        "OutreachMean = int(round(tempframe.mean()))\n",
        "frame['Impact'] = np.where(~frame['Impact'].astype(str).str.isdigit(), OutreachMean, frame['Impact'])\n",
        "\n",
        "tempframe = frame[frame['Kred Influence'].astype(str).str.contains('0|1|2|3|4|5|6|7|8|9')][['Kred Influence']]\n",
        "OutreachMean = int(round(tempframe.mean()))\n",
        "frame['Kred Influence'] = np.where(~frame['Kred Influence'].astype(str).str.contains('0|1|2|3|4|5|6|7|8|9'), OutreachMean, frame['Kred Influence'])\n",
        "\n",
        "tempframe = frame[frame['Twitter Retweets'].astype(str).str.contains('0|1|2|3|4|5|6|7|8|9')][['Twitter Retweets']]\n",
        "OutreachMean = int(round(tempframe.mean()))\n",
        "frame['Twitter Retweets'] = np.where(~frame['Twitter Retweets'].astype(str).str.contains('0|1|2|3|4|5|6|7|8|9'), OutreachMean, frame['Twitter Retweets'])\n",
        "\n",
        "tempframe = frame[frame['Twitter Tweets'].astype(str).str.contains('0|1|2|3|4|5|6|7|8|9')][['Twitter Tweets']]\n",
        "OutreachMean = int(round(tempframe.mean()))\n",
        "frame['Twitter Tweets'] = np.where(~frame['Twitter Tweets'].astype(str).str.contains('0|1|2|3|4|5|6|7|8|9'), OutreachMean, frame['Twitter Tweets'])\n",
        "\n",
        "tempframe = frame[frame['Twitter Followers'].astype(str).str.contains('0|1|2|3|4|5|6|7|8|9')][['Twitter Followers']]\n",
        "OutreachMean = int(round(tempframe.mean()))\n",
        "frame['Twitter Followers'] = np.where(~frame['Twitter Followers'].astype(str).str.contains('0|1|2|3|4|5|6|7|8|9'), OutreachMean, frame['Twitter Followers'])\n",
        "\n",
        "tempframe = frame[frame['Twitter Following'].astype(str).str.contains('0|1|2|3|4|5|6|7|8|9')][['Twitter Following']]\n",
        "OutreachMean = int(round(tempframe.mean()))\n",
        "frame['Twitter Following'] = np.where(~frame['Twitter Following'].astype(str).str.contains('0|1|2|3|4|5|6|7|8|9'), OutreachMean, frame['Twitter Following'])\n",
        "\n",
        "tempframe = frame[frame['Twitter Reply Count'].astype(str).str.contains('0|1|2|3|4|5|6|7|8|9')][['Twitter Reply Count']]\n",
        "OutreachMean = int(round(tempframe.mean()))\n",
        "frame['Twitter Reply Count'] = np.where(~frame['Twitter Reply Count'].astype(str).str.contains('0|1|2|3|4|5|6|7|8|9'), OutreachMean, frame['Twitter Reply Count'])\n",
        "\n",
        "tempframe = frame[frame['Kred Outreach'].astype(str).str.contains('0|1|2|3|4|5|6|7|8|9')][['Kred Outreach']]\n",
        "OutreachMean = int(round(tempframe.mean()))\n",
        "frame['Kred Outreach'] = np.where(~frame['Kred Outreach'].astype(str).str.contains('0|1|2|3|4|5|6|7|8|9'), OutreachMean, frame['Kred Outreach'])\n",
        "\n",
        "tempframe = frame[frame['Impressions'].astype(str).str.contains('0|1|2|3|4|5|6|7|8|9')][['Impressions']]\n",
        "OutreachMean = int(round(tempframe.mean()))\n",
        "frame['Impressions'] = np.where(~frame['Impressions'].astype(str).str.contains('0|1|2|3|4|5|6|7|8|9'), OutreachMean, frame['Impressions'])\n",
        "\n",
        "tempframe = frame[frame['Reach'].astype(str).str.contains('0|1|2|3|4|5|6|7|8|9')][['Reach']]\n",
        "OutreachMean = int(round(tempframe.mean()))\n",
        "frame['Reach'] = np.where(~frame['Reach'].astype(str).str.contains('0|1|2|3|4|5|6|7|8|9'), OutreachMean, frame['Reach'])"
      ],
      "execution_count": null,
      "outputs": []
    },
    {
      "cell_type": "code",
      "metadata": {
        "id": "RNWd9GYFrXTd"
      },
      "source": [
        "#frame['Kred Outreach'].value_counts()\n"
      ],
      "execution_count": null,
      "outputs": []
    },
    {
      "cell_type": "code",
      "metadata": {
        "id": "tUaSCBQiHp8G"
      },
      "source": [
        "#frame['Twitter Followers'].head(50)"
      ],
      "execution_count": null,
      "outputs": []
    },
    {
      "cell_type": "code",
      "metadata": {
        "id": "8i8jXHRv651K",
        "outputId": "f3fe8071-af77-48da-bc44-6cac657d712a",
        "colab": {
          "base_uri": "https://localhost:8080/",
          "height": 54
        }
      },
      "source": [
        "\"\"\"\n",
        "Fix Twitter Followers\n",
        "\n",
        "dfKredOutreach = frame['Twitter Followers'].copy()\n",
        "\n",
        "#frame['Twitter Followers'] = frame['Twitter Followers'].apply(lambda x: np.where(str(x).isnumeric(), x, '0'))\n",
        "\n",
        "frame['Twitter Followers'] = np.where(~frame['Twitter Followers'].astype(str).str.contains('0|1|2|3|4|5|6|7|8|9'), '0', frame['Twitter Followers'])\n",
        "\n",
        "print(frame['Twitter Followers'].head())\n",
        "lstOutreach = frame['Twitter Followers'].tolist()\n",
        "print(lstOutreach)\n",
        "lstOutreach = list(map(int, lstOutreach))\n",
        "OutreachMean = int(round(mean(lstOutreach)))\n",
        "#OutreachMean = int(OutreachMean)\n",
        "#OutreachMean = frame.mean()['Kred Outreach']\n",
        "\n",
        "frame.loc[frame['Twitter Followers']=='0', 'Twitter Followers'] = OutreachMean\n",
        "\"\"\""
      ],
      "execution_count": null,
      "outputs": [
        {
          "output_type": "execute_result",
          "data": {
            "text/plain": [
              "\"\\nFix Twitter Followers\\n\\ndfKredOutreach = frame['Twitter Followers'].copy()\\n\\n#frame['Twitter Followers'] = frame['Twitter Followers'].apply(lambda x: np.where(str(x).isnumeric(), x, '0'))\\n\\nframe['Twitter Followers'] = np.where(~frame['Twitter Followers'].astype(str).str.contains('0|1|2|3|4|5|6|7|8|9'), '0', frame['Twitter Followers'])\\n\\nprint(frame['Twitter Followers'].head())\\nlstOutreach = frame['Twitter Followers'].tolist()\\nprint(lstOutreach)\\nlstOutreach = list(map(int, lstOutreach))\\nOutreachMean = int(round(mean(lstOutreach)))\\n#OutreachMean = int(OutreachMean)\\n#OutreachMean = frame.mean()['Kred Outreach']\\n\\nframe.loc[frame['Twitter Followers']=='0', 'Twitter Followers'] = OutreachMean\\n\""
            ]
          },
          "metadata": {
            "tags": []
          },
          "execution_count": 67
        }
      ]
    },
    {
      "cell_type": "code",
      "metadata": {
        "id": "1C6K9eVuIkYp"
      },
      "source": [
        "#frame['Twitter Followers'].head()"
      ],
      "execution_count": null,
      "outputs": []
    },
    {
      "cell_type": "code",
      "metadata": {
        "id": "nhOTcfM57R39",
        "outputId": "ec639939-48a3-4a92-94b0-21101548a3be",
        "colab": {
          "base_uri": "https://localhost:8080/",
          "height": 54
        }
      },
      "source": [
        "\"\"\"\n",
        "Fix Twitter Following\n",
        "\n",
        "dfKredOutreach = frame['Twitter Following'].copy()\n",
        "\n",
        "#frame['Twitter Following'] = frame['Twitter Following'].apply(lambda x: np.where(str(x).isdigit(), x, '0'))\n",
        "#frame['Twitter Following'] = np.where(~frame['Twitter Following'].astype(str).str.contains('0|1|2|3|4|5|6|7|8|9'), '0', frame['Twitter Following'])\n",
        "tempframe = frame[frame['Twitter Following'].astype(str).str.contains('0|1|2|3|4|5|6|7|8|9')]\n",
        "\n",
        "#lstOutreach = frame['Twitter Following'].tolist()\n",
        "#lstOutreach = list(map(int, lstOutreach))\n",
        "#OutreachMean = int(round(mean(lstOutreach)))\n",
        "OutreachMean = tempframe.mean()\n",
        "#OutreachMean = int(OutreachMean)\n",
        "#OutreachMean = frame.mean()['Kred Outreach']\n",
        "\n",
        "#frame.loc[frame['Twitter Following']=='0', 'Twitter Following'] = OutreachMean\n",
        "frame['Twitter Following'] = np.where(~frame['Twitter Following'].astype(str).str.contains('0|1|2|3|4|5|6|7|8|9'), OutreachMean, frame['Twitter Following'])\n",
        "\"\"\""
      ],
      "execution_count": null,
      "outputs": [
        {
          "output_type": "execute_result",
          "data": {
            "text/plain": [
              "\"\\nFix Twitter Following\\n\\ndfKredOutreach = frame['Twitter Following'].copy()\\n\\n#frame['Twitter Following'] = frame['Twitter Following'].apply(lambda x: np.where(str(x).isdigit(), x, '0'))\\n#frame['Twitter Following'] = np.where(~frame['Twitter Following'].astype(str).str.contains('0|1|2|3|4|5|6|7|8|9'), '0', frame['Twitter Following'])\\ntempframe = frame[frame['Twitter Following'].astype(str).str.contains('0|1|2|3|4|5|6|7|8|9')]\\n\\n#lstOutreach = frame['Twitter Following'].tolist()\\n#lstOutreach = list(map(int, lstOutreach))\\n#OutreachMean = int(round(mean(lstOutreach)))\\nOutreachMean = tempframe.mean()\\n#OutreachMean = int(OutreachMean)\\n#OutreachMean = frame.mean()['Kred Outreach']\\n\\n#frame.loc[frame['Twitter Following']=='0', 'Twitter Following'] = OutreachMean\\nframe['Twitter Following'] = np.where(~frame['Twitter Following'].astype(str).str.contains('0|1|2|3|4|5|6|7|8|9'), OutreachMean, frame['Twitter Following'])\\n\""
            ]
          },
          "metadata": {
            "tags": []
          },
          "execution_count": 69
        }
      ]
    },
    {
      "cell_type": "code",
      "metadata": {
        "id": "NBt_MZMj7g1d",
        "outputId": "25eea9e3-209b-4008-8393-8e932bfb2f52",
        "colab": {
          "base_uri": "https://localhost:8080/",
          "height": 54
        }
      },
      "source": [
        "\"\"\"\n",
        "Fix Twitter Reply Count\n",
        "\n",
        "dfKredOutreach = frame['Twitter Reply Count'].copy()\n",
        "\n",
        "#frame['Twitter Reply Count'] = frame['Twitter Reply Count'].apply(lambda x: np.where(str(x).isnumeric(), x, '0'))\n",
        "frame['Twitter Reply Count'] = np.where(~frame['Twitter Reply Count'].astype(str).str.contains('0|1|2|3|4|5|6|7|8|9'), '0', frame['Twitter Reply Count'])\n",
        "\n",
        "lstOutreach = frame['Twitter Reply Count'].tolist()\n",
        "lstOutreach = list(map(int, lstOutreach))\n",
        "OutreachMean = int(round(mean(lstOutreach)))\n",
        "#OutreachMean = int(OutreachMean)\n",
        "#OutreachMean = frame.mean()['Kred Outreach']\n",
        "\n",
        "frame.loc[frame['Twitter Reply Count']=='0', 'Twitter Reply Count'] = OutreachMean\n",
        "\"\"\""
      ],
      "execution_count": null,
      "outputs": [
        {
          "output_type": "execute_result",
          "data": {
            "text/plain": [
              "\"\\nFix Twitter Reply Count\\n\\ndfKredOutreach = frame['Twitter Reply Count'].copy()\\n\\n#frame['Twitter Reply Count'] = frame['Twitter Reply Count'].apply(lambda x: np.where(str(x).isnumeric(), x, '0'))\\nframe['Twitter Reply Count'] = np.where(~frame['Twitter Reply Count'].astype(str).str.contains('0|1|2|3|4|5|6|7|8|9'), '0', frame['Twitter Reply Count'])\\n\\nlstOutreach = frame['Twitter Reply Count'].tolist()\\nlstOutreach = list(map(int, lstOutreach))\\nOutreachMean = int(round(mean(lstOutreach)))\\n#OutreachMean = int(OutreachMean)\\n#OutreachMean = frame.mean()['Kred Outreach']\\n\\nframe.loc[frame['Twitter Reply Count']=='0', 'Twitter Reply Count'] = OutreachMean\\n\""
            ]
          },
          "metadata": {
            "tags": []
          },
          "execution_count": 70
        }
      ]
    },
    {
      "cell_type": "code",
      "metadata": {
        "id": "-eTBClTP_J2I"
      },
      "source": [
        "dfFinalShortlist = frame.copy()\n",
        "frame = frame.drop(['Word Count', 'Last Assignment Date', 'Impressions', 'Reach','sentimentVader', 'tempType', 'Twitter Verified'], axis=1)"
      ],
      "execution_count": null,
      "outputs": []
    },
    {
      "cell_type": "code",
      "metadata": {
        "id": "6spfTjSjGAph",
        "outputId": "e63e5854-2ee3-4cbb-8b45-8d657236f3db",
        "colab": {
          "base_uri": "https://localhost:8080/",
          "height": 102
        }
      },
      "source": [
        "frame.columns"
      ],
      "execution_count": null,
      "outputs": [
        {
          "output_type": "execute_result",
          "data": {
            "text/plain": [
              "Index(['Sentiment', 'Account Type', 'Gender', 'Impact', 'Kred Influence',\n",
              "       'Kred Outreach', 'Professions', 'Twitter Followers',\n",
              "       'Twitter Following', 'Twitter Reply Count', 'Twitter Retweets',\n",
              "       'Twitter Tweets'],\n",
              "      dtype='object')"
            ]
          },
          "metadata": {
            "tags": []
          },
          "execution_count": 72
        }
      ]
    },
    {
      "cell_type": "code",
      "metadata": {
        "id": "cOOnZ4JUgQPt",
        "outputId": "50aaf291-63ae-4ade-c7c8-1e133e985c18",
        "colab": {
          "base_uri": "https://localhost:8080/",
          "height": 54
        }
      },
      "source": [
        "\"\"\"\n",
        "Scale numeric values\n",
        "\n",
        "dfFinalDf = frame.copy()\n",
        "from sklearn import preprocessing\n",
        "\n",
        "scaler = preprocessing.MinMaxScaler()\n",
        "cols = ['Impact', 'Kred Influence', 'Kred Outreach', 'Twitter Followers', 'Twitter Following', 'Twitter Reply Count', 'Twitter Retweets', 'Twitter Tweets']\n",
        "dftemp = frame[['Impact', 'Kred Influence', 'Kred Outreach', 'Twitter Followers', 'Twitter Following', 'Twitter Reply Count', 'Twitter Retweets', 'Twitter Tweets']].copy()\n",
        "dftemp = scaler.fit_transform(dftemp)\n",
        "dftemp = pd.DataFrame(dftemp, columns=cols)\n",
        "frame = frame.drop(['Impact', 'Kred Influence', 'Kred Outreach', 'Twitter Followers', 'Twitter Following', 'Twitter Reply Count', 'Twitter Retweets', 'Twitter Tweets'], axis=1)\n",
        "frame = frame.merge(dftemp, how='inner', left_index=True, right_index=True)\n",
        "\n",
        "\"\"\""
      ],
      "execution_count": null,
      "outputs": [
        {
          "output_type": "execute_result",
          "data": {
            "text/plain": [
              "\"\\nScale numeric values\\n\\ndfFinalDf = frame.copy()\\nfrom sklearn import preprocessing\\n\\nscaler = preprocessing.MinMaxScaler()\\ncols = ['Impact', 'Kred Influence', 'Kred Outreach', 'Twitter Followers', 'Twitter Following', 'Twitter Reply Count', 'Twitter Retweets', 'Twitter Tweets']\\ndftemp = frame[['Impact', 'Kred Influence', 'Kred Outreach', 'Twitter Followers', 'Twitter Following', 'Twitter Reply Count', 'Twitter Retweets', 'Twitter Tweets']].copy()\\ndftemp = scaler.fit_transform(dftemp)\\ndftemp = pd.DataFrame(dftemp, columns=cols)\\nframe = frame.drop(['Impact', 'Kred Influence', 'Kred Outreach', 'Twitter Followers', 'Twitter Following', 'Twitter Reply Count', 'Twitter Retweets', 'Twitter Tweets'], axis=1)\\nframe = frame.merge(dftemp, how='inner', left_index=True, right_index=True)\\n\\n\""
            ]
          },
          "metadata": {
            "tags": []
          },
          "execution_count": 73
        }
      ]
    },
    {
      "cell_type": "code",
      "metadata": {
        "id": "6ol6sKxvodSq",
        "outputId": "22aafe24-2569-49d3-8880-cb831b3ebe0f",
        "colab": {
          "base_uri": "https://localhost:8080/",
          "height": 221
        }
      },
      "source": [
        "frame.head()"
      ],
      "execution_count": null,
      "outputs": [
        {
          "output_type": "execute_result",
          "data": {
            "text/html": [
              "<div>\n",
              "<style scoped>\n",
              "    .dataframe tbody tr th:only-of-type {\n",
              "        vertical-align: middle;\n",
              "    }\n",
              "\n",
              "    .dataframe tbody tr th {\n",
              "        vertical-align: top;\n",
              "    }\n",
              "\n",
              "    .dataframe thead th {\n",
              "        text-align: right;\n",
              "    }\n",
              "</style>\n",
              "<table border=\"1\" class=\"dataframe\">\n",
              "  <thead>\n",
              "    <tr style=\"text-align: right;\">\n",
              "      <th></th>\n",
              "      <th>Sentiment</th>\n",
              "      <th>Account Type</th>\n",
              "      <th>Gender</th>\n",
              "      <th>Impact</th>\n",
              "      <th>Kred Influence</th>\n",
              "      <th>Kred Outreach</th>\n",
              "      <th>Professions</th>\n",
              "      <th>Twitter Followers</th>\n",
              "      <th>Twitter Following</th>\n",
              "      <th>Twitter Reply Count</th>\n",
              "      <th>Twitter Retweets</th>\n",
              "      <th>Twitter Tweets</th>\n",
              "    </tr>\n",
              "  </thead>\n",
              "  <tbody>\n",
              "    <tr>\n",
              "      <th>0</th>\n",
              "      <td>neutral</td>\n",
              "      <td>individual</td>\n",
              "      <td>female</td>\n",
              "      <td>33</td>\n",
              "      <td>496</td>\n",
              "      <td>0</td>\n",
              "      <td>Student</td>\n",
              "      <td>190</td>\n",
              "      <td>143</td>\n",
              "      <td>0</td>\n",
              "      <td>0</td>\n",
              "      <td>4963</td>\n",
              "    </tr>\n",
              "    <tr>\n",
              "      <th>1</th>\n",
              "      <td>negative</td>\n",
              "      <td>individual</td>\n",
              "      <td>female</td>\n",
              "      <td>43</td>\n",
              "      <td>638</td>\n",
              "      <td>0</td>\n",
              "      <td>Student</td>\n",
              "      <td>2049</td>\n",
              "      <td>1557</td>\n",
              "      <td>0</td>\n",
              "      <td>0</td>\n",
              "      <td>45642</td>\n",
              "    </tr>\n",
              "    <tr>\n",
              "      <th>2</th>\n",
              "      <td>neutral</td>\n",
              "      <td>individual</td>\n",
              "      <td>female</td>\n",
              "      <td>28</td>\n",
              "      <td>412</td>\n",
              "      <td>2</td>\n",
              "      <td>Student</td>\n",
              "      <td>181</td>\n",
              "      <td>132</td>\n",
              "      <td>0</td>\n",
              "      <td>0</td>\n",
              "      <td>3586</td>\n",
              "    </tr>\n",
              "    <tr>\n",
              "      <th>3</th>\n",
              "      <td>neutral</td>\n",
              "      <td>organisational</td>\n",
              "      <td>female</td>\n",
              "      <td>36</td>\n",
              "      <td>533</td>\n",
              "      <td>4</td>\n",
              "      <td>Student</td>\n",
              "      <td>755</td>\n",
              "      <td>292</td>\n",
              "      <td>0</td>\n",
              "      <td>0</td>\n",
              "      <td>4754</td>\n",
              "    </tr>\n",
              "    <tr>\n",
              "      <th>4</th>\n",
              "      <td>positive</td>\n",
              "      <td>individual</td>\n",
              "      <td>male</td>\n",
              "      <td>30</td>\n",
              "      <td>447</td>\n",
              "      <td>0</td>\n",
              "      <td>Student</td>\n",
              "      <td>83</td>\n",
              "      <td>76</td>\n",
              "      <td>0</td>\n",
              "      <td>0</td>\n",
              "      <td>332</td>\n",
              "    </tr>\n",
              "  </tbody>\n",
              "</table>\n",
              "</div>"
            ],
            "text/plain": [
              "  Sentiment    Account Type  Gender Impact Kred Influence Kred Outreach  \\\n",
              "0   neutral      individual  female     33            496             0   \n",
              "1  negative      individual  female     43            638             0   \n",
              "2   neutral      individual  female     28            412             2   \n",
              "3   neutral  organisational  female     36            533             4   \n",
              "4  positive      individual    male     30            447             0   \n",
              "\n",
              "  Professions Twitter Followers Twitter Following Twitter Reply Count  \\\n",
              "0     Student               190               143                   0   \n",
              "1     Student              2049              1557                   0   \n",
              "2     Student               181               132                   0   \n",
              "3     Student               755               292                   0   \n",
              "4     Student                83                76                   0   \n",
              "\n",
              "  Twitter Retweets Twitter Tweets  \n",
              "0                0           4963  \n",
              "1                0          45642  \n",
              "2                0           3586  \n",
              "3                0           4754  \n",
              "4                0            332  "
            ]
          },
          "metadata": {
            "tags": []
          },
          "execution_count": 74
        }
      ]
    },
    {
      "cell_type": "code",
      "metadata": {
        "id": "2oXWsBwpmgbB"
      },
      "source": [
        "#frame.to_csv('/content/drive/My Drive/data/twitter.csv', index=True)"
      ],
      "execution_count": null,
      "outputs": []
    },
    {
      "cell_type": "code",
      "metadata": {
        "id": "s9IgV_EPizdi"
      },
      "source": [
        "#dfFinalDf.to_csv('/content/drive/My Drive/data/twitter_noscale.csv', index=True)"
      ],
      "execution_count": null,
      "outputs": []
    },
    {
      "cell_type": "code",
      "metadata": {
        "id": "O4068wWHn1__"
      },
      "source": [
        "#dfTempReach = np.where(frame['Twitter Followers'].astype(str).str.isnumeric(), frame['Twitter Followers'], 0)\n",
        "#frame['Kred Outreach'].max()\n",
        "#print(dfTempReach.min())\n",
        "#frame[(~frame['Kred Outreach'].astype(str).str.contains('0|1|2|3|4|5|6|7|8|9')) | (frame['Kred Outreach'].isna())][['Kred Outreach']]\n",
        "#frame['Kred Outreach'].value_counts()"
      ],
      "execution_count": null,
      "outputs": []
    },
    {
      "cell_type": "code",
      "metadata": {
        "id": "00vimHbarOUk"
      },
      "source": [
        "#frame.head(100)"
      ],
      "execution_count": null,
      "outputs": []
    },
    {
      "cell_type": "code",
      "metadata": {
        "id": "kGpkinKSjKTb"
      },
      "source": [
        "#dfraw[(~dfraw['Kred Influence'].astype(str).str.contains('0|1|2|3|4|5|6|7|8|9')) | (dfraw['Kred Influence'].isna())][['Kred Influence', 'Kred Outreach']]"
      ],
      "execution_count": null,
      "outputs": []
    },
    {
      "cell_type": "code",
      "metadata": {
        "id": "xUlwA45ast-L"
      },
      "source": [
        "#dfTempKredI = np.where(dfraw['Kred Influence'].astype(str).str.isnumeric(), dfraw['Kred Influence'], 0)\n",
        "#print(dfTempKredI.max())\n",
        "\n",
        "#dfTempKredO = np.where(dfraw['Kred Outreach'].astype(str).str.isnumeric(), dfraw['Kred Outreach'], 0)\n",
        "#print(dfTempKredO.max())"
      ],
      "execution_count": null,
      "outputs": []
    },
    {
      "cell_type": "code",
      "metadata": {
        "id": "QVOzjGGmtPJ7"
      },
      "source": [
        "#dfraw['Kred Outreach'].tail(200)"
      ],
      "execution_count": null,
      "outputs": []
    },
    {
      "cell_type": "code",
      "metadata": {
        "id": "nBsbQJ99jdjZ"
      },
      "source": [
        "#dfClAn[(~dfClAn['Reach'].astype(str).str.contains('0|1|2|3|4|5|6|7|8|9')) | (dfClAn['Reach'].isna())][['Reach', 'Kred Influence']]"
      ],
      "execution_count": null,
      "outputs": []
    },
    {
      "cell_type": "code",
      "metadata": {
        "id": "UCO269pl8bJ6"
      },
      "source": [
        "#frame.columns"
      ],
      "execution_count": null,
      "outputs": []
    },
    {
      "cell_type": "code",
      "metadata": {
        "id": "YwEOguZ36NJP"
      },
      "source": [
        "#frame['Twitter Followers'].value_counts()"
      ],
      "execution_count": null,
      "outputs": []
    },
    {
      "cell_type": "code",
      "metadata": {
        "id": "YCNMenJC7-r4"
      },
      "source": [
        "#dfraw['Last Assignment Date'].value_counts()"
      ],
      "execution_count": null,
      "outputs": []
    },
    {
      "cell_type": "code",
      "metadata": {
        "id": "zErrNc2w-NEy"
      },
      "source": [
        "dfClAn = dfFinalShortlist.copy()"
      ],
      "execution_count": null,
      "outputs": []
    },
    {
      "cell_type": "code",
      "metadata": {
        "id": "28viOxs2-hGV"
      },
      "source": [
        "Data = dfClAn.drop(['Word Count', 'Last Assignment Date', 'sentimentVader', 'tempType', 'Twitter Verified'], axis=1)"
      ],
      "execution_count": null,
      "outputs": []
    },
    {
      "cell_type": "code",
      "metadata": {
        "id": "H4Z1HOod-bCu"
      },
      "source": [
        "#frame.to_pickle(\"/content/drive/My Drive/data/DataClean.pkl\")"
      ],
      "execution_count": null,
      "outputs": []
    },
    {
      "cell_type": "code",
      "metadata": {
        "id": "kv2oMrbr97VR"
      },
      "source": [
        "#Creating a function to plot Box plot and Histogram\n",
        "def hist_box_plot(df,feature, fig_num):\n",
        "    sns.set(color_codes = 'Blue', style=\"whitegrid\")\n",
        "    sns.set_style(\"whitegrid\", {'axes.grid' : False})\n",
        "    sns.set_context(rc = {'patch.linewidth': 0.0})\n",
        "    fig, (ax1, ax2) = plt.subplots(ncols=2, figsize=(8,3))\n",
        "    filtered = df.loc[~np.isnan(df[feature]), feature]\n",
        "    sns.boxplot(filtered, ax = ax1, color = 'steelblue') # boxplot\n",
        "    sns.distplot(filtered, kde=True, hist=True, kde_kws={'linewidth': 1}, color = 'steelblue', ax = ax2) # histogram\n",
        "    plt.show()"
      ],
      "execution_count": null,
      "outputs": []
    },
    {
      "cell_type": "code",
      "metadata": {
        "id": "sur4mIw999sr"
      },
      "source": [
        "fig_num = 1        \n",
        "for col in Data.select_dtypes(include=[np.number]).columns:\n",
        "    if col in ['Impact','Impressions','Kred Influence','Kred Outreach','Reach','Twitter Followers','Twitter Following','Twitter Reply Count','Twitter Retweets','Twitter Tweets']:\n",
        "        hist_box_plot(Data,col, fig_num)\n",
        "        fig_num = fig_num + 1"
      ],
      "execution_count": null,
      "outputs": []
    },
    {
      "cell_type": "code",
      "metadata": {
        "id": "GYyyIeUn_OdQ"
      },
      "source": [
        "#Creating a function to plot Count plot\n",
        "def count_plot(df,feature):\n",
        "    sns.set(color_codes = 'Blue', style=\"whitegrid\")\n",
        "    sns.set_style(\"whitegrid\", {'axes.grid' : False})\n",
        "    sns.set_context(rc = {'patch.linewidth': 0.0})\n",
        "    fig, ax = plt.subplots(figsize=(10,3))\n",
        "    sns.countplot(x=feature, data=df, color = 'steelblue') # countplot\n",
        "    ax.set_xticklabels(ax.get_xticklabels(), rotation=40, ha=\"right\")\n",
        "    plt.show()"
      ],
      "execution_count": null,
      "outputs": []
    },
    {
      "cell_type": "code",
      "metadata": {
        "id": "GFzN7tKhAfAi",
        "outputId": "579464e1-af34-4b00-893f-f5d471e23832",
        "colab": {
          "base_uri": "https://localhost:8080/",
          "height": 255
        }
      },
      "source": [
        "# Filter categorical variables\n",
        "num_cols = Data._get_numeric_data().columns\n",
        "cols = Data.columns\n",
        "cat_cols = list(set(cols) - set(num_cols))\n",
        "cat_cols"
      ],
      "execution_count": null,
      "outputs": [
        {
          "output_type": "execute_result",
          "data": {
            "text/plain": [
              "['Impact',\n",
              " 'Twitter Following',\n",
              " 'Account Type',\n",
              " 'Kred Outreach',\n",
              " 'Twitter Followers',\n",
              " 'Impressions',\n",
              " 'Gender',\n",
              " 'Twitter Retweets',\n",
              " 'Reach',\n",
              " 'Professions',\n",
              " 'Kred Influence',\n",
              " 'Sentiment',\n",
              " 'Twitter Reply Count',\n",
              " 'Twitter Tweets']"
            ]
          },
          "metadata": {
            "tags": []
          },
          "execution_count": 92
        }
      ]
    },
    {
      "cell_type": "code",
      "metadata": {
        "id": "ztbQ9d8gAiZl",
        "outputId": "c3fd10b3-68be-41df-8190-f6cfd40c149c",
        "colab": {
          "base_uri": "https://localhost:8080/",
          "height": 1000
        }
      },
      "source": [
        "for col in cat_cols:\n",
        "    if col in ['Sentiment', 'Account Type', 'Gender', 'Professions']:\n",
        "        count_plot(Data,col)"
      ],
      "execution_count": null,
      "outputs": [
        {
          "output_type": "display_data",
          "data": {
            "image/png": "[encoded data removed]",
            "text/plain": [
              "<Figure size 720x216 with 1 Axes>"
            ]
          },
          "metadata": {
            "tags": []
          }
        },
        {
          "output_type": "display_data",
          "data": {
            "image/png": "[encoded data removed]",
            "text/plain": [
              "<Figure size 720x216 with 1 Axes>"
            ]
          },
          "metadata": {
            "tags": []
          }
        },
        {
          "output_type": "display_data",
          "data": {
            "image/png": "[encoded data removed]",
            "text/plain": [
              "<Figure size 720x216 with 1 Axes>"
            ]
          },
          "metadata": {
            "tags": []
          }
        },
        {
          "output_type": "display_data",
          "data": {
            "image/png": "[encoded data removed]",
            "text/plain": [
              "<Figure size 720x216 with 1 Axes>"
            ]
          },
          "metadata": {
            "tags": []
          }
        }
      ]
    },
    {
      "cell_type": "code",
      "metadata": {
        "id": "7ZLIGPV5BL-q"
      },
      "source": [
        "def biplot(df, x_name, y_name):\n",
        "    fig, ax = plt.subplots(figsize=(10,3))\n",
        "    ax.grid(False)\n",
        "    x = df[x_name]\n",
        "    y = df[y_name]\n",
        "    plt.scatter(x,y,c='blue', edgecolors='none',alpha=0.5)\n",
        "    plt.xlabel(x_name)\n",
        "    plt.ylabel(y_name)\n",
        "    plt.title('{x_name} vs. {y_name}'.format(x_name=x_name, y_name=y_name))\n",
        "    plt.xticks(rotation=40)\n",
        "    plt.show()\n"
      ],
      "execution_count": null,
      "outputs": []
    },
    {
      "cell_type": "code",
      "metadata": {
        "id": "A2q4jnfpvofa",
        "outputId": "4dfdca34-f98e-4c25-e7a9-fcdba20ac829",
        "colab": {
          "base_uri": "https://localhost:8080/",
          "height": 85
        }
      },
      "source": [
        "Data['Sentiment'].value_counts()"
      ],
      "execution_count": null,
      "outputs": [
        {
          "output_type": "execute_result",
          "data": {
            "text/plain": [
              "neutral     79650\n",
              "positive    16245\n",
              "negative     5422\n",
              "Name: Sentiment, dtype: int64"
            ]
          },
          "metadata": {
            "tags": []
          },
          "execution_count": 95
        }
      ]
    },
    {
      "cell_type": "code",
      "metadata": {
        "id": "Jf_mKxOnDKqa",
        "outputId": "678320a4-d028-4d40-a025-d34cf1d43fdf",
        "colab": {
          "base_uri": "https://localhost:8080/",
          "height": 275
        }
      },
      "source": [
        "biplot(df=Data,x_name='Sentiment',y_name='Impact')"
      ],
      "execution_count": null,
      "outputs": [
        {
          "output_type": "display_data",
          "data": {
            "image/png": "[encoded data removed]",
            "text/plain": [
              "<Figure size 720x216 with 1 Axes>"
            ]
          },
          "metadata": {
            "tags": []
          }
        }
      ]
    },
    {
      "cell_type": "code",
      "metadata": {
        "id": "TM4jk2iaDV1e",
        "outputId": "43466a2a-7f49-4056-9b46-c583343a7268",
        "colab": {
          "base_uri": "https://localhost:8080/",
          "height": 275
        }
      },
      "source": [
        "biplot(df=Data,x_name='Sentiment',y_name='Kred Influence')"
      ],
      "execution_count": null,
      "outputs": [
        {
          "output_type": "display_data",
          "data": {
            "image/png": "[encoded data removed]",
            "text/plain": [
              "<Figure size 720x216 with 1 Axes>"
            ]
          },
          "metadata": {
            "tags": []
          }
        }
      ]
    },
    {
      "cell_type": "code",
      "metadata": {
        "id": "8dnqRFiIDvW-",
        "outputId": "5408be4c-e6a2-4f7f-c93c-5ba3b100a527",
        "colab": {
          "base_uri": "https://localhost:8080/",
          "height": 295
        }
      },
      "source": [
        "biplot(df=Data,x_name='Account Type',y_name='Twitter Followers')"
      ],
      "execution_count": null,
      "outputs": [
        {
          "output_type": "display_data",
          "data": {
            "image/png": "[encoded data removed]",
            "text/plain": [
              "<Figure size 720x216 with 1 Axes>"
            ]
          },
          "metadata": {
            "tags": []
          }
        }
      ]
    },
    {
      "cell_type": "code",
      "metadata": {
        "id": "E94TJrF-D8pV",
        "outputId": "a8d66930-c3a3-449d-8c4b-942f81b8c550",
        "colab": {
          "base_uri": "https://localhost:8080/",
          "height": 295
        }
      },
      "source": [
        "biplot(df=Data,x_name='Account Type',y_name='Twitter Tweets')"
      ],
      "execution_count": null,
      "outputs": [
        {
          "output_type": "display_data",
          "data": {
            "image/png": "[encoded data removed]",
            "text/plain": [
              "<Figure size 720x216 with 1 Axes>"
            ]
          },
          "metadata": {
            "tags": []
          }
        }
      ]
    },
    {
      "cell_type": "code",
      "metadata": {
        "id": "i9hzLIpVEWAk",
        "outputId": "1cf8fcae-4630-4b1e-f010-6c7838cee98e",
        "colab": {
          "base_uri": "https://localhost:8080/",
          "height": 276
        }
      },
      "source": [
        "biplot(df=Data,x_name='Gender',y_name='Impact')"
      ],
      "execution_count": null,
      "outputs": [
        {
          "output_type": "display_data",
          "data": {
            "image/png": "[encoded data removed]",
            "text/plain": [
              "<Figure size 720x216 with 1 Axes>"
            ]
          },
          "metadata": {
            "tags": []
          }
        }
      ]
    },
    {
      "cell_type": "code",
      "metadata": {
        "id": "PW_K5omCEaX0",
        "outputId": "33a78600-8092-414b-c9f0-01c0b048abf6",
        "colab": {
          "base_uri": "https://localhost:8080/",
          "height": 276
        }
      },
      "source": [
        "biplot(df=Data,x_name='Gender',y_name='Kred Influence')"
      ],
      "execution_count": null,
      "outputs": [
        {
          "output_type": "display_data",
          "data": {
            "image/png": "[encoded data removed]",
            "text/plain": [
              "<Figure size 720x216 with 1 Axes>"
            ]
          },
          "metadata": {
            "tags": []
          }
        }
      ]
    },
    {
      "cell_type": "code",
      "metadata": {
        "id": "QZEzb3VoEf_E",
        "outputId": "9011bed3-6a6a-4ec1-9d34-826c6acfd211",
        "colab": {
          "base_uri": "https://localhost:8080/",
          "height": 276
        }
      },
      "source": [
        "biplot(df=Data,x_name='Gender',y_name='Twitter Followers')"
      ],
      "execution_count": null,
      "outputs": [
        {
          "output_type": "display_data",
          "data": {
            "image/png": "[encoded data removed]",
            "text/plain": [
              "<Figure size 720x216 with 1 Axes>"
            ]
          },
          "metadata": {
            "tags": []
          }
        }
      ]
    },
    {
      "cell_type": "code",
      "metadata": {
        "id": "AoCmzUYSElf0",
        "outputId": "8487f9db-8aa2-40dd-b872-0ff825448a9a",
        "colab": {
          "base_uri": "https://localhost:8080/",
          "height": 276
        }
      },
      "source": [
        "biplot(df=Data,x_name='Gender',y_name='Twitter Tweets')"
      ],
      "execution_count": null,
      "outputs": [
        {
          "output_type": "display_data",
          "data": {
            "image/png": "[encoded data removed]",
            "text/plain": [
              "<Figure size 720x216 with 1 Axes>"
            ]
          },
          "metadata": {
            "tags": []
          }
        }
      ]
    },
    {
      "cell_type": "code",
      "metadata": {
        "id": "Bfci9AMeEyej",
        "outputId": "fc2c43ab-1910-45c8-d3f9-f966d8ff8f41",
        "colab": {
          "base_uri": "https://localhost:8080/",
          "height": 330
        }
      },
      "source": [
        "biplot(df=Data,x_name='Professions',y_name='Impact')"
      ],
      "execution_count": null,
      "outputs": [
        {
          "output_type": "display_data",
          "data": {
            "image/png": "[encoded data removed]",
            "text/plain": [
              "<Figure size 720x216 with 1 Axes>"
            ]
          },
          "metadata": {
            "tags": []
          }
        }
      ]
    },
    {
      "cell_type": "code",
      "metadata": {
        "id": "K3MhSq-ME4A4",
        "outputId": "109acd03-0c6b-4c9f-f961-653bfed8bf8c",
        "colab": {
          "base_uri": "https://localhost:8080/",
          "height": 330
        }
      },
      "source": [
        "biplot(df=Data,x_name='Professions',y_name='Kred Influence')"
      ],
      "execution_count": null,
      "outputs": [
        {
          "output_type": "display_data",
          "data": {
            "image/png": "[encoded data removed]",
            "text/plain": [
              "<Figure size 720x216 with 1 Axes>"
            ]
          },
          "metadata": {
            "tags": []
          }
        }
      ]
    },
    {
      "cell_type": "code",
      "metadata": {
        "id": "EkgR68n_E8-L",
        "outputId": "daa5d41f-1a80-496f-b239-f08673f85f19",
        "colab": {
          "base_uri": "https://localhost:8080/",
          "height": 330
        }
      },
      "source": [
        "biplot(df=Data,x_name='Professions',y_name='Twitter Followers')"
      ],
      "execution_count": null,
      "outputs": [
        {
          "output_type": "display_data",
          "data": {
            "image/png": "[encoded data removed]",
            "text/plain": [
              "<Figure size 720x216 with 1 Axes>"
            ]
          },
          "metadata": {
            "tags": []
          }
        }
      ]
    },
    {
      "cell_type": "code",
      "metadata": {
        "id": "9PEP9j6jFCKr",
        "outputId": "10c1287e-000b-4425-d461-45883a14a693",
        "colab": {
          "base_uri": "https://localhost:8080/",
          "height": 330
        }
      },
      "source": [
        "biplot(df=Data,x_name='Professions',y_name='Twitter Tweets')"
      ],
      "execution_count": null,
      "outputs": [
        {
          "output_type": "display_data",
          "data": {
            "image/png": "[encoded data removed]",
            "text/plain": [
              "<Figure size 720x216 with 1 Axes>"
            ]
          },
          "metadata": {
            "tags": []
          }
        }
      ]
    },
    {
      "cell_type": "code",
      "metadata": {
        "id": "KSeRqAtcFWWI",
        "outputId": "4e1e2673-787d-4377-a332-a09cfd9a6f5a",
        "colab": {
          "base_uri": "https://localhost:8080/",
          "height": 255
        }
      },
      "source": [
        "biplot(df=Data,x_name='Impressions',y_name='Twitter Followers')"
      ],
      "execution_count": null,
      "outputs": [
        {
          "output_type": "display_data",
          "data": {
            "image/png": "[encoded data removed]",
            "text/plain": [
              "<Figure size 720x216 with 1 Axes>"
            ]
          },
          "metadata": {
            "tags": []
          }
        }
      ]
    },
    {
      "cell_type": "code",
      "metadata": {
        "id": "MElOBbH2Fbk3",
        "outputId": "74bb4763-2950-4eb7-c2c9-4ea643036fc3",
        "colab": {
          "base_uri": "https://localhost:8080/",
          "height": 262
        }
      },
      "source": [
        "biplot(df=Data,x_name='Kred Influence',y_name='Reach')"
      ],
      "execution_count": null,
      "outputs": [
        {
          "output_type": "display_data",
          "data": {
            "image/png": "[encoded data removed]",
            "text/plain": [
              "<Figure size 720x216 with 1 Axes>"
            ]
          },
          "metadata": {
            "tags": []
          }
        }
      ]
    },
    {
      "cell_type": "code",
      "metadata": {
        "id": "ZH0nkBYh0GXJ",
        "outputId": "cbcca37e-d34f-40eb-eb3b-3f5c4ae1a0bc",
        "colab": {
          "base_uri": "https://localhost:8080/",
          "height": 102
        }
      },
      "source": [
        "#Encode all string values to numeric\n",
        "\n",
        "dfVar = Data.copy()\n",
        "\n",
        "from sklearn.preprocessing import LabelEncoder\n",
        "\n",
        "def encode_df(dataframe):\n",
        "    le = LabelEncoder()\n",
        "    for column in dataframe.columns:\n",
        "        dataframe[column] = le.fit_transform(dataframe[column].astype(str))\n",
        "    return dataframe\n",
        "\n",
        "dfVar = encode_df(dfVar)\n",
        "\n",
        "#Selecting and dropping features with variance threshold of 0.2 : 80% of values are similar\n",
        "\n",
        "dfVar['addLabel']=0\n",
        "\n",
        "from sklearn.model_selection import train_test_split\n",
        "train_features, test_features, train_labels, test_labels=train_test_split(\n",
        "    dfVar.drop(labels=['addLabel'], axis=1),\n",
        "    dfVar['addLabel'],\n",
        "    test_size=0.0001,\n",
        "    random_state=1)\n",
        "\n",
        "from sklearn.feature_selection import VarianceThreshold\n",
        "zero_filter = VarianceThreshold(threshold=0.2)\n",
        "zero_filter.fit(train_features)\n",
        "\n",
        "non_constant_features = len(train_features.columns[zero_filter.get_support()])\n",
        "\n",
        "print(\"Number of non-constant features (to keep): \", non_constant_features)\n",
        "\n",
        "constant_columns = [column for column in train_features.columns\n",
        "                    if column not in train_features.columns[zero_filter.get_support()]]\n",
        "\n",
        "cols_to_keep = [column for column in train_features.columns\n",
        "                    if column in train_features.columns[zero_filter.get_support()]]\n",
        "\n",
        "print(\"Number of constant features with low variance: \", len(constant_columns))\n",
        "\n",
        "print(\"All constant columns with low variance: \\n\")\n",
        "for column in constant_columns:\n",
        "    print(column)"
      ],
      "execution_count": null,
      "outputs": [
        {
          "output_type": "stream",
          "text": [
            "Number of non-constant features (to keep):  13\n",
            "Number of constant features with low variance:  1\n",
            "All constant columns with low variance: \n",
            "\n",
            "Account Type\n"
          ],
          "name": "stdout"
        }
      ]
    },
    {
      "cell_type": "code",
      "metadata": {
        "id": "uegcw06WFiJ_",
        "outputId": "27087020-b00e-4707-a405-18a89b8de5e0",
        "colab": {
          "base_uri": "https://localhost:8080/",
          "height": 255
        }
      },
      "source": [
        "# Installation of the Package follows the following steps:\n",
        "# git clone https://github.com/shakedzy/dython.git\n",
        "!pip install dython"
      ],
      "execution_count": null,
      "outputs": [
        {
          "output_type": "stream",
          "text": [
            "Requirement already satisfied: dython in /usr/local/lib/python3.6/dist-packages (0.5.1)\n",
            "Requirement already satisfied: seaborn in /usr/local/lib/python3.6/dist-packages (from dython) (0.10.1)\n",
            "Requirement already satisfied: numpy in /usr/local/lib/python3.6/dist-packages (from dython) (1.18.5)\n",
            "Requirement already satisfied: pandas in /usr/local/lib/python3.6/dist-packages (from dython) (1.0.5)\n",
            "Requirement already satisfied: scikit-learn in /usr/local/lib/python3.6/dist-packages (from dython) (0.22.2.post1)\n",
            "Requirement already satisfied: scipy in /usr/local/lib/python3.6/dist-packages (from dython) (1.4.1)\n",
            "Requirement already satisfied: matplotlib in /usr/local/lib/python3.6/dist-packages (from dython) (3.2.2)\n",
            "Requirement already satisfied: python-dateutil>=2.6.1 in /usr/local/lib/python3.6/dist-packages (from pandas->dython) (2.8.1)\n",
            "Requirement already satisfied: pytz>=2017.2 in /usr/local/lib/python3.6/dist-packages (from pandas->dython) (2018.9)\n",
            "Requirement already satisfied: joblib>=0.11 in /usr/local/lib/python3.6/dist-packages (from scikit-learn->dython) (0.15.1)\n",
            "Requirement already satisfied: pyparsing!=2.0.4,!=2.1.2,!=2.1.6,>=2.0.1 in /usr/local/lib/python3.6/dist-packages (from matplotlib->dython) (2.4.7)\n",
            "Requirement already satisfied: kiwisolver>=1.0.1 in /usr/local/lib/python3.6/dist-packages (from matplotlib->dython) (1.2.0)\n",
            "Requirement already satisfied: cycler>=0.10 in /usr/local/lib/python3.6/dist-packages (from matplotlib->dython) (0.10.0)\n",
            "Requirement already satisfied: six>=1.5 in /usr/local/lib/python3.6/dist-packages (from python-dateutil>=2.6.1->pandas->dython) (1.12.0)\n"
          ],
          "name": "stdout"
        }
      ]
    },
    {
      "cell_type": "code",
      "metadata": {
        "id": "V7fMp327Fu7x",
        "outputId": "0fe6f62d-7b74-4792-8898-50e5d6cf9627",
        "colab": {
          "base_uri": "https://localhost:8080/",
          "height": 272
        }
      },
      "source": [
        "\n",
        "# Convert all the columns in float to integer for correlation plot as float is not handled\n",
        "for y in Data.columns:\n",
        "    if(y == 'Impact' or y == 'Impact' or y == 'Impressions' or y == 'Kred Influence' or y == 'Kred Outreach' or y == 'Reach' or y == 'Twitter Followers' or y == 'Twitter Following' or y == 'Twitter Reply Count' or y == 'Twitter Retweets' or y == 'Twitter Tweets'):\n",
        "        Data[y] = Data[y].astype(int)\n",
        "\n",
        "Data.dtypes\n"
      ],
      "execution_count": null,
      "outputs": [
        {
          "output_type": "execute_result",
          "data": {
            "text/plain": [
              "Sentiment              object\n",
              "Account Type           object\n",
              "Gender                 object\n",
              "Impact                  int64\n",
              "Impressions             int64\n",
              "Kred Influence          int64\n",
              "Kred Outreach           int64\n",
              "Professions            object\n",
              "Reach                   int64\n",
              "Twitter Followers       int64\n",
              "Twitter Following       int64\n",
              "Twitter Reply Count     int64\n",
              "Twitter Retweets        int64\n",
              "Twitter Tweets          int64\n",
              "dtype: object"
            ]
          },
          "metadata": {
            "tags": []
          },
          "execution_count": 112
        }
      ]
    },
    {
      "cell_type": "code",
      "metadata": {
        "id": "8X38D61WGU0S"
      },
      "source": [
        "Data_Correlation = Data.copy()"
      ],
      "execution_count": null,
      "outputs": []
    },
    {
      "cell_type": "code",
      "metadata": {
        "id": "xgRqnB0X1q6Y",
        "outputId": "68c6cf1c-c2f4-4a96-d235-2fd2bbd49c25",
        "colab": {
          "base_uri": "https://localhost:8080/",
          "height": 68
        }
      },
      "source": [
        "print(len(Data_Correlation))\n",
        "print(len(Data_Correlation[Data_Correlation['Impressions'] == Data_Correlation['Twitter Followers']]))\n",
        "print(len(Data_Correlation[Data_Correlation['Kred Influence'] == Data_Correlation['Reach']]))"
      ],
      "execution_count": null,
      "outputs": [
        {
          "output_type": "stream",
          "text": [
            "101317\n",
            "80580\n",
            "91811\n"
          ],
          "name": "stdout"
        }
      ]
    },
    {
      "cell_type": "code",
      "metadata": {
        "id": "XxqPwGAkuM-y"
      },
      "source": [
        "Data_Correlation = Data_Correlation.drop(['Account Type', 'Impressions', 'Kred Influence'], axis=1)"
      ],
      "execution_count": null,
      "outputs": []
    },
    {
      "cell_type": "code",
      "metadata": {
        "id": "Jm0VoH6mGd6w"
      },
      "source": [
        "from dython.model_utils import roc_graph\n",
        "from dython.nominal import associations\n",
        "\n",
        "def associations_example():\n",
        "    associations(Data_Correlation,nominal_columns=['Sentiment', 'Account Type', 'Gender', 'Professions'])"
      ],
      "execution_count": null,
      "outputs": []
    },
    {
      "cell_type": "code",
      "metadata": {
        "id": "TRaQ8XDDGkOc",
        "outputId": "35d05802-0758-4c22-d930-67cf70ab03c6",
        "colab": {
          "base_uri": "https://localhost:8080/",
          "height": 1000
        }
      },
      "source": [
        "import matplotlib.pyplot as plt\n",
        "plt.rcParams[\"figure.figsize\"]=20,20\n",
        "associations_example()"
      ],
      "execution_count": null,
      "outputs": [
        {
          "output_type": "display_data",
          "data": {
            "image/png": "[encoded data removed]",
            "text/plain": [
              "<Figure size 1440x1440 with 2 Axes>"
            ]
          },
          "metadata": {
            "tags": []
          }
        }
      ]
    },
    {
      "cell_type": "code",
      "metadata": {
        "id": "9kSg_O3n1VW2"
      },
      "source": [
        "Data_Correlation.to_pickle(\"/content/drive/My Drive/data/DataCorrelation2.pkl\")"
      ],
      "execution_count": null,
      "outputs": []
    },
    {
      "cell_type": "code",
      "metadata": {
        "id": "oCkokz3qPztb",
        "outputId": "51faeecd-0e63-4901-b47d-4ff3672dca54",
        "colab": {
          "base_uri": "https://localhost:8080/",
          "height": 85
        }
      },
      "source": [
        "dfImpute['Thread Entry Type'].value_counts()"
      ],
      "execution_count": null,
      "outputs": [
        {
          "output_type": "execute_result",
          "data": {
            "text/plain": [
              "post       85398\n",
              "reply      24068\n",
              "unknown     1122\n",
              "Name: Thread Entry Type, dtype: int64"
            ]
          },
          "metadata": {
            "tags": []
          },
          "execution_count": 119
        }
      ]
    }
  ]
}