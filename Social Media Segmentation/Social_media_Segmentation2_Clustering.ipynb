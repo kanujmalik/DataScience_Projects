{
  "nbformat": 4,
  "nbformat_minor": 0,
  "metadata": {
    "colab": {
      "name": "Social_media_Segmentation2_Clustering.ipynb",
      "provenance": [],
      "collapsed_sections": []
    },
    "kernelspec": {
      "name": "python3",
      "display_name": "Python 3"
    },
    "accelerator": "TPU"
  },
  "cells": [
    {
      "cell_type": "code",
      "metadata": {
        "id": "UqZFu_EN0d-g",
        "outputId": "63c5562a-3cb6-41b0-bf2e-16619ffe3d9c",
        "colab": {
          "base_uri": "https://localhost:8080/",
          "height": 102
        }
      },
      "source": [
        "!pip install kmodes"
      ],
      "execution_count": null,
      "outputs": [
        {
          "output_type": "stream",
          "text": [
            "Requirement already satisfied: kmodes in /usr/local/lib/python3.6/dist-packages (0.10.2)\n",
            "Requirement already satisfied: scikit-learn>=0.19.0 in /usr/local/lib/python3.6/dist-packages (from kmodes) (0.22.2.post1)\n",
            "Requirement already satisfied: numpy>=1.10.4 in /usr/local/lib/python3.6/dist-packages (from kmodes) (1.18.5)\n",
            "Requirement already satisfied: scipy>=0.13.3 in /usr/local/lib/python3.6/dist-packages (from kmodes) (1.4.1)\n",
            "Requirement already satisfied: joblib>=0.11 in /usr/local/lib/python3.6/dist-packages (from kmodes) (0.15.1)\n"
          ],
          "name": "stdout"
        }
      ]
    },
    {
      "cell_type": "code",
      "metadata": {
        "id": "xFb4kXgweFfq",
        "outputId": "c0bf6a74-94c6-4bfa-d921-7a4d55ed0e87",
        "colab": {
          "base_uri": "https://localhost:8080/",
          "height": 204
        }
      },
      "source": [
        "!pip install seaborn"
      ],
      "execution_count": null,
      "outputs": [
        {
          "output_type": "stream",
          "text": [
            "Requirement already satisfied: seaborn in /usr/local/lib/python3.6/dist-packages (0.10.1)\n",
            "Requirement already satisfied: scipy>=1.0.1 in /usr/local/lib/python3.6/dist-packages (from seaborn) (1.4.1)\n",
            "Requirement already satisfied: matplotlib>=2.1.2 in /usr/local/lib/python3.6/dist-packages (from seaborn) (3.2.2)\n",
            "Requirement already satisfied: pandas>=0.22.0 in /usr/local/lib/python3.6/dist-packages (from seaborn) (1.0.5)\n",
            "Requirement already satisfied: numpy>=1.13.3 in /usr/local/lib/python3.6/dist-packages (from seaborn) (1.18.5)\n",
            "Requirement already satisfied: python-dateutil>=2.1 in /usr/local/lib/python3.6/dist-packages (from matplotlib>=2.1.2->seaborn) (2.8.1)\n",
            "Requirement already satisfied: pyparsing!=2.0.4,!=2.1.2,!=2.1.6,>=2.0.1 in /usr/local/lib/python3.6/dist-packages (from matplotlib>=2.1.2->seaborn) (2.4.7)\n",
            "Requirement already satisfied: kiwisolver>=1.0.1 in /usr/local/lib/python3.6/dist-packages (from matplotlib>=2.1.2->seaborn) (1.2.0)\n",
            "Requirement already satisfied: cycler>=0.10 in /usr/local/lib/python3.6/dist-packages (from matplotlib>=2.1.2->seaborn) (0.10.0)\n",
            "Requirement already satisfied: pytz>=2017.2 in /usr/local/lib/python3.6/dist-packages (from pandas>=0.22.0->seaborn) (2018.9)\n",
            "Requirement already satisfied: six>=1.5 in /usr/local/lib/python3.6/dist-packages (from python-dateutil>=2.1->matplotlib>=2.1.2->seaborn) (1.12.0)\n"
          ],
          "name": "stdout"
        }
      ]
    },
    {
      "cell_type": "code",
      "metadata": {
        "id": "xCERBo5P0lrW",
        "outputId": "cf135b0f-6a85-433f-ce3b-a80119eea1bc",
        "colab": {
          "base_uri": "https://localhost:8080/",
          "height": 71
        }
      },
      "source": [
        "import pandas as pd\n",
        "import os\n",
        "import glob\n",
        "import numpy as np\n",
        "\n",
        "import random\n",
        "from kmodes.kprototypes import KPrototypes\n",
        "import matplotlib.pyplot as plt\n",
        "from matplotlib import style\n",
        "import seaborn as sns\n",
        "import warnings\n",
        "warnings.filterwarnings(\"ignore\")\n",
        "from sklearn.cluster import KMeans\n",
        "from kmodes.kmodes import KModes\n",
        "import math"
      ],
      "execution_count": null,
      "outputs": [
        {
          "output_type": "stream",
          "text": [
            "/usr/local/lib/python3.6/dist-packages/statsmodels/tools/_testing.py:19: FutureWarning: pandas.util.testing is deprecated. Use the functions in the public API at pandas.testing instead.\n",
            "  import pandas.util.testing as tm\n"
          ],
          "name": "stderr"
        }
      ]
    },
    {
      "cell_type": "code",
      "metadata": {
        "id": "qs_173yt8uT8"
      },
      "source": [
        "\"\"\"\n",
        "Numerical only: Elbow method - Calculate optimal number of clusters\n",
        "\"\"\"\n",
        "def calculate_wcss(data, clustMethod):\n",
        "  wcss = []\n",
        "  if clustMethod=='KMeans':\n",
        "    for n in range(2, 15):\n",
        "      kmeans = KMeans(n_clusters=n, random_state=42)\n",
        "      kmeans.fit(X=data)\n",
        "      wcss.append(kmeans.inertia_)\n",
        "  \n",
        "  elif clustMethod=='KPrototypes':\n",
        "    for n in range(2, 15):\n",
        "      kproto = KPrototypes(n_clusters=n, init='Huang', random_state=42)\n",
        "      kproto.fit(X=data, categorical=[0,1,2])\n",
        "      wcss.append(kproto.cost_)\n",
        "\n",
        "  else:\n",
        "    for n in range(2, 15):\n",
        "      kmodes = KModes(n_clusters=n, init='Huang', random_state=42)\n",
        "      kmodes.fit(X=data)\n",
        "      wcss.append(kmodes.cost_)    \n",
        "\n",
        "  return wcss\n",
        "    \n",
        "    \n",
        "def optimal_number_of_clusters(wcss):\n",
        "  x1, y1 = 2, wcss[0]\n",
        "  x2, y2 = 20, wcss[len(wcss)-1]\n",
        "\n",
        "  distances = []\n",
        "  for i in range(len(wcss)):\n",
        "    x0 = i+2\n",
        "    y0 = wcss[i]\n",
        "    numerator = abs((y2-y1)*x0 - (x2-x1)*y0 + x2*y1 - y2*x1)\n",
        "    denominator = math.sqrt((y2 - y1)**2 + (x2 - x1)**2)\n",
        "    distances.append(numerator/denominator)\n",
        "    \n",
        "  return distances.index(max(distances)) + 2"
      ],
      "execution_count": null,
      "outputs": []
    },
    {
      "cell_type": "code",
      "metadata": {
        "id": "i3IyMFWv0ptF"
      },
      "source": [
        "pd.options.display.max_rows=4000\n",
        "pd.options.display.max_columns= None"
      ],
      "execution_count": null,
      "outputs": []
    },
    {
      "cell_type": "code",
      "metadata": {
        "id": "dxd3qdKs0r8V",
        "outputId": "77679755-d8be-471c-eee6-da8db868a01a",
        "colab": {
          "base_uri": "https://localhost:8080/",
          "height": 34
        }
      },
      "source": [
        "from google.colab import drive\n",
        "drive.mount(\"/content/drive\", force_remount=True)"
      ],
      "execution_count": null,
      "outputs": [
        {
          "output_type": "stream",
          "text": [
            "Mounted at /content/drive\n"
          ],
          "name": "stdout"
        }
      ]
    },
    {
      "cell_type": "code",
      "metadata": {
        "id": "vZsKb1cf0xfE"
      },
      "source": [
        "#Data = pd.read_pickle('/content/drive/My Drive/data/DataCorrelation.pkl')"
      ],
      "execution_count": null,
      "outputs": []
    },
    {
      "cell_type": "code",
      "metadata": {
        "id": "Eb6LVNKPt0yu"
      },
      "source": [
        "Data = pd.read_pickle('/content/drive/My Drive/data/DataCorrelation2.pkl')"
      ],
      "execution_count": null,
      "outputs": []
    },
    {
      "cell_type": "code",
      "metadata": {
        "id": "53ebxjSpAGBT"
      },
      "source": [
        "Data = Data.drop(['Twitter Retweets'], axis=1)"
      ],
      "execution_count": null,
      "outputs": []
    },
    {
      "cell_type": "code",
      "metadata": {
        "id": "wzUJRQ4Tm7Xe",
        "outputId": "97736f74-f59e-49ad-bb8f-40de0657803c",
        "colab": {
          "base_uri": "https://localhost:8080/",
          "height": 34
        }
      },
      "source": [
        "\"\"\"\n",
        "Test Data\n",
        "\n",
        "Data = Data.head(100)\n",
        "\"\"\""
      ],
      "execution_count": null,
      "outputs": [
        {
          "output_type": "execute_result",
          "data": {
            "text/plain": [
              "'\\nTest Data\\n\\nData = Data.head(100)\\n'"
            ]
          },
          "metadata": {
            "tags": []
          },
          "execution_count": 10
        }
      ]
    },
    {
      "cell_type": "code",
      "metadata": {
        "id": "gp5NOF9jcvDt",
        "outputId": "fa2a1762-ede2-422a-990e-bd2eab99cef8",
        "colab": {
          "base_uri": "https://localhost:8080/",
          "height": 204
        }
      },
      "source": [
        "Data.dtypes"
      ],
      "execution_count": null,
      "outputs": [
        {
          "output_type": "execute_result",
          "data": {
            "text/plain": [
              "Sentiment              object\n",
              "Gender                 object\n",
              "Impact                  int64\n",
              "Kred Outreach           int64\n",
              "Professions            object\n",
              "Reach                   int64\n",
              "Twitter Followers       int64\n",
              "Twitter Following       int64\n",
              "Twitter Reply Count     int64\n",
              "Twitter Tweets          int64\n",
              "dtype: object"
            ]
          },
          "metadata": {
            "tags": []
          },
          "execution_count": 11
        }
      ]
    },
    {
      "cell_type": "code",
      "metadata": {
        "id": "OPIY3SVAKkdg"
      },
      "source": [
        "dfOrig = Data.copy()"
      ],
      "execution_count": null,
      "outputs": []
    },
    {
      "cell_type": "code",
      "metadata": {
        "id": "YIFRauWDYGkX",
        "outputId": "14fc4b8e-8ade-4f0b-bc94-22041ae95133",
        "colab": {
          "base_uri": "https://localhost:8080/",
          "height": 272
        }
      },
      "source": [
        "# Standardizing all the numerical variables\n",
        "from sklearn import preprocessing\n",
        "Num_features=Data.select_dtypes(include=[np.number]).columns\n",
        "Cat_features = Data.select_dtypes(include=[np.object]).columns\n",
        "print(Num_features)\n",
        "print(Cat_features)\n",
        "Data[Num_features]=preprocessing.MinMaxScaler().fit_transform(Data[Num_features])\n",
        "#Data[Cat_features]=preprocessing.LabelEncoder().fit_transform(Data[Cat_features])\n",
        "Data.head()\n"
      ],
      "execution_count": null,
      "outputs": [
        {
          "output_type": "stream",
          "text": [
            "Index(['Impact', 'Kred Outreach', 'Reach', 'Twitter Followers',\n",
            "       'Twitter Following', 'Twitter Reply Count', 'Twitter Tweets'],\n",
            "      dtype='object')\n",
            "Index(['Sentiment', 'Gender', 'Professions'], dtype='object')\n"
          ],
          "name": "stdout"
        },
        {
          "output_type": "execute_result",
          "data": {
            "text/html": [
              "<div>\n",
              "<style scoped>\n",
              "    .dataframe tbody tr th:only-of-type {\n",
              "        vertical-align: middle;\n",
              "    }\n",
              "\n",
              "    .dataframe tbody tr th {\n",
              "        vertical-align: top;\n",
              "    }\n",
              "\n",
              "    .dataframe thead th {\n",
              "        text-align: right;\n",
              "    }\n",
              "</style>\n",
              "<table border=\"1\" class=\"dataframe\">\n",
              "  <thead>\n",
              "    <tr style=\"text-align: right;\">\n",
              "      <th></th>\n",
              "      <th>Sentiment</th>\n",
              "      <th>Gender</th>\n",
              "      <th>Impact</th>\n",
              "      <th>Kred Outreach</th>\n",
              "      <th>Professions</th>\n",
              "      <th>Reach</th>\n",
              "      <th>Twitter Followers</th>\n",
              "      <th>Twitter Following</th>\n",
              "      <th>Twitter Reply Count</th>\n",
              "      <th>Twitter Tweets</th>\n",
              "    </tr>\n",
              "  </thead>\n",
              "  <tbody>\n",
              "    <tr>\n",
              "      <th>0</th>\n",
              "      <td>neutral</td>\n",
              "      <td>female</td>\n",
              "      <td>0.395062</td>\n",
              "      <td>0.000000</td>\n",
              "      <td>Student</td>\n",
              "      <td>0.000141</td>\n",
              "      <td>0.000022</td>\n",
              "      <td>0.000046</td>\n",
              "      <td>0.0</td>\n",
              "      <td>0.002374</td>\n",
              "    </tr>\n",
              "    <tr>\n",
              "      <th>1</th>\n",
              "      <td>negative</td>\n",
              "      <td>female</td>\n",
              "      <td>0.518519</td>\n",
              "      <td>0.000000</td>\n",
              "      <td>Student</td>\n",
              "      <td>0.000181</td>\n",
              "      <td>0.000238</td>\n",
              "      <td>0.000496</td>\n",
              "      <td>0.0</td>\n",
              "      <td>0.021837</td>\n",
              "    </tr>\n",
              "    <tr>\n",
              "      <th>2</th>\n",
              "      <td>neutral</td>\n",
              "      <td>female</td>\n",
              "      <td>0.333333</td>\n",
              "      <td>0.166667</td>\n",
              "      <td>Student</td>\n",
              "      <td>0.000117</td>\n",
              "      <td>0.000021</td>\n",
              "      <td>0.000042</td>\n",
              "      <td>0.0</td>\n",
              "      <td>0.001716</td>\n",
              "    </tr>\n",
              "    <tr>\n",
              "      <th>3</th>\n",
              "      <td>neutral</td>\n",
              "      <td>female</td>\n",
              "      <td>0.432099</td>\n",
              "      <td>0.333333</td>\n",
              "      <td>Student</td>\n",
              "      <td>0.000151</td>\n",
              "      <td>0.000088</td>\n",
              "      <td>0.000093</td>\n",
              "      <td>0.0</td>\n",
              "      <td>0.002275</td>\n",
              "    </tr>\n",
              "    <tr>\n",
              "      <th>4</th>\n",
              "      <td>positive</td>\n",
              "      <td>male</td>\n",
              "      <td>0.358025</td>\n",
              "      <td>0.000000</td>\n",
              "      <td>Student</td>\n",
              "      <td>0.000127</td>\n",
              "      <td>0.000010</td>\n",
              "      <td>0.000024</td>\n",
              "      <td>0.0</td>\n",
              "      <td>0.000159</td>\n",
              "    </tr>\n",
              "  </tbody>\n",
              "</table>\n",
              "</div>"
            ],
            "text/plain": [
              "  Sentiment  Gender    Impact  Kred Outreach Professions     Reach  \\\n",
              "0   neutral  female  0.395062       0.000000     Student  0.000141   \n",
              "1  negative  female  0.518519       0.000000     Student  0.000181   \n",
              "2   neutral  female  0.333333       0.166667     Student  0.000117   \n",
              "3   neutral  female  0.432099       0.333333     Student  0.000151   \n",
              "4  positive    male  0.358025       0.000000     Student  0.000127   \n",
              "\n",
              "   Twitter Followers  Twitter Following  Twitter Reply Count  Twitter Tweets  \n",
              "0           0.000022           0.000046                  0.0        0.002374  \n",
              "1           0.000238           0.000496                  0.0        0.021837  \n",
              "2           0.000021           0.000042                  0.0        0.001716  \n",
              "3           0.000088           0.000093                  0.0        0.002275  \n",
              "4           0.000010           0.000024                  0.0        0.000159  "
            ]
          },
          "metadata": {
            "tags": []
          },
          "execution_count": 13
        }
      ]
    },
    {
      "cell_type": "code",
      "metadata": {
        "id": "zJv5RTv7dWkO",
        "outputId": "27e32735-051b-4b8f-dcd7-c5c28419e872",
        "colab": {
          "base_uri": "https://localhost:8080/",
          "height": 142
        }
      },
      "source": [
        "\n",
        "# Categorical boolean mask\n",
        "categorical_feature_mask = Data.dtypes==object\n",
        "# filter categorical columns using mask and turn it into a list\n",
        "categorical_cols = Data.columns[categorical_feature_mask].tolist()\n",
        "\n",
        "# import labelencoder\n",
        "from sklearn.preprocessing import LabelEncoder\n",
        "# instantiate labelencoder object\n",
        "le = LabelEncoder()\n",
        "\n",
        "# apply le on categorical feature columns\n",
        "Data[categorical_cols] = Data[categorical_cols].apply(lambda col: le.fit_transform(col))\n",
        "Data.head(3)\n"
      ],
      "execution_count": null,
      "outputs": [
        {
          "output_type": "execute_result",
          "data": {
            "text/html": [
              "<div>\n",
              "<style scoped>\n",
              "    .dataframe tbody tr th:only-of-type {\n",
              "        vertical-align: middle;\n",
              "    }\n",
              "\n",
              "    .dataframe tbody tr th {\n",
              "        vertical-align: top;\n",
              "    }\n",
              "\n",
              "    .dataframe thead th {\n",
              "        text-align: right;\n",
              "    }\n",
              "</style>\n",
              "<table border=\"1\" class=\"dataframe\">\n",
              "  <thead>\n",
              "    <tr style=\"text-align: right;\">\n",
              "      <th></th>\n",
              "      <th>Sentiment</th>\n",
              "      <th>Gender</th>\n",
              "      <th>Impact</th>\n",
              "      <th>Kred Outreach</th>\n",
              "      <th>Professions</th>\n",
              "      <th>Reach</th>\n",
              "      <th>Twitter Followers</th>\n",
              "      <th>Twitter Following</th>\n",
              "      <th>Twitter Reply Count</th>\n",
              "      <th>Twitter Tweets</th>\n",
              "    </tr>\n",
              "  </thead>\n",
              "  <tbody>\n",
              "    <tr>\n",
              "      <th>0</th>\n",
              "      <td>1</td>\n",
              "      <td>0</td>\n",
              "      <td>0.395062</td>\n",
              "      <td>0.000000</td>\n",
              "      <td>11</td>\n",
              "      <td>0.000141</td>\n",
              "      <td>0.000022</td>\n",
              "      <td>0.000046</td>\n",
              "      <td>0.0</td>\n",
              "      <td>0.002374</td>\n",
              "    </tr>\n",
              "    <tr>\n",
              "      <th>1</th>\n",
              "      <td>0</td>\n",
              "      <td>0</td>\n",
              "      <td>0.518519</td>\n",
              "      <td>0.000000</td>\n",
              "      <td>11</td>\n",
              "      <td>0.000181</td>\n",
              "      <td>0.000238</td>\n",
              "      <td>0.000496</td>\n",
              "      <td>0.0</td>\n",
              "      <td>0.021837</td>\n",
              "    </tr>\n",
              "    <tr>\n",
              "      <th>2</th>\n",
              "      <td>1</td>\n",
              "      <td>0</td>\n",
              "      <td>0.333333</td>\n",
              "      <td>0.166667</td>\n",
              "      <td>11</td>\n",
              "      <td>0.000117</td>\n",
              "      <td>0.000021</td>\n",
              "      <td>0.000042</td>\n",
              "      <td>0.0</td>\n",
              "      <td>0.001716</td>\n",
              "    </tr>\n",
              "  </tbody>\n",
              "</table>\n",
              "</div>"
            ],
            "text/plain": [
              "   Sentiment  Gender    Impact  Kred Outreach  Professions     Reach  \\\n",
              "0          1       0  0.395062       0.000000           11  0.000141   \n",
              "1          0       0  0.518519       0.000000           11  0.000181   \n",
              "2          1       0  0.333333       0.166667           11  0.000117   \n",
              "\n",
              "   Twitter Followers  Twitter Following  Twitter Reply Count  Twitter Tweets  \n",
              "0           0.000022           0.000046                  0.0        0.002374  \n",
              "1           0.000238           0.000496                  0.0        0.021837  \n",
              "2           0.000021           0.000042                  0.0        0.001716  "
            ]
          },
          "metadata": {
            "tags": []
          },
          "execution_count": 14
        }
      ]
    },
    {
      "cell_type": "code",
      "metadata": {
        "id": "UIrSz80HtHZE",
        "outputId": "2e3207e6-6433-4729-d096-c30568550ffc",
        "colab": {
          "base_uri": "https://localhost:8080/",
          "height": 85
        }
      },
      "source": [
        "#Selection of variables for Kmodes Clustering Algorithm\n",
        "Data_k= Data[['Sentiment', 'Gender', 'Professions']]\n",
        "#Data_k = Data.copy()\n",
        "print (Data_k.dtypes)"
      ],
      "execution_count": null,
      "outputs": [
        {
          "output_type": "stream",
          "text": [
            "Sentiment      int64\n",
            "Gender         int64\n",
            "Professions    int64\n",
            "dtype: object\n"
          ],
          "name": "stdout"
        }
      ]
    },
    {
      "cell_type": "code",
      "metadata": {
        "id": "P5FjHxtjtV3J"
      },
      "source": [
        "kmodes = KModes(n_clusters=11, init='Huang', random_state=42)\n",
        "clusters = kmodes.fit_predict(Data_k)\n",
        "Data_k['Cluster'] = clusters"
      ],
      "execution_count": null,
      "outputs": []
    },
    {
      "cell_type": "code",
      "metadata": {
        "id": "MslcqGLamEKF",
        "outputId": "e3f880df-6d20-4892-856e-1298e57f186c",
        "colab": {
          "base_uri": "https://localhost:8080/",
          "height": 788
        }
      },
      "source": [
        "#Visualize K-Modes clustering \n",
        "print (Data_k['Cluster'].value_counts())\n",
        "sns.pairplot(Data_k,hue='Cluster',palette='Dark2',diag_kind='kde')"
      ],
      "execution_count": null,
      "outputs": [
        {
          "output_type": "stream",
          "text": [
            "1     36205\n",
            "3     17775\n",
            "9     15064\n",
            "4      8278\n",
            "0      6936\n",
            "2      5858\n",
            "8      4082\n",
            "5      2685\n",
            "10     2212\n",
            "7      1267\n",
            "6       955\n",
            "Name: Cluster, dtype: int64\n"
          ],
          "name": "stdout"
        },
        {
          "output_type": "execute_result",
          "data": {
            "text/plain": [
              "<seaborn.axisgrid.PairGrid at 0x7f29dca7bb38>"
            ]
          },
          "metadata": {
            "tags": []
          },
          "execution_count": 17
        },
        {
          "output_type": "display_data",
          "data": {
            "image/png": "[encoded data removed]",
            "text/plain": [
              "<Figure size 588.625x540 with 12 Axes>"
            ]
          },
          "metadata": {
            "tags": [],
            "needs_background": "light"
          }
        }
      ]
    },
    {
      "cell_type": "code",
      "metadata": {
        "id": "xChGfo_RxKBE"
      },
      "source": [
        "#dataClusters = dfOrig.copy()\n",
        "#dataClusters['Cluster']=clusters\n",
        "#dataClusters.to_pickle(\"/content/drive/My Drive/data/kmodes_orig.pkl\")\n",
        "#Data_k.to_pickle(\"/content/drive/My Drive/data/kmodes_scaled.pkl\")"
      ],
      "execution_count": null,
      "outputs": []
    },
    {
      "cell_type": "code",
      "metadata": {
        "id": "e2rC7G9RleFq"
      },
      "source": [
        "dfDummies = Data_k.copy()\n",
        "#dfDummies = pd.concat((dfDummies, pd.get_dummies(dfDummies, columns=['Sentiment', 'Gender', 'Professions'], drop_first=True)),axis=1)\n",
        "Data_k.head(1)\n",
        "dfDummies.head(1)\n",
        "dfDummies = pd.get_dummies(dfDummies, columns=['Sentiment', 'Gender', 'Professions'], prefix=['S', 'G', 'P'])\n",
        "dfDummies.head(1)\n",
        "#dfCat = pd.get_dummies(dfDummies['Sentiment', 'Gender', 'Professions'])\n",
        "#dfCat.head()\n",
        "#dfDummies = pd.concat([dfDummies.drop(['Sentiment', 'Gender', 'Professions'], axis=1), pd.get_dummies(dfDummies['Sentiment', 'Gender', 'Professions'])], axis=1)\n",
        "#dfDummies.head()\n",
        "\n",
        "dfDummies = dfDummies.rename(columns={'S_0':'Sent_negative', 'S_1':'Sent_neutral', 'S_2':'Sent_positive', 'G_0':'female', 'G_1':'male', 'G_2':'gender_unk', \\\n",
        "                                      'P_0': 'Artist', 'P_1':'Emerg_worker', 'P_2':'Executive', 'P_3':'Health_prac', 'P_4':'Journalist', 'P_5':'Legal', \\\n",
        "                                      'P_6':'Politician', 'P_7':'PR', 'P_8':'Scientist', 'P_9':'IT', 'P_10':'Sportsperson', 'P_11':'Student', 'P_12':'Teacher'})\n"
      ],
      "execution_count": null,
      "outputs": []
    },
    {
      "cell_type": "code",
      "metadata": {
        "id": "sUbNzGTMlvIn"
      },
      "source": [
        "df_mean = dfDummies.copy()\n",
        "#df_mean = (df_mean.loc[df_mean['Cluster_id_K_Prototype'], :].groupby('Cluster_id_K_Prototype').mean())\n",
        "df_mean = df_mean.groupby('Cluster').mean()"
      ],
      "execution_count": null,
      "outputs": []
    },
    {
      "cell_type": "code",
      "metadata": {
        "id": "cyxOUj_dl08u",
        "outputId": "6d655a27-ebdb-4c21-e914-84eb4133e9a7",
        "colab": {
          "base_uri": "https://localhost:8080/",
          "height": 296
        }
      },
      "source": [
        "dfPCA = dfDummies.copy()\n",
        "results = pd.DataFrame(columns=['Variable', 'Var'])\n",
        "for column in df_mean.columns[0:]:\n",
        "    results.loc[len(results), :] = [column, np.var(df_mean[column])]\n",
        "selected_columns = list(results.sort_values(\n",
        "        'Var', ascending=False,\n",
        "    ).head(7).Variable.values) + ['Cluster']\n",
        "tidy = dfDummies[selected_columns].melt(id_vars='Cluster')\n",
        "sns.barplot(x='Cluster', y='value', hue='variable', data=tidy)"
      ],
      "execution_count": null,
      "outputs": [
        {
          "output_type": "execute_result",
          "data": {
            "text/plain": [
              "<matplotlib.axes._subplots.AxesSubplot at 0x7f29dbb965c0>"
            ]
          },
          "metadata": {
            "tags": []
          },
          "execution_count": 21
        },
        {
          "output_type": "display_data",
          "data": {
            "image/png": "[encoded data removed]",
            "text/plain": [
              "<Figure size 432x288 with 1 Axes>"
            ]
          },
          "metadata": {
            "tags": [],
            "needs_background": "light"
          }
        }
      ]
    }
  ]
}